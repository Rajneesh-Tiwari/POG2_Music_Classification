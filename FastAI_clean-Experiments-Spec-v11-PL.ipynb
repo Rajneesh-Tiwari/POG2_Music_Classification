{
 "cells": [
  {
   "cell_type": "code",
   "execution_count": null,
   "id": "898cd1d1",
   "metadata": {
    "_cell_guid": "b1076dfc-b9ad-4769-8c92-a6c4dae69d19",
    "_uuid": "8f2839f25d086af736a60e9eeb907d3b93b6e0e5",
    "execution": {
     "iopub.execute_input": "2022-03-13T22:07:08.725227Z",
     "iopub.status.busy": "2022-03-13T22:07:08.723535Z",
     "iopub.status.idle": "2022-03-13T22:07:12.476152Z",
     "shell.execute_reply": "2022-03-13T22:07:12.475433Z",
     "shell.execute_reply.started": "2022-03-13T21:30:10.356204Z"
    },
    "papermill": {
     "duration": 3.780887,
     "end_time": "2022-03-13T22:07:12.476357",
     "exception": false,
     "start_time": "2022-03-13T22:07:08.695470",
     "status": "completed"
    },
    "scrolled": false,
    "tags": []
   },
   "outputs": [],
   "source": [
    "from fastai.vision.all import *\n",
    "import torchaudio\n",
    "import librosa\n",
    "from nnAudio.features.cqt import CQT1992v2\n",
    "from scipy.signal import tukey\n"
   ]
  },
  {
   "cell_type": "code",
   "execution_count": null,
   "id": "8d6ac190",
   "metadata": {},
   "outputs": [],
   "source": [
    "class CFG:\n",
    "    apex=False\n",
    "    debug=False\n",
    "    print_freq=100\n",
    "    num_workers=4\n",
    "    model_name='tf_efficientnet_b7_ns'\n",
    "    scheduler='CosineAnnealingLR' # ['ReduceLROnPlateau', 'CosineAnnealingLR', 'CosineAnnealingWarmRestarts']\n",
    "    epochs=3\n",
    "    #factor=0.2 # ReduceLROnPlateau\n",
    "    #patience=4 # ReduceLROnPlateau\n",
    "    #eps=1e-6 # ReduceLROnPlateau\n",
    "    T_max=3 # CosineAnnealingLR\n",
    "    #T_0=3 # CosineAnnealingWarmRestarts\n",
    "    lr=1e-4\n",
    "    min_lr=1e-6\n",
    "    batch_size=48\n",
    "    weight_decay=1e-6\n",
    "    gradient_accumulation_steps=1\n",
    "    max_grad_norm=1000\n",
    "    qtransform_params={\"hop_length\": 1024, \"n_bins\": 64,'fmax':None}    \n",
    "    seed=42\n",
    "    target_size=1\n",
    "    target_col='target'\n",
    "    n_fold=5\n",
    "    trn_fold=[0] # [0, 1, 2, 3, 4]\n",
    "    train=True\n",
    "    grad_cam=False\n"
   ]
  },
  {
   "cell_type": "code",
   "execution_count": null,
   "id": "4555d024",
   "metadata": {
    "execution": {
     "iopub.execute_input": "2022-03-13T22:07:12.524391Z",
     "iopub.status.busy": "2022-03-13T22:07:12.523651Z",
     "iopub.status.idle": "2022-03-13T22:07:12.583307Z",
     "shell.execute_reply": "2022-03-13T22:07:12.582851Z",
     "shell.execute_reply.started": "2022-03-13T19:39:18.337501Z"
    },
    "papermill": {
     "duration": 0.085451,
     "end_time": "2022-03-13T22:07:12.583427",
     "exception": false,
     "start_time": "2022-03-13T22:07:12.497976",
     "status": "completed"
    },
    "tags": []
   },
   "outputs": [],
   "source": [
    "df_train = pd.read_csv(r'C:\\Users\\Kaggle\\Pog_Music_Classification/train.csv')\n",
    "df_test = pd.read_csv(r'C:\\Users\\Kaggle\\Pog_Music_Classification/test.csv')\n",
    "submission = pd.read_csv(r'C:\\Users\\Kaggle\\Pog_Music_Classification/sample_submission.csv')"
   ]
  },
  {
   "cell_type": "code",
   "execution_count": null,
   "id": "956619e5",
   "metadata": {
    "execution": {
     "iopub.execute_input": "2022-03-13T22:07:12.630375Z",
     "iopub.status.busy": "2022-03-13T22:07:12.629617Z",
     "iopub.status.idle": "2022-03-13T22:07:12.631565Z",
     "shell.execute_reply": "2022-03-13T22:07:12.631935Z",
     "shell.execute_reply.started": "2022-03-13T19:39:18.423524Z"
    },
    "papermill": {
     "duration": 0.02696,
     "end_time": "2022-03-13T22:07:12.632057",
     "exception": false,
     "start_time": "2022-03-13T22:07:12.605097",
     "status": "completed"
    },
    "tags": []
   },
   "outputs": [],
   "source": [
    "train_path = Path('C:/Users/Kaggle/Pog_Music_Classification/train/')\n",
    "test_path = Path('C:/Users/Kaggle/Pog_Music_Classification/test/')"
   ]
  },
  {
   "cell_type": "code",
   "execution_count": null,
   "id": "6925d653",
   "metadata": {
    "scrolled": false
   },
   "outputs": [],
   "source": [
    "print(df_train.shape,df_test.shape)"
   ]
  },
  {
   "cell_type": "code",
   "execution_count": null,
   "id": "3b15eb00",
   "metadata": {},
   "outputs": [],
   "source": [
    "df_train.head()"
   ]
  },
  {
   "cell_type": "code",
   "execution_count": null,
   "id": "ad290c42",
   "metadata": {},
   "outputs": [],
   "source": [
    "import glob\n",
    "valid_filenames = []\n",
    "for i in glob.glob(r'C:/Users/Kaggle/Pog_Music_Classification/resampled_16k/train/*.npy'):\n",
    "    fnames = (i.split('\\\\')[1])\n",
    "    valid_filenames.append(fnames.split('.')[0]+'.ogg')"
   ]
  },
  {
   "cell_type": "code",
   "execution_count": null,
   "id": "a828d715",
   "metadata": {},
   "outputs": [],
   "source": [
    "import glob\n",
    "valid_filenames_test = []\n",
    "for i in glob.glob(r'C:/Users/Kaggle/Pog_Music_Classification/resampled_16k/test/*.npy'):\n",
    "    fnames = (i.split('\\\\')[1])\n",
    "    valid_filenames_test.append(fnames.split('.')[0]+'.ogg')"
   ]
  },
  {
   "cell_type": "code",
   "execution_count": null,
   "id": "51241a65",
   "metadata": {},
   "outputs": [],
   "source": [
    "valid_filenames"
   ]
  },
  {
   "cell_type": "code",
   "execution_count": null,
   "id": "37261605",
   "metadata": {},
   "outputs": [],
   "source": [
    "df_train = df_train[df_train['filename'].isin(valid_filenames)].reset_index(drop=True)\n",
    "df_test_valid = df_test[df_test['filename'].isin(valid_filenames_test)].reset_index(drop=True)"
   ]
  },
  {
   "cell_type": "code",
   "execution_count": null,
   "id": "0a87d663",
   "metadata": {},
   "outputs": [],
   "source": [
    "### Some files giving exception in cqt\n",
    "df_train = df_train[df_train['song_id']!=17400].reset_index(drop=True)"
   ]
  },
  {
   "cell_type": "code",
   "execution_count": null,
   "id": "bb7253f8",
   "metadata": {
    "scrolled": false
   },
   "outputs": [],
   "source": [
    "print(df_train.shape,df_test.shape)"
   ]
  },
  {
   "cell_type": "markdown",
   "id": "2898f0c4",
   "metadata": {},
   "source": [
    "### Upsample minority classes"
   ]
  },
  {
   "cell_type": "code",
   "execution_count": null,
   "id": "a7505a51",
   "metadata": {
    "scrolled": true
   },
   "outputs": [],
   "source": [
    "df_train['genre_id'].value_counts()"
   ]
  },
  {
   "cell_type": "code",
   "execution_count": null,
   "id": "209f87c0",
   "metadata": {},
   "outputs": [],
   "source": [
    "ExtremeMinority = [18]\n",
    "SomeMinority = [17]\n",
    "LowMinority = [14,15,16]\n",
    "\n",
    "# df_train = pd.concat([df_train,df_train[df_train['genre_id'].isin(ExtremeMinority)].sample(n=37,replace=True,random_state=42)],0).reset_index(drop=True)\n",
    "# df_train = pd.concat([df_train,df_train[df_train['genre_id'].isin(SomeMinority)].sample(n=42,replace=True,random_state=42)],0).reset_index(drop=True)\n",
    "# df_train = pd.concat([df_train,df_train[df_train['genre_id'].isin(LowMinority)].sample(n=50,replace=True,random_state=42)],0).reset_index(drop=True)"
   ]
  },
  {
   "cell_type": "code",
   "execution_count": null,
   "id": "e5f03f27",
   "metadata": {},
   "outputs": [],
   "source": [
    "df_train.tail()#,df_train.shape"
   ]
  },
  {
   "cell_type": "code",
   "execution_count": null,
   "id": "59b52f18",
   "metadata": {},
   "outputs": [],
   "source": [
    "df_train['genre_id'].value_counts()"
   ]
  },
  {
   "cell_type": "markdown",
   "id": "486306be",
   "metadata": {},
   "source": [
    "### Create Folds"
   ]
  },
  {
   "cell_type": "code",
   "execution_count": null,
   "id": "efce77e9",
   "metadata": {},
   "outputs": [],
   "source": [
    "df_train['fold'] = 0"
   ]
  },
  {
   "cell_type": "code",
   "execution_count": null,
   "id": "9334d46d",
   "metadata": {},
   "outputs": [],
   "source": [
    "from sklearn.model_selection import StratifiedKFold\n",
    "N_folds = 5\n",
    "kf = StratifiedKFold(5,random_state=42,shuffle=True)\n",
    "fld = 0\n",
    "for i,(_,val_id) in enumerate(kf.split(df_train['filename'],df_train['genre_id'])):\n",
    "    df_train.loc[val_id,'fold'] = int(fld)\n",
    "    fld += 1"
   ]
  },
  {
   "cell_type": "code",
   "execution_count": null,
   "id": "70943e7c",
   "metadata": {},
   "outputs": [],
   "source": [
    "df_train.head()"
   ]
  },
  {
   "cell_type": "code",
   "execution_count": null,
   "id": "f6502855",
   "metadata": {},
   "outputs": [],
   "source": [
    "df_test.head()"
   ]
  },
  {
   "cell_type": "markdown",
   "id": "5ce078a4",
   "metadata": {},
   "source": [
    "#### Channel wise max: 2.7517, 2.7950"
   ]
  },
  {
   "cell_type": "markdown",
   "id": "b13a3ce9",
   "metadata": {},
   "source": [
    "#### Dataset"
   ]
  },
  {
   "cell_type": "code",
   "execution_count": null,
   "id": "608ba0c9",
   "metadata": {},
   "outputs": [],
   "source": [
    "import albumentations as A\n",
    "from albumentations.pytorch import ToTensorV2\n",
    "from torchvision.transforms import Compose\n",
    "import torchvision\n",
    "\n",
    "tfms = Compose(\n",
    "#     [torchvision.transforms.Resize((128,128))])\n",
    "    [torchvision.transforms.CenterCrop((128,960))])\n"
   ]
  },
  {
   "cell_type": "code",
   "execution_count": null,
   "id": "c0642af7",
   "metadata": {},
   "outputs": [],
   "source": [
    "import torch_audiomentations as tA\n",
    "\n",
    "def get_transforms(*, data):\n",
    "    \n",
    "    if data == 'train':\n",
    "        return tA.Compose(\n",
    "                transforms=[\n",
    "#                      tA.ShuffleChannels(p=0.1,mode=\"per_example\",p_mode=\"per_example\", sample_rate= 16000),\n",
    "                    tA.PeakNormalization(p=0.5,apply_to='only_too_loud_sounds',mode=\"per_example\",p_mode=\"per_example\",sample_rate=16000),\n",
    "#                     tA.BandPassFilter(),\n",
    "                    tA.TimeInversion(p=0.5,p_mode=\"per_example\",sample_rate=16000),\n",
    "#                     tA.PitchShift()\n",
    "#                      tA.AddColoredNoise(p=0.1,mode=\"per_channel\",p_mode=\"per_channel\", sample_rate=16000,max_snr_in_db = 15),\n",
    "                     tA.Shift(p=0.5,mode=\"per_example\",p_mode=\"per_example\", sample_rate=16000,\n",
    "                              max_shift=0.025, min_shift=-0.025),\n",
    "                ])\n",
    "\n",
    "    elif data == 'valid':\n",
    "        return tA.Compose([\n",
    "        ])"
   ]
  },
  {
   "cell_type": "code",
   "execution_count": null,
   "id": "eb2a1527",
   "metadata": {},
   "outputs": [],
   "source": [
    "class POGFiles(torch.utils.data.Dataset):\n",
    "    \n",
    "    def __init__(self, df, \n",
    "                 train = True,\n",
    "                 augmentations = None,\n",
    "                 normalize=False,\n",
    "                 ch0Max=2.7517,\n",
    "                 ch1Max=2.7950,\n",
    "                 HOP_LEN = 1024,\n",
    "                 N_FFT=1024,\n",
    "                 n_mels=224,\n",
    "                 transform=tfms,\n",
    "                 audiotfms=None,\n",
    "                 applyTukey=False,\n",
    "                 quantizeData=False,\n",
    "                 MakeThreeChannel= False,\n",
    "                 bins_per_octave = 24,\n",
    "                 n_bins = 64,\n",
    "                 PL=True\n",
    "                ):\n",
    "        \n",
    "        \n",
    "        self.df = df\n",
    "        self.train = train\n",
    "        self.ch0Max = ch0Max\n",
    "        self.ch1Max = ch1Max        \n",
    "        self.N_FFT = N_FFT\n",
    "        self.n_bins = n_bins\n",
    "        self.bins_per_octave = bins_per_octave\n",
    "        self.HOP_LEN = HOP_LEN\n",
    "        self.transform = transform\n",
    "        self.n_mels= n_mels\n",
    "        self.audiotfms = audiotfms\n",
    "        self.normalize = normalize\n",
    "        self.MakeThreeChannel = MakeThreeChannel\n",
    "        self.PL = PL\n",
    "        \n",
    "    def __len__(self):\n",
    "        return len(self.df)\n",
    "    \n",
    "    def load_file(self, filename):\n",
    "        if not self.PL:\n",
    "            if self.train:\n",
    "                audio = np.load(f'C:/Users/Kaggle/Pog_Music_Classification/resampled_16k/train/{filename}')\n",
    "            else:\n",
    "                audio = np.load(f'C:/Users/Kaggle/Pog_Music_Classification/resampled_16k/test/{filename}')\n",
    "        else:\n",
    "            try:\n",
    "                audio = np.load(f'C:/Users/Kaggle/Pog_Music_Classification/resampled_16k/train/{filename}')\n",
    "            except:\n",
    "                audio = np.load(f'C:/Users/Kaggle/Pog_Music_Classification/resampled_16k/test/{filename}')\n",
    "                \n",
    "        audio = np.mean(audio, axis=0, keepdims=True)   ### convert to mono\n",
    "        return audio\n",
    "\n",
    "    def resample(self,audio,sr):\n",
    "        \n",
    "        audio = torchaudio.transforms.Resample(orig_freq= sr, new_freq=  16000, \n",
    "                                    resampling_method = 'sinc_interpolation', \n",
    "                                    lowpass_filter_width = 6, \n",
    "                                    rolloff = 0.99)(audio)\n",
    "        return audio\n",
    "\n",
    "    def makeCQT(self,audio,sr):\n",
    "        audio = CQT1992v2(hop_length=self.HOP_LEN,n_bins=self.n_bins,bins_per_octave=self.bins_per_octave,\n",
    "                          sr=sr,verbose=False)(audio)\n",
    "        \n",
    "        max_ = audio.max()\n",
    "        if max_ < 0.001:\n",
    "            audio[...] = 0\n",
    "        else:\n",
    "            audio /= max_\n",
    "        \n",
    "        return audio\n",
    "        \n",
    "        \n",
    "    def create_spectrogram(self,audio,sr):\n",
    "                \n",
    "        specgram = torchaudio.transforms.MelSpectrogram(sample_rate=sr,\n",
    "                                                        n_fft=self.N_FFT, \n",
    "                                                        win_length=self.N_FFT, \n",
    "                                                        hop_length=self.HOP_LEN,\n",
    "                                                        center=True,\n",
    "                                                        pad_mode=\"reflect\",\n",
    "                                                        power=2.0,\n",
    "                                                        norm='slaney',\n",
    "                                                        onesided=True,\n",
    "                                                        n_mels=self.n_mels,\n",
    "                                                        mel_scale=\"htk\"\n",
    "                                                       )(audio)\n",
    "\n",
    "        specgram = torchaudio.transforms.AmplitudeToDB()(specgram)\n",
    "        specgram = specgram - specgram.min()\n",
    "        \n",
    "        max_ = specgram.max()\n",
    "        if max_ < 0.001:\n",
    "            specgram[...] = 0\n",
    "        else:\n",
    "            specgram /= max_\n",
    "        return specgram\n",
    "\n",
    "    def __getitem__(self, index):\n",
    "        row  = self.df.iloc[index]\n",
    "        \n",
    "        sr = 16000\n",
    "        samples = self.load_file(row.filename.split('.')[0]+'.npy')\n",
    "#         samples = self.load_file(row.filename)\n",
    "    \n",
    "        samples = np.stack(samples, axis=0)\n",
    "        \n",
    "        \n",
    "        samples = torch.from_numpy(samples).float().view(1,-1)\n",
    "        \n",
    "        if self.audiotfms is not None:\n",
    "             samples = self.audiotfms(samples.unsqueeze(0)).squeeze(0)\n",
    "\n",
    "        samples = self.create_spectrogram(samples,sr)\n",
    "#         samples = self.makeCQT(samples,sr)\n",
    "\n",
    "        if self.transform is not None:\n",
    "            samples = self.transform(samples)\n",
    "            \n",
    "        if self.train:\n",
    "            label = torch.tensor(row.genre_id,dtype=torch.long)\n",
    "            return samples, label\n",
    "        else:\n",
    "\n",
    "            return samples"
   ]
  },
  {
   "cell_type": "code",
   "execution_count": null,
   "id": "666d3428",
   "metadata": {
    "scrolled": true
   },
   "outputs": [],
   "source": [
    "# a,b = next(iter(POGFiles(df_train)))\n",
    "# a.shape"
   ]
  },
  {
   "cell_type": "code",
   "execution_count": null,
   "id": "85efc5fb",
   "metadata": {
    "scrolled": false
   },
   "outputs": [],
   "source": [
    "a,b = next(iter(POGFiles(df_train,transform=None,n_mels=128,HOP_LEN=448,N_FFT=512)))\n",
    "#` a,b = next(iter(POGFiles(df_train,transform=None,n_mels=128,HOP_LEN=576,N_FFT=512)))\n",
    "a.shape"
   ]
  },
  {
   "cell_type": "code",
   "execution_count": null,
   "id": "de37c06e",
   "metadata": {},
   "outputs": [],
   "source": [
    "def gem_1d_res(x, p=3, eps=1e-6):\n",
    "    return F.avg_pool1d(x.clamp(min=eps).pow(p), 2,2).pow(1./p)\n",
    "\n",
    "def gem_1d(x, p=3, eps=1e-6):\n",
    "    return F.avg_pool1d(x.clamp(min=eps).pow(p), (x.size(-1),)).pow(1./p )"
   ]
  },
  {
   "cell_type": "markdown",
   "id": "dec591e6",
   "metadata": {},
   "source": [
    "#### FastAI model"
   ]
  },
  {
   "cell_type": "code",
   "execution_count": null,
   "id": "56e74524",
   "metadata": {
    "scrolled": true
   },
   "outputs": [],
   "source": [
    "df_train['genre_id'].nunique()"
   ]
  },
  {
   "cell_type": "code",
   "execution_count": null,
   "id": "71f29774",
   "metadata": {},
   "outputs": [],
   "source": [
    "df_train.head()"
   ]
  },
  {
   "cell_type": "code",
   "execution_count": null,
   "id": "afe13664",
   "metadata": {},
   "outputs": [],
   "source": [
    "import timm\n",
    "timm.list_models()"
   ]
  },
  {
   "cell_type": "code",
   "execution_count": null,
   "id": "57331706",
   "metadata": {},
   "outputs": [],
   "source": [
    "timm.create_model('resnest50d',in_chans=1)"
   ]
  },
  {
   "cell_type": "code",
   "execution_count": null,
   "id": "4aa0c3a2",
   "metadata": {
    "scrolled": true
   },
   "outputs": [],
   "source": [
    "df_train['genre_id'].value_counts()"
   ]
  },
  {
   "cell_type": "code",
   "execution_count": null,
   "id": "39074c54",
   "metadata": {},
   "outputs": [],
   "source": [
    "df_train.head()"
   ]
  },
  {
   "cell_type": "code",
   "execution_count": null,
   "id": "b6ec8864",
   "metadata": {},
   "outputs": [],
   "source": [
    "df_test.head()"
   ]
  },
  {
   "cell_type": "code",
   "execution_count": null,
   "id": "4139e8f6",
   "metadata": {},
   "outputs": [],
   "source": [
    "PL = pd.read_csv(r'C:\\Users\\Kaggle\\Pog_Music_Classification\\outputs\\resnet50d_MIXUP_finetune_MonoSpec_Hop512_Mels128\\PL.csv').drop('Unnamed: 0',1)\n",
    "PL['genre_id'] = np.argmax(PL.iloc[:,:-1].values,1)\n",
    "PL = PL.iloc[:,-2:]\n",
    "PL = pd.merge(PL,df_test,on='song_id',how='left')\n",
    "PL['fold'] = df_train['fold'].max()+1\n",
    "PL.head()"
   ]
  },
  {
   "cell_type": "code",
   "execution_count": null,
   "id": "cce02997",
   "metadata": {},
   "outputs": [],
   "source": [
    "df_train.drop('genre',1,inplace=True)\n",
    "df_train.head()"
   ]
  },
  {
   "cell_type": "code",
   "execution_count": null,
   "id": "0066d80a",
   "metadata": {},
   "outputs": [],
   "source": [
    "PL = PL[df_train.columns]\n",
    "PL.head()"
   ]
  },
  {
   "cell_type": "code",
   "execution_count": null,
   "id": "1e0c6bd2",
   "metadata": {},
   "outputs": [],
   "source": [
    "def run():\n",
    "    oof = df_train.copy()\n",
    "    oversampleTrain = False\n",
    "    \n",
    "    for fold_num in [0,1,2,3,4]:\n",
    "        print('*****************************************')\n",
    "        print(f'Training Fold {fold_num}')\n",
    "        print('*****************************************')\n",
    "\n",
    "    #with IPyExperimentsPytorch() as exp:\n",
    "        kernel_type = 'resnet50d_PL_finetune_MonoSpec_Hop512_Mels128'\n",
    "        kernel_type_prev = 'resnest50d_MonoSpec_Hop512_Mels128'\n",
    "        OUTPUT_DIR = f'C:/Users/Kaggle/Pog_Music_Classification/outputs/{kernel_type}/'\n",
    "        if not os.path.exists(OUTPUT_DIR):\n",
    "            os.makedirs(OUTPUT_DIR)\n",
    "\n",
    "            \n",
    "        crit = CrossEntropyLossFlat() #LabelSmoothingCrossEntropy(0.025) #CrossEntropyLossFlat() #FocalLoss()\n",
    "        batch_size = 32\n",
    "        n_epochs = 75\n",
    "\n",
    "        training_fold = df_train.query(f'fold!={fold_num}').reset_index(drop=True, inplace=False)\n",
    "        training_fold  = pd.concat([training_fold,PL],0).reset_index(drop=True)\n",
    "        \n",
    "        if oversampleTrain:\n",
    "            print('--------- Oversampling training dataset -----------')\n",
    "            training_fold = pd.concat([training_fold,training_fold[training_fold['genre_id'].isin(ExtremeMinority)].sample(n=150,replace=True,random_state=42)],0).reset_index(drop=True)\n",
    "            training_fold = pd.concat([training_fold,training_fold[training_fold['genre_id'].isin(SomeMinority)].sample(n=150,replace=True,random_state=42)],0).reset_index(drop=True)\n",
    "            training_fold = pd.concat([training_fold,training_fold[training_fold['genre_id'].isin(LowMinority)].sample(n=100,replace=True,random_state=42)],0).reset_index(drop=True)\n",
    "                \n",
    "        train_ds = POGFiles(training_fold,\n",
    "                            transform=tfms,\n",
    "                            n_mels=128,HOP_LEN=512,N_FFT=512\n",
    "                           )\n",
    "\n",
    "        validation_fold = df_train.query(f'fold=={fold_num}').reset_index(drop=True, inplace=False)\n",
    "        valid_ds = POGFiles(validation_fold,\n",
    "                            transform=tfms,\n",
    "                            n_mels=128,HOP_LEN=512,N_FFT=512\n",
    "                            )\n",
    "\n",
    "        print(f'- Training samples: {len(train_ds)}\\n- Validation Samples : {len(valid_ds)}')\n",
    "\n",
    "        bs = batch_size\n",
    "        train_dl = torch.utils.data.DataLoader(train_ds, batch_size=bs, num_workers=0,pin_memory=False)\n",
    "        valid_dl = torch.utils.data.DataLoader(valid_ds, batch_size=bs*2, num_workers=0,shuffle=False,pin_memory=False)\n",
    "\n",
    "        dls = DataLoaders(train_dl, valid_dl)\n",
    "        \n",
    "        \n",
    "        model = timm.create_model('resnest50d', pretrained=False, in_chans=1)#get_model(resnet34)\n",
    "        model.conv1[0].stride = (1,1)\n",
    "        model.fc = nn.Linear(2048,19)\n",
    "\n",
    "        f1_score = F1Score(average=\"micro\")\n",
    "        \n",
    "        \n",
    "        learn = Learner(dls, model,opt_func=ranger,loss_func=crit,metrics=[f1_score],cbs=[SaveModelCallback('f1_score', every_epoch=True),\n",
    "                                                                                          CSVLogger(f'C:/Users/Kaggle/Pog_Music_Classification/outputs/{kernel_type}/{fold_num}logs.csv')]).to_fp16()\n",
    "        \n",
    "        learn.fit_flat_cos(n_epochs, 1e-2, wd=1e-03)\n",
    "#         learn = learn.to_fp16()\n",
    "        learn.save(f'C:/Users/Kaggle/Pog_Music_Classification/outputs/{kernel_type}/fold_{fold_num}')\n",
    "        learn = learn.load(f'C:/Users/Kaggle/Pog_Music_Classification/outputs/{kernel_type}/fold_{fold_num}')\n",
    "        \n",
    "        learn.model.eval()\n",
    "        test_df = df_test\n",
    "        test_ds = POGFiles(df_test_valid,\n",
    "                           transform=tfms,\n",
    "                           n_mels=128,HOP_LEN=512,N_FFT=512,\n",
    "                           train=False\n",
    "                           )\n",
    "\n",
    "        test_ds.input_path = Path(test_path)\n",
    "\n",
    "        bs = batch_size\n",
    "        test_dl = torch.utils.data.DataLoader(test_ds, batch_size=bs*2, num_workers=0, shuffle=False)\n",
    "        \n",
    "        preds = []\n",
    "        probs = []\n",
    "        for xb  in progress_bar(test_dl):\n",
    "            with torch.no_grad():output = learn.model(xb.cuda())\n",
    "            probs.append(torch.softmax(output.float(),1).squeeze().cpu())\n",
    "            preds.append(torch.argmax(output.float(),1).squeeze().cpu())\n",
    "        \n",
    "        oof_ = []\n",
    "        for xb,_  in progress_bar(valid_dl):\n",
    "            with torch.no_grad():output = learn.model(xb.cuda())\n",
    "            oof_.append(torch.softmax(output.float(),1).squeeze().cpu())\n",
    "        \n",
    "        oof_ = [t.detach().numpy() for t in oof_]\n",
    "        np.save(f'C:/Users/Kaggle/Pog_Music_Classification/outputs/{kernel_type}/test_fold_{fold_num}_probs.npy',np.array(probs))\n",
    "        np.save(f'C:/Users/Kaggle/Pog_Music_Classification/outputs/{kernel_type}/oof_fold_{fold_num}_probs.npy',oof_)\n",
    "        np.save(f'C:/Users/Kaggle/Pog_Music_Classification/outputs/{kernel_type}/oof_fold_{fold_num}_fnames.npy',np.array(validation_fold.song_id))        \n",
    "\n",
    "        preds = torch.cat(preds)\n",
    "        sample_df = df_test_valid.copy()\n",
    "        sample_df['target'] = preds\n",
    "        sample_df.to_csv(f'C:/Users/Kaggle/Pog_Music_Classification/outputs/{kernel_type}/fold_{fold_num}.csv', index=False)"
   ]
  },
  {
   "cell_type": "code",
   "execution_count": null,
   "id": "392f002f",
   "metadata": {
    "scrolled": true
   },
   "outputs": [],
   "source": [
    "if __name__=='__main__':\n",
    "    run()"
   ]
  },
  {
   "cell_type": "code",
   "execution_count": null,
   "id": "a88126ea",
   "metadata": {},
   "outputs": [],
   "source": [
    "submission"
   ]
  },
  {
   "cell_type": "markdown",
   "id": "1bd46d87",
   "metadata": {},
   "source": [
    "### OOF"
   ]
  },
  {
   "cell_type": "code",
   "execution_count": null,
   "id": "715259de",
   "metadata": {},
   "outputs": [],
   "source": [
    "OOFOut = pd.DataFrame()\n",
    "for fld in range(5):\n",
    "    fold_num = fld\n",
    "    kernel_type= 'resnet50d_MIXUP_finetune_MonoSpec_Hop512_Mels128'\n",
    "    OOF = np.load(f'C:/Users/Kaggle/Pog_Music_Classification/outputs/{kernel_type}/oof_fold_{fold_num}_probs.npy',allow_pickle=True)\n",
    "    ID = np.load(f'C:/Users/Kaggle/Pog_Music_Classification/outputs/{kernel_type}/oof_fold_{fold_num}_fnames.npy',allow_pickle=True)\n",
    "    OOF = ([item for sublist in OOF for item in sublist])\n",
    "    OOF = pd.DataFrame(OOF)\n",
    "    OOF['ID'] = ID\n",
    "    OOFOut = pd.concat([OOF,OOFOut],0).reset_index(drop=True)\n"
   ]
  },
  {
   "cell_type": "code",
   "execution_count": null,
   "id": "c6cdf357",
   "metadata": {},
   "outputs": [],
   "source": [
    "OOFOut['ID']"
   ]
  },
  {
   "cell_type": "code",
   "execution_count": null,
   "id": "407a2625",
   "metadata": {},
   "outputs": [],
   "source": [
    "OOFOut.tail()"
   ]
  },
  {
   "cell_type": "code",
   "execution_count": null,
   "id": "103ac9ff",
   "metadata": {},
   "outputs": [],
   "source": [
    "OOFOut = pd.merge(OOFOut,df_train[['song_id','genre_id']],left_on='ID',right_on='song_id',how='left')"
   ]
  },
  {
   "cell_type": "code",
   "execution_count": null,
   "id": "8ab06257",
   "metadata": {},
   "outputs": [],
   "source": [
    "OOF_preds=OOFOut.iloc[:,:19].idxmax(1)\n"
   ]
  },
  {
   "cell_type": "code",
   "execution_count": null,
   "id": "a93c5782",
   "metadata": {},
   "outputs": [],
   "source": [
    "from sklearn.metrics import f1_score\n",
    "\n",
    "f1_score(OOFOut['genre_id'],OOF_preds,average=\"micro\")"
   ]
  },
  {
   "cell_type": "code",
   "execution_count": null,
   "id": "f1cd79ae",
   "metadata": {},
   "outputs": [],
   "source": [
    "pd.crosstab(OOF_preds,OOFOut['genre_id'])"
   ]
  },
  {
   "cell_type": "code",
   "execution_count": null,
   "id": "24970f90",
   "metadata": {},
   "outputs": [],
   "source": [
    "df = OOFOut.groupby('genre_id').size()\n",
    "df = 1. / df\n",
    "df = df / df.mean()\n",
    "\n",
    "class_weights = df.values\n",
    "logits_weights = np.log((class_weights).reshape((1, -1)))\n",
    "probit_weights = scipy.special.softmax(logits_weights,1)"
   ]
  },
  {
   "cell_type": "code",
   "execution_count": null,
   "id": "e959818a",
   "metadata": {},
   "outputs": [],
   "source": [
    "probit_weights"
   ]
  },
  {
   "cell_type": "code",
   "execution_count": null,
   "id": "fa452eed",
   "metadata": {},
   "outputs": [],
   "source": [
    "f1_score(OOFOut['genre_id'],OOFOut.iloc[:,:19].idxmax(1),average=\"micro\")"
   ]
  },
  {
   "cell_type": "code",
   "execution_count": null,
   "id": "8350cedc",
   "metadata": {},
   "outputs": [],
   "source": [
    "for a in [13,14,15,16]:\n",
    "    print(a, OOFOut[OOFOut['genre_id'].isin([a])][a].mean(),OOFOut[~OOFOut['genre_id'].isin([a])][a].mean())"
   ]
  },
  {
   "cell_type": "markdown",
   "id": "367c6e01",
   "metadata": {},
   "source": [
    "### Mode based sub"
   ]
  },
  {
   "cell_type": "code",
   "execution_count": null,
   "id": "5b153fa7",
   "metadata": {},
   "outputs": [],
   "source": [
    "kernel_type"
   ]
  },
  {
   "cell_type": "code",
   "execution_count": null,
   "id": "9d470c4a",
   "metadata": {},
   "outputs": [],
   "source": [
    "out = submission.copy().drop('genre_id',1)\n",
    "for fld in range(5):\n",
    "    fname = pd.read_csv(f'C:/Users/Kaggle/Pog_Music_Classification/outputs/{kernel_type}/fold_{fld}.csv')\n",
    "    out = pd.merge(out,fname[['song_id','target']],on='song_id',how='left')\n",
    "    \n",
    "submission['genre_id']=out.drop('song_id',1).mode(1)[0]"
   ]
  },
  {
   "cell_type": "code",
   "execution_count": null,
   "id": "01a51537",
   "metadata": {},
   "outputs": [],
   "source": [
    "submission.loc[submission['song_id']==22612,'genre_id'] = 1\n",
    "submission.loc[submission['song_id']==24013,'genre_id'] = 0\n",
    "submission['genre_id'] = submission['genre_id'].astype(int)\n",
    "submission.to_csv(f'C:/Users/Kaggle/Pog_Music_Classification/outputs/{kernel_type}/5Fold_mode.csv',index=False)"
   ]
  },
  {
   "cell_type": "markdown",
   "id": "abfd8c37",
   "metadata": {},
   "source": [
    "### Mode based sub"
   ]
  },
  {
   "cell_type": "code",
   "execution_count": null,
   "id": "24e4d6bc",
   "metadata": {},
   "outputs": [],
   "source": [
    "out = submission.copy().drop('genre_id',1)\n",
    "for fld in range(5):\n",
    "    for kernels in ['resnet50d_MIXUP_finetune_MonoSpec_Hop512_Mels128',\n",
    "                    'resnest50d_MonoSpec_Hop512_Mels128',\n",
    "                    ]:\n",
    "        fname = pd.read_csv(f'C:/Users/Kaggle/Pog_Music_Classification/outputs/{kernels}/fold_{fld}.csv')\n",
    "        out = pd.merge(out,fname[['song_id','target']],on='song_id',how='left')\n",
    "    \n",
    "submission['genre_id']=out.drop('song_id',1).mode(1)[0]"
   ]
  },
  {
   "cell_type": "code",
   "execution_count": null,
   "id": "16987ffa",
   "metadata": {},
   "outputs": [],
   "source": [
    "submission.loc[submission['song_id']==22612,'genre_id'] = 1\n",
    "submission.loc[submission['song_id']==24013,'genre_id'] = 0\n",
    "submission['genre_id'] = submission['genre_id'].astype(int)\n",
    "submission.to_csv(f'C:/Users/Kaggle/Pog_Music_Classification/outputs/{kernel_type}/5Fold_mode_ens_2bestmodels.csv',index=False)"
   ]
  },
  {
   "cell_type": "markdown",
   "id": "fbb2f14f",
   "metadata": {},
   "source": [
    "### Mode based sub: specific folds only"
   ]
  },
  {
   "cell_type": "code",
   "execution_count": null,
   "id": "e8e16ebb",
   "metadata": {},
   "outputs": [],
   "source": [
    "out = submission.copy().drop('genre_id',1)\n",
    "for fld in range(5):\n",
    "    for kernels in ['resnet50d_MIXUP_finetune_MonoSpec_Hop512_Mels128',\n",
    "                    'resnest50d_MonoSpec_Hop512_Mels128',\n",
    "                    ]:\n",
    "        if kernels == 'resnest50d_MonoSpec_Hop512_Mels128':\n",
    "            if fld in [0,1,2]:\n",
    "                fname = pd.read_csv(f'C:/Users/Kaggle/Pog_Music_Classification/outputs/{kernels}/fold_{fld}.csv')\n",
    "                out = pd.merge(out,fname[['song_id','target']],on='song_id',how='left')\n",
    "        else:\n",
    "            fname = pd.read_csv(f'C:/Users/Kaggle/Pog_Music_Classification/outputs/{kernels}/fold_{fld}.csv')\n",
    "            out = pd.merge(out,fname[['song_id','target']],on='song_id',how='left')\n",
    "\n",
    "submission['genre_id']=out.drop('song_id',1).mode(1)[0]"
   ]
  },
  {
   "cell_type": "code",
   "execution_count": null,
   "id": "38bfab52",
   "metadata": {},
   "outputs": [],
   "source": [
    "submission.loc[submission['song_id']==22612,'genre_id'] = 1\n",
    "submission.loc[submission['song_id']==24013,'genre_id'] = 0\n",
    "submission['genre_id'] = submission['genre_id'].astype(int)\n",
    "submission.to_csv(f'C:/Users/Kaggle/Pog_Music_Classification/outputs/{kernel_type}/5Fold_mode_ens_2bestmodels_bestfoldsonly.csv',index=False)"
   ]
  },
  {
   "cell_type": "code",
   "execution_count": null,
   "id": "80dd2fef",
   "metadata": {},
   "outputs": [],
   "source": []
  },
  {
   "cell_type": "markdown",
   "id": "7e38e4a3",
   "metadata": {},
   "source": [
    "### OOF analysis"
   ]
  },
  {
   "cell_type": "code",
   "execution_count": null,
   "id": "e0a848b4",
   "metadata": {},
   "outputs": [],
   "source": [
    "OOF = np.load(f'C:/Users/Kaggle/Pog_Music_Classification/outputs/{kernels}/oof_fold_{fld}_probs.npy',allow_pickle=True)\n",
    "\n",
    "OOF = ([item for sublist in OOF for item in sublist])\n",
    "OOF = pd.DataFrame(OOF)"
   ]
  },
  {
   "cell_type": "code",
   "execution_count": null,
   "id": "d31b2a2e",
   "metadata": {
    "scrolled": true
   },
   "outputs": [],
   "source": [
    "OOFOut.shape"
   ]
  },
  {
   "cell_type": "code",
   "execution_count": null,
   "id": "4b9c1294",
   "metadata": {},
   "outputs": [],
   "source": [
    "OOFOut"
   ]
  },
  {
   "cell_type": "code",
   "execution_count": null,
   "id": "05682cc3",
   "metadata": {},
   "outputs": [],
   "source": [
    "kernel_type_upd = 'resnet50d_MIXUP_finetune_MonoSpec_Hop512_Mels128' "
   ]
  },
  {
   "cell_type": "code",
   "execution_count": null,
   "id": "2e3e65f0",
   "metadata": {},
   "outputs": [],
   "source": [
    "fname = pd.read_csv(f'C:/Users/Kaggle/Pog_Music_Classification/outputs/{kernel_type_upd}/fold_{fld}.csv')\n",
    "fname"
   ]
  },
  {
   "cell_type": "code",
   "execution_count": null,
   "id": "16a31427",
   "metadata": {},
   "outputs": [],
   "source": [
    "preds_out = pd.DataFrame(np.zeros((5076,19)))\n",
    "for fld in range(5):\n",
    "    probs = np.load(f'C:/Users/Kaggle/Pog_Music_Classification/outputs/{kernel_type_upd}/test_fold_{fld}_probs.npy',allow_pickle=True)\n",
    "    p = pd.DataFrame([item.numpy().ravel() for sublist in probs for item in sublist])\n",
    "    preds_out += p.values/5"
   ]
  },
  {
   "cell_type": "code",
   "execution_count": null,
   "id": "426d7f3b",
   "metadata": {
    "scrolled": false
   },
   "outputs": [],
   "source": [
    "preds_out.shape"
   ]
  },
  {
   "cell_type": "code",
   "execution_count": null,
   "id": "46196141",
   "metadata": {},
   "outputs": [],
   "source": [
    "preds_out['song_id'] = fname['song_id']"
   ]
  },
  {
   "cell_type": "code",
   "execution_count": null,
   "id": "6576d5b3",
   "metadata": {},
   "outputs": [],
   "source": [
    "preds_out.head()"
   ]
  },
  {
   "cell_type": "code",
   "execution_count": null,
   "id": "87fba0c9",
   "metadata": {},
   "outputs": [],
   "source": [
    "preds_out[(preds_out.iloc[:,:19].values > 0.85).sum(1)>0]"
   ]
  },
  {
   "cell_type": "code",
   "execution_count": null,
   "id": "1dc3173e",
   "metadata": {},
   "outputs": [],
   "source": [
    "PL = preds_out[(preds_out.iloc[:,:19].values > 0.85).sum(1)>0].reset_index(drop=True)"
   ]
  },
  {
   "cell_type": "code",
   "execution_count": null,
   "id": "b51abfca",
   "metadata": {},
   "outputs": [],
   "source": [
    "PL.to_csv(r'C:\\Users\\Kaggle\\Pog_Music_Classification\\outputs\\resnet50d_MIXUP_finetune_MonoSpec_Hop512_Mels128\\PL.csv')"
   ]
  },
  {
   "cell_type": "code",
   "execution_count": null,
   "id": "e60daefb",
   "metadata": {},
   "outputs": [],
   "source": [
    "PL.head()"
   ]
  },
  {
   "cell_type": "code",
   "execution_count": null,
   "id": "f4c0e80c",
   "metadata": {},
   "outputs": [],
   "source": [
    "np.argmax(PL.iloc[:,:-1].values,1)"
   ]
  },
  {
   "cell_type": "code",
   "execution_count": null,
   "id": "c83961eb",
   "metadata": {},
   "outputs": [],
   "source": []
  },
  {
   "cell_type": "markdown",
   "id": "14319dab",
   "metadata": {},
   "source": [
    "### End ###"
   ]
  }
 ],
 "metadata": {
  "kernelspec": {
   "display_name": "Python 3 (ipykernel)",
   "language": "python",
   "name": "python3"
  },
  "language_info": {
   "codemirror_mode": {
    "name": "ipython",
    "version": 3
   },
   "file_extension": ".py",
   "mimetype": "text/x-python",
   "name": "python",
   "nbconvert_exporter": "python",
   "pygments_lexer": "ipython3",
   "version": "3.8.12"
  }
 },
 "nbformat": 4,
 "nbformat_minor": 5
}

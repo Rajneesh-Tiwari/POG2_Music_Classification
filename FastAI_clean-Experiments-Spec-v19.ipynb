{
 "cells": [
  {
   "cell_type": "code",
   "execution_count": 1,
   "id": "898cd1d1",
   "metadata": {
    "_cell_guid": "b1076dfc-b9ad-4769-8c92-a6c4dae69d19",
    "_uuid": "8f2839f25d086af736a60e9eeb907d3b93b6e0e5",
    "execution": {
     "iopub.execute_input": "2022-03-13T22:07:08.725227Z",
     "iopub.status.busy": "2022-03-13T22:07:08.723535Z",
     "iopub.status.idle": "2022-03-13T22:07:12.476152Z",
     "shell.execute_reply": "2022-03-13T22:07:12.475433Z",
     "shell.execute_reply.started": "2022-03-13T21:30:10.356204Z"
    },
    "papermill": {
     "duration": 3.780887,
     "end_time": "2022-03-13T22:07:12.476357",
     "exception": false,
     "start_time": "2022-03-13T22:07:08.695470",
     "status": "completed"
    },
    "scrolled": false,
    "tags": []
   },
   "outputs": [
    {
     "name": "stderr",
     "output_type": "stream",
     "text": [
      "C:\\Users\\anaconda\\envs\\Pytorch_19\\lib\\site-packages\\tqdm\\auto.py:22: TqdmWarning: IProgress not found. Please update jupyter and ipywidgets. See https://ipywidgets.readthedocs.io/en/stable/user_install.html\n",
      "  from .autonotebook import tqdm as notebook_tqdm\n"
     ]
    }
   ],
   "source": [
    "from fastai.vision.all import *\n",
    "import torchaudio\n",
    "import librosa\n",
    "from nnAudio.features.cqt import CQT1992v2\n",
    "from scipy.signal import tukey\n"
   ]
  },
  {
   "cell_type": "code",
   "execution_count": 2,
   "id": "8d6ac190",
   "metadata": {},
   "outputs": [],
   "source": [
    "class CFG:\n",
    "    apex=False\n",
    "    debug=False\n",
    "    print_freq=100\n",
    "    num_workers=4\n",
    "    model_name='tf_efficientnet_b7_ns'\n",
    "    scheduler='CosineAnnealingLR' # ['ReduceLROnPlateau', 'CosineAnnealingLR', 'CosineAnnealingWarmRestarts']\n",
    "    epochs=3\n",
    "    #factor=0.2 # ReduceLROnPlateau\n",
    "    #patience=4 # ReduceLROnPlateau\n",
    "    #eps=1e-6 # ReduceLROnPlateau\n",
    "    T_max=3 # CosineAnnealingLR\n",
    "    #T_0=3 # CosineAnnealingWarmRestarts\n",
    "    lr=1e-4\n",
    "    min_lr=1e-6\n",
    "    batch_size=48\n",
    "    weight_decay=1e-6\n",
    "    gradient_accumulation_steps=1\n",
    "    max_grad_norm=1000\n",
    "    qtransform_params={\"hop_length\": 1024, \"n_bins\": 64,'fmax':None}    \n",
    "    seed=42\n",
    "    target_size=1\n",
    "    target_col='target'\n",
    "    n_fold=5\n",
    "    trn_fold=[0] # [0, 1, 2, 3, 4]\n",
    "    train=True\n",
    "    grad_cam=False\n"
   ]
  },
  {
   "cell_type": "code",
   "execution_count": 3,
   "id": "4555d024",
   "metadata": {
    "execution": {
     "iopub.execute_input": "2022-03-13T22:07:12.524391Z",
     "iopub.status.busy": "2022-03-13T22:07:12.523651Z",
     "iopub.status.idle": "2022-03-13T22:07:12.583307Z",
     "shell.execute_reply": "2022-03-13T22:07:12.582851Z",
     "shell.execute_reply.started": "2022-03-13T19:39:18.337501Z"
    },
    "papermill": {
     "duration": 0.085451,
     "end_time": "2022-03-13T22:07:12.583427",
     "exception": false,
     "start_time": "2022-03-13T22:07:12.497976",
     "status": "completed"
    },
    "tags": []
   },
   "outputs": [],
   "source": [
    "df_train = pd.read_csv(r'C:\\Users\\Kaggle\\Pog_Music_Classification/train.csv')\n",
    "df_test = pd.read_csv(r'C:\\Users\\Kaggle\\Pog_Music_Classification/test.csv')\n",
    "submission = pd.read_csv(r'C:\\Users\\Kaggle\\Pog_Music_Classification/sample_submission.csv')"
   ]
  },
  {
   "cell_type": "code",
   "execution_count": 4,
   "id": "956619e5",
   "metadata": {
    "execution": {
     "iopub.execute_input": "2022-03-13T22:07:12.630375Z",
     "iopub.status.busy": "2022-03-13T22:07:12.629617Z",
     "iopub.status.idle": "2022-03-13T22:07:12.631565Z",
     "shell.execute_reply": "2022-03-13T22:07:12.631935Z",
     "shell.execute_reply.started": "2022-03-13T19:39:18.423524Z"
    },
    "papermill": {
     "duration": 0.02696,
     "end_time": "2022-03-13T22:07:12.632057",
     "exception": false,
     "start_time": "2022-03-13T22:07:12.605097",
     "status": "completed"
    },
    "tags": []
   },
   "outputs": [],
   "source": [
    "train_path = Path('C:/Users/Kaggle/Pog_Music_Classification/train/')\n",
    "test_path = Path('C:/Users/Kaggle/Pog_Music_Classification/test/')"
   ]
  },
  {
   "cell_type": "code",
   "execution_count": 5,
   "id": "6925d653",
   "metadata": {
    "scrolled": false
   },
   "outputs": [
    {
     "name": "stdout",
     "output_type": "stream",
     "text": [
      "(19922, 5) (5078, 3)\n"
     ]
    }
   ],
   "source": [
    "print(df_train.shape,df_test.shape)"
   ]
  },
  {
   "cell_type": "code",
   "execution_count": 6,
   "id": "3b15eb00",
   "metadata": {},
   "outputs": [
    {
     "data": {
      "text/html": [
       "<div>\n",
       "<style scoped>\n",
       "    .dataframe tbody tr th:only-of-type {\n",
       "        vertical-align: middle;\n",
       "    }\n",
       "\n",
       "    .dataframe tbody tr th {\n",
       "        vertical-align: top;\n",
       "    }\n",
       "\n",
       "    .dataframe thead th {\n",
       "        text-align: right;\n",
       "    }\n",
       "</style>\n",
       "<table border=\"1\" class=\"dataframe\">\n",
       "  <thead>\n",
       "    <tr style=\"text-align: right;\">\n",
       "      <th></th>\n",
       "      <th>song_id</th>\n",
       "      <th>filename</th>\n",
       "      <th>filepath</th>\n",
       "      <th>genre_id</th>\n",
       "      <th>genre</th>\n",
       "    </tr>\n",
       "  </thead>\n",
       "  <tbody>\n",
       "    <tr>\n",
       "      <th>0</th>\n",
       "      <td>10150</td>\n",
       "      <td>010150.ogg</td>\n",
       "      <td>train/010150.ogg</td>\n",
       "      <td>7</td>\n",
       "      <td>Instrumental</td>\n",
       "    </tr>\n",
       "    <tr>\n",
       "      <th>1</th>\n",
       "      <td>7358</td>\n",
       "      <td>007358.ogg</td>\n",
       "      <td>train/007358.ogg</td>\n",
       "      <td>2</td>\n",
       "      <td>Punk</td>\n",
       "    </tr>\n",
       "    <tr>\n",
       "      <th>2</th>\n",
       "      <td>20573</td>\n",
       "      <td>020573.ogg</td>\n",
       "      <td>train/020573.ogg</td>\n",
       "      <td>5</td>\n",
       "      <td>Folk</td>\n",
       "    </tr>\n",
       "    <tr>\n",
       "      <th>3</th>\n",
       "      <td>11170</td>\n",
       "      <td>011170.ogg</td>\n",
       "      <td>train/011170.ogg</td>\n",
       "      <td>12</td>\n",
       "      <td>Old-Time / Historic</td>\n",
       "    </tr>\n",
       "    <tr>\n",
       "      <th>4</th>\n",
       "      <td>16662</td>\n",
       "      <td>016662.ogg</td>\n",
       "      <td>train/016662.ogg</td>\n",
       "      <td>1</td>\n",
       "      <td>Rock</td>\n",
       "    </tr>\n",
       "  </tbody>\n",
       "</table>\n",
       "</div>"
      ],
      "text/plain": [
       "   song_id    filename          filepath  genre_id                genre\n",
       "0    10150  010150.ogg  train/010150.ogg         7         Instrumental\n",
       "1     7358  007358.ogg  train/007358.ogg         2                 Punk\n",
       "2    20573  020573.ogg  train/020573.ogg         5                 Folk\n",
       "3    11170  011170.ogg  train/011170.ogg        12  Old-Time / Historic\n",
       "4    16662  016662.ogg  train/016662.ogg         1                 Rock"
      ]
     },
     "execution_count": 6,
     "metadata": {},
     "output_type": "execute_result"
    }
   ],
   "source": [
    "df_train.head()"
   ]
  },
  {
   "cell_type": "code",
   "execution_count": 7,
   "id": "ad290c42",
   "metadata": {},
   "outputs": [],
   "source": [
    "import glob\n",
    "valid_filenames = []\n",
    "for i in glob.glob(r'C:/Users/Kaggle/Pog_Music_Classification/resampled_16k/train/*.npy'):\n",
    "    fnames = (i.split('\\\\')[1])\n",
    "    valid_filenames.append(fnames.split('.')[0]+'.ogg')"
   ]
  },
  {
   "cell_type": "code",
   "execution_count": 8,
   "id": "a828d715",
   "metadata": {},
   "outputs": [],
   "source": [
    "import glob\n",
    "valid_filenames_test = []\n",
    "for i in glob.glob(r'C:/Users/Kaggle/Pog_Music_Classification/resampled_16k/test/*.npy'):\n",
    "    fnames = (i.split('\\\\')[1])\n",
    "    valid_filenames_test.append(fnames.split('.')[0]+'.ogg')"
   ]
  },
  {
   "cell_type": "code",
   "execution_count": 9,
   "id": "37261605",
   "metadata": {},
   "outputs": [],
   "source": [
    "df_train = df_train[df_train['filename'].isin(valid_filenames)].reset_index(drop=True)\n",
    "df_test_valid = df_test[df_test['filename'].isin(valid_filenames_test)].reset_index(drop=True)"
   ]
  },
  {
   "cell_type": "code",
   "execution_count": 10,
   "id": "0a87d663",
   "metadata": {},
   "outputs": [],
   "source": [
    "### Some files giving exception in cqt\n",
    "df_train = df_train[df_train['song_id']!=17400].reset_index(drop=True)"
   ]
  },
  {
   "cell_type": "code",
   "execution_count": 11,
   "id": "bb7253f8",
   "metadata": {
    "scrolled": true
   },
   "outputs": [
    {
     "name": "stdout",
     "output_type": "stream",
     "text": [
      "(19908, 5) (5078, 3)\n"
     ]
    }
   ],
   "source": [
    "print(df_train.shape,df_test.shape)"
   ]
  },
  {
   "cell_type": "markdown",
   "id": "2898f0c4",
   "metadata": {},
   "source": [
    "### Upsample minority classes"
   ]
  },
  {
   "cell_type": "code",
   "execution_count": 12,
   "id": "a7505a51",
   "metadata": {
    "scrolled": true
   },
   "outputs": [
    {
     "data": {
      "text/plain": [
       "1     3095\n",
       "0     3071\n",
       "2     2582\n",
       "3     1800\n",
       "4     1756\n",
       "5     1214\n",
       "6     1181\n",
       "7     1044\n",
       "8      945\n",
       "9      814\n",
       "10     796\n",
       "11     495\n",
       "12     408\n",
       "13     306\n",
       "14     142\n",
       "15      94\n",
       "16      94\n",
       "17      58\n",
       "18      13\n",
       "Name: genre_id, dtype: int64"
      ]
     },
     "execution_count": 12,
     "metadata": {},
     "output_type": "execute_result"
    }
   ],
   "source": [
    "df_train['genre_id'].value_counts()"
   ]
  },
  {
   "cell_type": "code",
   "execution_count": 13,
   "id": "209f87c0",
   "metadata": {},
   "outputs": [],
   "source": [
    "ExtremeMinority = [18]\n",
    "SomeMinority = [17]\n",
    "LowMinority = [14,15,16]\n",
    "\n",
    "# df_train = pd.concat([df_train,df_train[df_train['genre_id'].isin(ExtremeMinority)].sample(n=37,replace=True,random_state=42)],0).reset_index(drop=True)\n",
    "# df_train = pd.concat([df_train,df_train[df_train['genre_id'].isin(SomeMinority)].sample(n=42,replace=True,random_state=42)],0).reset_index(drop=True)\n",
    "# df_train = pd.concat([df_train,df_train[df_train['genre_id'].isin(LowMinority)].sample(n=50,replace=True,random_state=42)],0).reset_index(drop=True)"
   ]
  },
  {
   "cell_type": "code",
   "execution_count": 14,
   "id": "e5f03f27",
   "metadata": {},
   "outputs": [
    {
     "data": {
      "text/html": [
       "<div>\n",
       "<style scoped>\n",
       "    .dataframe tbody tr th:only-of-type {\n",
       "        vertical-align: middle;\n",
       "    }\n",
       "\n",
       "    .dataframe tbody tr th {\n",
       "        vertical-align: top;\n",
       "    }\n",
       "\n",
       "    .dataframe thead th {\n",
       "        text-align: right;\n",
       "    }\n",
       "</style>\n",
       "<table border=\"1\" class=\"dataframe\">\n",
       "  <thead>\n",
       "    <tr style=\"text-align: right;\">\n",
       "      <th></th>\n",
       "      <th>song_id</th>\n",
       "      <th>filename</th>\n",
       "      <th>filepath</th>\n",
       "      <th>genre_id</th>\n",
       "      <th>genre</th>\n",
       "    </tr>\n",
       "  </thead>\n",
       "  <tbody>\n",
       "    <tr>\n",
       "      <th>19903</th>\n",
       "      <td>9337</td>\n",
       "      <td>009337.ogg</td>\n",
       "      <td>train/009337.ogg</td>\n",
       "      <td>0</td>\n",
       "      <td>Electronic</td>\n",
       "    </tr>\n",
       "    <tr>\n",
       "      <th>19904</th>\n",
       "      <td>8340</td>\n",
       "      <td>008340.ogg</td>\n",
       "      <td>train/008340.ogg</td>\n",
       "      <td>4</td>\n",
       "      <td>Hip-Hop</td>\n",
       "    </tr>\n",
       "    <tr>\n",
       "      <th>19905</th>\n",
       "      <td>16248</td>\n",
       "      <td>016248.ogg</td>\n",
       "      <td>train/016248.ogg</td>\n",
       "      <td>4</td>\n",
       "      <td>Hip-Hop</td>\n",
       "    </tr>\n",
       "    <tr>\n",
       "      <th>19906</th>\n",
       "      <td>11875</td>\n",
       "      <td>011875.ogg</td>\n",
       "      <td>train/011875.ogg</td>\n",
       "      <td>2</td>\n",
       "      <td>Punk</td>\n",
       "    </tr>\n",
       "    <tr>\n",
       "      <th>19907</th>\n",
       "      <td>6579</td>\n",
       "      <td>006579.ogg</td>\n",
       "      <td>train/006579.ogg</td>\n",
       "      <td>1</td>\n",
       "      <td>Rock</td>\n",
       "    </tr>\n",
       "  </tbody>\n",
       "</table>\n",
       "</div>"
      ],
      "text/plain": [
       "       song_id    filename          filepath  genre_id       genre\n",
       "19903     9337  009337.ogg  train/009337.ogg         0  Electronic\n",
       "19904     8340  008340.ogg  train/008340.ogg         4     Hip-Hop\n",
       "19905    16248  016248.ogg  train/016248.ogg         4     Hip-Hop\n",
       "19906    11875  011875.ogg  train/011875.ogg         2        Punk\n",
       "19907     6579  006579.ogg  train/006579.ogg         1        Rock"
      ]
     },
     "execution_count": 14,
     "metadata": {},
     "output_type": "execute_result"
    }
   ],
   "source": [
    "df_train.tail()#,df_train.shape"
   ]
  },
  {
   "cell_type": "code",
   "execution_count": 15,
   "id": "59b52f18",
   "metadata": {
    "scrolled": true
   },
   "outputs": [
    {
     "data": {
      "text/plain": [
       "1     3095\n",
       "0     3071\n",
       "2     2582\n",
       "3     1800\n",
       "4     1756\n",
       "5     1214\n",
       "6     1181\n",
       "7     1044\n",
       "8      945\n",
       "9      814\n",
       "10     796\n",
       "11     495\n",
       "12     408\n",
       "13     306\n",
       "14     142\n",
       "15      94\n",
       "16      94\n",
       "17      58\n",
       "18      13\n",
       "Name: genre_id, dtype: int64"
      ]
     },
     "execution_count": 15,
     "metadata": {},
     "output_type": "execute_result"
    }
   ],
   "source": [
    "df_train['genre_id'].value_counts()"
   ]
  },
  {
   "cell_type": "markdown",
   "id": "dc2175ae",
   "metadata": {},
   "source": [
    "#### condense bottom 8 classes into single class"
   ]
  },
  {
   "cell_type": "code",
   "execution_count": 16,
   "id": "0a101c72",
   "metadata": {},
   "outputs": [],
   "source": [
    "# df_train['genre_id'] = df_train['genre_id'].apply(lambda x: 5 if x>=5 else x).values"
   ]
  },
  {
   "cell_type": "code",
   "execution_count": 17,
   "id": "09bce840",
   "metadata": {},
   "outputs": [],
   "source": [
    "# df_train['genre_id'].value_counts()"
   ]
  },
  {
   "cell_type": "markdown",
   "id": "486306be",
   "metadata": {},
   "source": [
    "### Create Folds"
   ]
  },
  {
   "cell_type": "code",
   "execution_count": 18,
   "id": "efce77e9",
   "metadata": {},
   "outputs": [],
   "source": [
    "df_train['fold'] = 0"
   ]
  },
  {
   "cell_type": "code",
   "execution_count": 19,
   "id": "9334d46d",
   "metadata": {},
   "outputs": [],
   "source": [
    "from sklearn.model_selection import StratifiedKFold\n",
    "N_folds = 5\n",
    "kf = StratifiedKFold(5,random_state=42,shuffle=True)\n",
    "fld = 0\n",
    "for i,(_,val_id) in enumerate(kf.split(df_train['filename'],df_train['genre_id'])):\n",
    "    df_train.loc[val_id,'fold'] = int(fld)\n",
    "    fld += 1"
   ]
  },
  {
   "cell_type": "code",
   "execution_count": 20,
   "id": "70943e7c",
   "metadata": {},
   "outputs": [
    {
     "data": {
      "text/html": [
       "<div>\n",
       "<style scoped>\n",
       "    .dataframe tbody tr th:only-of-type {\n",
       "        vertical-align: middle;\n",
       "    }\n",
       "\n",
       "    .dataframe tbody tr th {\n",
       "        vertical-align: top;\n",
       "    }\n",
       "\n",
       "    .dataframe thead th {\n",
       "        text-align: right;\n",
       "    }\n",
       "</style>\n",
       "<table border=\"1\" class=\"dataframe\">\n",
       "  <thead>\n",
       "    <tr style=\"text-align: right;\">\n",
       "      <th></th>\n",
       "      <th>song_id</th>\n",
       "      <th>filename</th>\n",
       "      <th>filepath</th>\n",
       "      <th>genre_id</th>\n",
       "      <th>genre</th>\n",
       "      <th>fold</th>\n",
       "    </tr>\n",
       "  </thead>\n",
       "  <tbody>\n",
       "    <tr>\n",
       "      <th>0</th>\n",
       "      <td>10150</td>\n",
       "      <td>010150.ogg</td>\n",
       "      <td>train/010150.ogg</td>\n",
       "      <td>7</td>\n",
       "      <td>Instrumental</td>\n",
       "      <td>4</td>\n",
       "    </tr>\n",
       "    <tr>\n",
       "      <th>1</th>\n",
       "      <td>7358</td>\n",
       "      <td>007358.ogg</td>\n",
       "      <td>train/007358.ogg</td>\n",
       "      <td>2</td>\n",
       "      <td>Punk</td>\n",
       "      <td>3</td>\n",
       "    </tr>\n",
       "    <tr>\n",
       "      <th>2</th>\n",
       "      <td>20573</td>\n",
       "      <td>020573.ogg</td>\n",
       "      <td>train/020573.ogg</td>\n",
       "      <td>5</td>\n",
       "      <td>Folk</td>\n",
       "      <td>2</td>\n",
       "    </tr>\n",
       "    <tr>\n",
       "      <th>3</th>\n",
       "      <td>11170</td>\n",
       "      <td>011170.ogg</td>\n",
       "      <td>train/011170.ogg</td>\n",
       "      <td>12</td>\n",
       "      <td>Old-Time / Historic</td>\n",
       "      <td>3</td>\n",
       "    </tr>\n",
       "    <tr>\n",
       "      <th>4</th>\n",
       "      <td>16662</td>\n",
       "      <td>016662.ogg</td>\n",
       "      <td>train/016662.ogg</td>\n",
       "      <td>1</td>\n",
       "      <td>Rock</td>\n",
       "      <td>3</td>\n",
       "    </tr>\n",
       "  </tbody>\n",
       "</table>\n",
       "</div>"
      ],
      "text/plain": [
       "   song_id    filename          filepath  genre_id                genre  fold\n",
       "0    10150  010150.ogg  train/010150.ogg         7         Instrumental     4\n",
       "1     7358  007358.ogg  train/007358.ogg         2                 Punk     3\n",
       "2    20573  020573.ogg  train/020573.ogg         5                 Folk     2\n",
       "3    11170  011170.ogg  train/011170.ogg        12  Old-Time / Historic     3\n",
       "4    16662  016662.ogg  train/016662.ogg         1                 Rock     3"
      ]
     },
     "execution_count": 20,
     "metadata": {},
     "output_type": "execute_result"
    }
   ],
   "source": [
    "df_train.head()"
   ]
  },
  {
   "cell_type": "code",
   "execution_count": 21,
   "id": "f6502855",
   "metadata": {},
   "outputs": [
    {
     "data": {
      "text/html": [
       "<div>\n",
       "<style scoped>\n",
       "    .dataframe tbody tr th:only-of-type {\n",
       "        vertical-align: middle;\n",
       "    }\n",
       "\n",
       "    .dataframe tbody tr th {\n",
       "        vertical-align: top;\n",
       "    }\n",
       "\n",
       "    .dataframe thead th {\n",
       "        text-align: right;\n",
       "    }\n",
       "</style>\n",
       "<table border=\"1\" class=\"dataframe\">\n",
       "  <thead>\n",
       "    <tr style=\"text-align: right;\">\n",
       "      <th></th>\n",
       "      <th>song_id</th>\n",
       "      <th>filename</th>\n",
       "      <th>filepath</th>\n",
       "    </tr>\n",
       "  </thead>\n",
       "  <tbody>\n",
       "    <tr>\n",
       "      <th>0</th>\n",
       "      <td>7072</td>\n",
       "      <td>007072.ogg</td>\n",
       "      <td>test/007072.ogg</td>\n",
       "    </tr>\n",
       "    <tr>\n",
       "      <th>1</th>\n",
       "      <td>10207</td>\n",
       "      <td>010207.ogg</td>\n",
       "      <td>test/010207.ogg</td>\n",
       "    </tr>\n",
       "    <tr>\n",
       "      <th>2</th>\n",
       "      <td>20008</td>\n",
       "      <td>020008.ogg</td>\n",
       "      <td>test/020008.ogg</td>\n",
       "    </tr>\n",
       "    <tr>\n",
       "      <th>3</th>\n",
       "      <td>10924</td>\n",
       "      <td>010924.ogg</td>\n",
       "      <td>test/010924.ogg</td>\n",
       "    </tr>\n",
       "    <tr>\n",
       "      <th>4</th>\n",
       "      <td>21896</td>\n",
       "      <td>021896.ogg</td>\n",
       "      <td>test/021896.ogg</td>\n",
       "    </tr>\n",
       "  </tbody>\n",
       "</table>\n",
       "</div>"
      ],
      "text/plain": [
       "   song_id    filename         filepath\n",
       "0     7072  007072.ogg  test/007072.ogg\n",
       "1    10207  010207.ogg  test/010207.ogg\n",
       "2    20008  020008.ogg  test/020008.ogg\n",
       "3    10924  010924.ogg  test/010924.ogg\n",
       "4    21896  021896.ogg  test/021896.ogg"
      ]
     },
     "execution_count": 21,
     "metadata": {},
     "output_type": "execute_result"
    }
   ],
   "source": [
    "df_test.head()"
   ]
  },
  {
   "cell_type": "markdown",
   "id": "5ce078a4",
   "metadata": {},
   "source": [
    "#### Channel wise max: 2.7517, 2.7950"
   ]
  },
  {
   "cell_type": "markdown",
   "id": "b13a3ce9",
   "metadata": {},
   "source": [
    "#### Dataset"
   ]
  },
  {
   "cell_type": "code",
   "execution_count": 22,
   "id": "608ba0c9",
   "metadata": {},
   "outputs": [],
   "source": [
    "import albumentations as A\n",
    "from albumentations.pytorch import ToTensorV2\n",
    "from torchvision.transforms import Compose\n",
    "import torchvision\n",
    "\n",
    "tfms = Compose(\n",
    "#     [torchvision.transforms.Resize((128,128))])\n",
    "    [torchvision.transforms.CenterCrop((128,960))],)\n",
    "#    torchaudio.transforms.TimeMasking(48)])\n",
    "\n"
   ]
  },
  {
   "cell_type": "code",
   "execution_count": 23,
   "id": "531ff4cc",
   "metadata": {},
   "outputs": [],
   "source": [
    "import torchaudio"
   ]
  },
  {
   "cell_type": "code",
   "execution_count": 24,
   "id": "c0642af7",
   "metadata": {},
   "outputs": [],
   "source": [
    "import torch_audiomentations as tA\n",
    "\n",
    "def get_transforms(*, data):\n",
    "    \n",
    "    if data == 'train':\n",
    "        return tA.Compose(\n",
    "                transforms=[\n",
    "#                      tA.ShuffleChannels(p=0.1,mode=\"per_example\",p_mode=\"per_example\", sample_rate= 16000),\n",
    "                    tA.PeakNormalization(p=0.5,apply_to='only_too_loud_sounds',mode=\"per_example\",p_mode=\"per_example\",sample_rate=16000),\n",
    "#                     tA.BandPassFilter(),\n",
    "                    tA.TimeInversion(p=0.5,p_mode=\"per_example\",sample_rate=16000),\n",
    "#                     tA.PitchShift()\n",
    "#                      tA.AddColoredNoise(p=0.1,mode=\"per_channel\",p_mode=\"per_channel\", sample_rate=16000,max_snr_in_db = 15),\n",
    "                     tA.Shift(p=0.5,mode=\"per_example\",p_mode=\"per_example\", sample_rate=16000,\n",
    "                              max_shift=0.025, min_shift=-0.025),\n",
    "                ])\n",
    "\n",
    "    elif data == 'valid':\n",
    "        return tA.Compose([\n",
    "        ])"
   ]
  },
  {
   "cell_type": "code",
   "execution_count": 25,
   "id": "eb2a1527",
   "metadata": {},
   "outputs": [],
   "source": [
    "class POGFiles(torch.utils.data.Dataset):\n",
    "    \n",
    "    def __init__(self, df, \n",
    "                 train = True,\n",
    "                 augmentations = None,\n",
    "                 normalize=False,\n",
    "                 ch0Max=2.7517,\n",
    "                 ch1Max=2.7950,\n",
    "                 HOP_LEN = 1024,\n",
    "                 N_FFT=1024,\n",
    "                 n_mels=224,\n",
    "                 transform=tfms,\n",
    "                 audiotfms=None,\n",
    "                 applyTukey=False,\n",
    "                 quantizeData=False,\n",
    "                 MakeThreeChannel= False,\n",
    "                 bins_per_octave = 24,\n",
    "                 n_bins = 64\n",
    "                ):\n",
    "        \n",
    "        \n",
    "        self.df = df\n",
    "        self.train = train\n",
    "        self.ch0Max = ch0Max\n",
    "        self.ch1Max = ch1Max        \n",
    "        self.N_FFT = N_FFT\n",
    "        self.n_bins = n_bins\n",
    "        self.bins_per_octave = bins_per_octave\n",
    "        self.HOP_LEN = HOP_LEN\n",
    "        self.transform = transform\n",
    "        self.n_mels= n_mels\n",
    "        self.audiotfms = audiotfms\n",
    "        self.normalize = normalize\n",
    "        self.MakeThreeChannel = MakeThreeChannel\n",
    "        \n",
    "    def __len__(self):\n",
    "        return len(self.df)\n",
    "    \n",
    "    def load_file(self, filename):\n",
    "        if self.train:\n",
    "            spec = np.load(f'C:/Users/Kaggle/Pog_Music_Classification/spec/512_128/train/{filename}')\n",
    "        else:\n",
    "            spec = np.load(f'C:/Users/Kaggle/Pog_Music_Classification/spec/512_128/test/{filename}')\n",
    "            \n",
    "        return spec\n",
    "\n",
    "\n",
    "    def __getitem__(self, index):\n",
    "        row  = self.df.iloc[index]\n",
    "        \n",
    "        samples = self.load_file(row.filename.split('.')[0]+'.npy')\n",
    "        samples = torch.from_numpy(samples).float()\n",
    "        \n",
    "        if self.transform is not None:\n",
    "            samples = self.transform(samples)\n",
    "            \n",
    "        if self.train:\n",
    "            label = torch.tensor(row.genre_id,dtype=torch.long)\n",
    "            return samples, label\n",
    "        else:\n",
    "\n",
    "            return samples"
   ]
  },
  {
   "cell_type": "code",
   "execution_count": 26,
   "id": "666d3428",
   "metadata": {
    "scrolled": true
   },
   "outputs": [],
   "source": [
    "# a,b = next(iter(POGFiles(df_train)))\n",
    "# a.shape"
   ]
  },
  {
   "cell_type": "code",
   "execution_count": 27,
   "id": "85efc5fb",
   "metadata": {
    "scrolled": true
   },
   "outputs": [
    {
     "data": {
      "text/plain": [
       "torch.Size([1, 128, 938])"
      ]
     },
     "execution_count": 27,
     "metadata": {},
     "output_type": "execute_result"
    }
   ],
   "source": [
    "a,b = next(iter(POGFiles(df_train,transform=None)))\n",
    "#` a,b = next(iter(POGFiles(df_train,transform=None,n_mels=128,HOP_LEN=576,N_FFT=512)))\n",
    "a.shape"
   ]
  },
  {
   "cell_type": "markdown",
   "id": "dec591e6",
   "metadata": {},
   "source": [
    "#### FastAI model"
   ]
  },
  {
   "cell_type": "code",
   "execution_count": 28,
   "id": "56e74524",
   "metadata": {
    "scrolled": true
   },
   "outputs": [
    {
     "data": {
      "text/plain": [
       "19"
      ]
     },
     "execution_count": 28,
     "metadata": {},
     "output_type": "execute_result"
    }
   ],
   "source": [
    "df_train['genre_id'].nunique()"
   ]
  },
  {
   "cell_type": "code",
   "execution_count": 29,
   "id": "afe13664",
   "metadata": {
    "scrolled": true
   },
   "outputs": [
    {
     "data": {
      "text/plain": [
       "['adv_inception_v3',\n",
       " 'bat_resnext26ts',\n",
       " 'beit_base_patch16_224',\n",
       " 'beit_base_patch16_224_in22k',\n",
       " 'beit_base_patch16_384',\n",
       " 'beit_large_patch16_224',\n",
       " 'beit_large_patch16_224_in22k',\n",
       " 'beit_large_patch16_384',\n",
       " 'beit_large_patch16_512',\n",
       " 'botnet26t_256',\n",
       " 'botnet50ts_256',\n",
       " 'cait_m36_384',\n",
       " 'cait_m48_448',\n",
       " 'cait_s24_224',\n",
       " 'cait_s24_384',\n",
       " 'cait_s36_384',\n",
       " 'cait_xs24_384',\n",
       " 'cait_xxs24_224',\n",
       " 'cait_xxs24_384',\n",
       " 'cait_xxs36_224',\n",
       " 'cait_xxs36_384',\n",
       " 'coat_lite_mini',\n",
       " 'coat_lite_small',\n",
       " 'coat_lite_tiny',\n",
       " 'coat_mini',\n",
       " 'coat_tiny',\n",
       " 'convit_base',\n",
       " 'convit_small',\n",
       " 'convit_tiny',\n",
       " 'convmixer_768_32',\n",
       " 'convmixer_1024_20_ks9_p14',\n",
       " 'convmixer_1536_20',\n",
       " 'convnext_base',\n",
       " 'convnext_base_384_in22ft1k',\n",
       " 'convnext_base_in22ft1k',\n",
       " 'convnext_base_in22k',\n",
       " 'convnext_large',\n",
       " 'convnext_large_384_in22ft1k',\n",
       " 'convnext_large_in22ft1k',\n",
       " 'convnext_large_in22k',\n",
       " 'convnext_small',\n",
       " 'convnext_tiny',\n",
       " 'convnext_tiny_hnf',\n",
       " 'convnext_xlarge_384_in22ft1k',\n",
       " 'convnext_xlarge_in22ft1k',\n",
       " 'convnext_xlarge_in22k',\n",
       " 'crossvit_9_240',\n",
       " 'crossvit_9_dagger_240',\n",
       " 'crossvit_15_240',\n",
       " 'crossvit_15_dagger_240',\n",
       " 'crossvit_15_dagger_408',\n",
       " 'crossvit_18_240',\n",
       " 'crossvit_18_dagger_240',\n",
       " 'crossvit_18_dagger_408',\n",
       " 'crossvit_base_240',\n",
       " 'crossvit_small_240',\n",
       " 'crossvit_tiny_240',\n",
       " 'cspdarknet53',\n",
       " 'cspdarknet53_iabn',\n",
       " 'cspresnet50',\n",
       " 'cspresnet50d',\n",
       " 'cspresnet50w',\n",
       " 'cspresnext50',\n",
       " 'cspresnext50_iabn',\n",
       " 'darknet53',\n",
       " 'deit_base_distilled_patch16_224',\n",
       " 'deit_base_distilled_patch16_384',\n",
       " 'deit_base_patch16_224',\n",
       " 'deit_base_patch16_384',\n",
       " 'deit_small_distilled_patch16_224',\n",
       " 'deit_small_patch16_224',\n",
       " 'deit_tiny_distilled_patch16_224',\n",
       " 'deit_tiny_patch16_224',\n",
       " 'densenet121',\n",
       " 'densenet121d',\n",
       " 'densenet161',\n",
       " 'densenet169',\n",
       " 'densenet201',\n",
       " 'densenet264',\n",
       " 'densenet264d_iabn',\n",
       " 'densenetblur121d',\n",
       " 'dla34',\n",
       " 'dla46_c',\n",
       " 'dla46x_c',\n",
       " 'dla60',\n",
       " 'dla60_res2net',\n",
       " 'dla60_res2next',\n",
       " 'dla60x',\n",
       " 'dla60x_c',\n",
       " 'dla102',\n",
       " 'dla102x',\n",
       " 'dla102x2',\n",
       " 'dla169',\n",
       " 'dm_nfnet_f0',\n",
       " 'dm_nfnet_f1',\n",
       " 'dm_nfnet_f2',\n",
       " 'dm_nfnet_f3',\n",
       " 'dm_nfnet_f4',\n",
       " 'dm_nfnet_f5',\n",
       " 'dm_nfnet_f6',\n",
       " 'dpn68',\n",
       " 'dpn68b',\n",
       " 'dpn92',\n",
       " 'dpn98',\n",
       " 'dpn107',\n",
       " 'dpn131',\n",
       " 'eca_botnext26ts_256',\n",
       " 'eca_halonext26ts',\n",
       " 'eca_nfnet_l0',\n",
       " 'eca_nfnet_l1',\n",
       " 'eca_nfnet_l2',\n",
       " 'eca_nfnet_l3',\n",
       " 'eca_resnet33ts',\n",
       " 'eca_resnext26ts',\n",
       " 'eca_vovnet39b',\n",
       " 'ecaresnet26t',\n",
       " 'ecaresnet50d',\n",
       " 'ecaresnet50d_pruned',\n",
       " 'ecaresnet50t',\n",
       " 'ecaresnet101d',\n",
       " 'ecaresnet101d_pruned',\n",
       " 'ecaresnet200d',\n",
       " 'ecaresnet269d',\n",
       " 'ecaresnetlight',\n",
       " 'ecaresnext26t_32x4d',\n",
       " 'ecaresnext50t_32x4d',\n",
       " 'efficientnet_b0',\n",
       " 'efficientnet_b1',\n",
       " 'efficientnet_b1_pruned',\n",
       " 'efficientnet_b2',\n",
       " 'efficientnet_b2_pruned',\n",
       " 'efficientnet_b2a',\n",
       " 'efficientnet_b3',\n",
       " 'efficientnet_b3_pruned',\n",
       " 'efficientnet_b3a',\n",
       " 'efficientnet_b4',\n",
       " 'efficientnet_b5',\n",
       " 'efficientnet_b6',\n",
       " 'efficientnet_b7',\n",
       " 'efficientnet_b8',\n",
       " 'efficientnet_cc_b0_4e',\n",
       " 'efficientnet_cc_b0_8e',\n",
       " 'efficientnet_cc_b1_8e',\n",
       " 'efficientnet_el',\n",
       " 'efficientnet_el_pruned',\n",
       " 'efficientnet_em',\n",
       " 'efficientnet_es',\n",
       " 'efficientnet_es_pruned',\n",
       " 'efficientnet_l2',\n",
       " 'efficientnet_lite0',\n",
       " 'efficientnet_lite1',\n",
       " 'efficientnet_lite2',\n",
       " 'efficientnet_lite3',\n",
       " 'efficientnet_lite4',\n",
       " 'efficientnetv2_l',\n",
       " 'efficientnetv2_m',\n",
       " 'efficientnetv2_rw_m',\n",
       " 'efficientnetv2_rw_s',\n",
       " 'efficientnetv2_rw_t',\n",
       " 'efficientnetv2_s',\n",
       " 'efficientnetv2_xl',\n",
       " 'ens_adv_inception_resnet_v2',\n",
       " 'ese_vovnet19b_dw',\n",
       " 'ese_vovnet19b_slim',\n",
       " 'ese_vovnet19b_slim_dw',\n",
       " 'ese_vovnet39b',\n",
       " 'ese_vovnet39b_evos',\n",
       " 'ese_vovnet57b',\n",
       " 'ese_vovnet99b',\n",
       " 'ese_vovnet99b_iabn',\n",
       " 'fbnetc_100',\n",
       " 'fbnetv3_b',\n",
       " 'fbnetv3_d',\n",
       " 'fbnetv3_g',\n",
       " 'gc_efficientnetv2_rw_t',\n",
       " 'gcresnet33ts',\n",
       " 'gcresnet50t',\n",
       " 'gcresnext26ts',\n",
       " 'gcresnext50ts',\n",
       " 'gernet_l',\n",
       " 'gernet_m',\n",
       " 'gernet_s',\n",
       " 'ghostnet_050',\n",
       " 'ghostnet_100',\n",
       " 'ghostnet_130',\n",
       " 'gluon_inception_v3',\n",
       " 'gluon_resnet18_v1b',\n",
       " 'gluon_resnet34_v1b',\n",
       " 'gluon_resnet50_v1b',\n",
       " 'gluon_resnet50_v1c',\n",
       " 'gluon_resnet50_v1d',\n",
       " 'gluon_resnet50_v1s',\n",
       " 'gluon_resnet101_v1b',\n",
       " 'gluon_resnet101_v1c',\n",
       " 'gluon_resnet101_v1d',\n",
       " 'gluon_resnet101_v1s',\n",
       " 'gluon_resnet152_v1b',\n",
       " 'gluon_resnet152_v1c',\n",
       " 'gluon_resnet152_v1d',\n",
       " 'gluon_resnet152_v1s',\n",
       " 'gluon_resnext50_32x4d',\n",
       " 'gluon_resnext101_32x4d',\n",
       " 'gluon_resnext101_64x4d',\n",
       " 'gluon_senet154',\n",
       " 'gluon_seresnext50_32x4d',\n",
       " 'gluon_seresnext101_32x4d',\n",
       " 'gluon_seresnext101_64x4d',\n",
       " 'gluon_xception65',\n",
       " 'gmixer_12_224',\n",
       " 'gmixer_24_224',\n",
       " 'gmlp_b16_224',\n",
       " 'gmlp_s16_224',\n",
       " 'gmlp_ti16_224',\n",
       " 'halo2botnet50ts_256',\n",
       " 'halonet26t',\n",
       " 'halonet50ts',\n",
       " 'halonet_h1',\n",
       " 'haloregnetz_b',\n",
       " 'hardcorenas_a',\n",
       " 'hardcorenas_b',\n",
       " 'hardcorenas_c',\n",
       " 'hardcorenas_d',\n",
       " 'hardcorenas_e',\n",
       " 'hardcorenas_f',\n",
       " 'hrnet_w18',\n",
       " 'hrnet_w18_small',\n",
       " 'hrnet_w18_small_v2',\n",
       " 'hrnet_w30',\n",
       " 'hrnet_w32',\n",
       " 'hrnet_w40',\n",
       " 'hrnet_w44',\n",
       " 'hrnet_w48',\n",
       " 'hrnet_w64',\n",
       " 'ig_resnext101_32x8d',\n",
       " 'ig_resnext101_32x16d',\n",
       " 'ig_resnext101_32x32d',\n",
       " 'ig_resnext101_32x48d',\n",
       " 'inception_resnet_v2',\n",
       " 'inception_v3',\n",
       " 'inception_v4',\n",
       " 'jx_nest_base',\n",
       " 'jx_nest_small',\n",
       " 'jx_nest_tiny',\n",
       " 'lambda_resnet26rpt_256',\n",
       " 'lambda_resnet26t',\n",
       " 'lambda_resnet50ts',\n",
       " 'lamhalobotnet50ts_256',\n",
       " 'lcnet_035',\n",
       " 'lcnet_050',\n",
       " 'lcnet_075',\n",
       " 'lcnet_100',\n",
       " 'lcnet_150',\n",
       " 'legacy_senet154',\n",
       " 'legacy_seresnet18',\n",
       " 'legacy_seresnet34',\n",
       " 'legacy_seresnet50',\n",
       " 'legacy_seresnet101',\n",
       " 'legacy_seresnet152',\n",
       " 'legacy_seresnext26_32x4d',\n",
       " 'legacy_seresnext50_32x4d',\n",
       " 'legacy_seresnext101_32x4d',\n",
       " 'levit_128',\n",
       " 'levit_128s',\n",
       " 'levit_192',\n",
       " 'levit_256',\n",
       " 'levit_384',\n",
       " 'mixer_b16_224',\n",
       " 'mixer_b16_224_in21k',\n",
       " 'mixer_b16_224_miil',\n",
       " 'mixer_b16_224_miil_in21k',\n",
       " 'mixer_b32_224',\n",
       " 'mixer_l16_224',\n",
       " 'mixer_l16_224_in21k',\n",
       " 'mixer_l32_224',\n",
       " 'mixer_s16_224',\n",
       " 'mixer_s32_224',\n",
       " 'mixnet_l',\n",
       " 'mixnet_m',\n",
       " 'mixnet_s',\n",
       " 'mixnet_xl',\n",
       " 'mixnet_xxl',\n",
       " 'mnasnet_050',\n",
       " 'mnasnet_075',\n",
       " 'mnasnet_100',\n",
       " 'mnasnet_140',\n",
       " 'mnasnet_a1',\n",
       " 'mnasnet_b1',\n",
       " 'mnasnet_small',\n",
       " 'mobilenetv2_035',\n",
       " 'mobilenetv2_050',\n",
       " 'mobilenetv2_075',\n",
       " 'mobilenetv2_100',\n",
       " 'mobilenetv2_110d',\n",
       " 'mobilenetv2_120d',\n",
       " 'mobilenetv2_140',\n",
       " 'mobilenetv3_large_075',\n",
       " 'mobilenetv3_large_100',\n",
       " 'mobilenetv3_large_100_miil',\n",
       " 'mobilenetv3_large_100_miil_in21k',\n",
       " 'mobilenetv3_rw',\n",
       " 'mobilenetv3_small_050',\n",
       " 'mobilenetv3_small_075',\n",
       " 'mobilenetv3_small_100',\n",
       " 'nasnetalarge',\n",
       " 'nest_base',\n",
       " 'nest_small',\n",
       " 'nest_tiny',\n",
       " 'nf_ecaresnet26',\n",
       " 'nf_ecaresnet50',\n",
       " 'nf_ecaresnet101',\n",
       " 'nf_regnet_b0',\n",
       " 'nf_regnet_b1',\n",
       " 'nf_regnet_b2',\n",
       " 'nf_regnet_b3',\n",
       " 'nf_regnet_b4',\n",
       " 'nf_regnet_b5',\n",
       " 'nf_resnet26',\n",
       " 'nf_resnet50',\n",
       " 'nf_resnet101',\n",
       " 'nf_seresnet26',\n",
       " 'nf_seresnet50',\n",
       " 'nf_seresnet101',\n",
       " 'nfnet_f0',\n",
       " 'nfnet_f0s',\n",
       " 'nfnet_f1',\n",
       " 'nfnet_f1s',\n",
       " 'nfnet_f2',\n",
       " 'nfnet_f2s',\n",
       " 'nfnet_f3',\n",
       " 'nfnet_f3s',\n",
       " 'nfnet_f4',\n",
       " 'nfnet_f4s',\n",
       " 'nfnet_f5',\n",
       " 'nfnet_f5s',\n",
       " 'nfnet_f6',\n",
       " 'nfnet_f6s',\n",
       " 'nfnet_f7',\n",
       " 'nfnet_f7s',\n",
       " 'nfnet_l0',\n",
       " 'pit_b_224',\n",
       " 'pit_b_distilled_224',\n",
       " 'pit_s_224',\n",
       " 'pit_s_distilled_224',\n",
       " 'pit_ti_224',\n",
       " 'pit_ti_distilled_224',\n",
       " 'pit_xs_224',\n",
       " 'pit_xs_distilled_224',\n",
       " 'pnasnet5large',\n",
       " 'regnetx_002',\n",
       " 'regnetx_004',\n",
       " 'regnetx_006',\n",
       " 'regnetx_008',\n",
       " 'regnetx_016',\n",
       " 'regnetx_032',\n",
       " 'regnetx_040',\n",
       " 'regnetx_064',\n",
       " 'regnetx_080',\n",
       " 'regnetx_120',\n",
       " 'regnetx_160',\n",
       " 'regnetx_320',\n",
       " 'regnety_002',\n",
       " 'regnety_004',\n",
       " 'regnety_006',\n",
       " 'regnety_008',\n",
       " 'regnety_016',\n",
       " 'regnety_032',\n",
       " 'regnety_040',\n",
       " 'regnety_064',\n",
       " 'regnety_080',\n",
       " 'regnety_120',\n",
       " 'regnety_160',\n",
       " 'regnety_320',\n",
       " 'regnetz_b16',\n",
       " 'regnetz_c16',\n",
       " 'regnetz_d8',\n",
       " 'regnetz_d8_evob',\n",
       " 'regnetz_d8_evos',\n",
       " 'regnetz_d32',\n",
       " 'regnetz_e8',\n",
       " 'repvgg_a2',\n",
       " 'repvgg_b0',\n",
       " 'repvgg_b1',\n",
       " 'repvgg_b1g4',\n",
       " 'repvgg_b2',\n",
       " 'repvgg_b2g4',\n",
       " 'repvgg_b3',\n",
       " 'repvgg_b3g4',\n",
       " 'res2net50_14w_8s',\n",
       " 'res2net50_26w_4s',\n",
       " 'res2net50_26w_6s',\n",
       " 'res2net50_26w_8s',\n",
       " 'res2net50_48w_2s',\n",
       " 'res2net101_26w_4s',\n",
       " 'res2next50',\n",
       " 'resmlp_12_224',\n",
       " 'resmlp_12_224_dino',\n",
       " 'resmlp_12_distilled_224',\n",
       " 'resmlp_24_224',\n",
       " 'resmlp_24_224_dino',\n",
       " 'resmlp_24_distilled_224',\n",
       " 'resmlp_36_224',\n",
       " 'resmlp_36_distilled_224',\n",
       " 'resmlp_big_24_224',\n",
       " 'resmlp_big_24_224_in22ft1k',\n",
       " 'resmlp_big_24_distilled_224',\n",
       " 'resnest14d',\n",
       " 'resnest26d',\n",
       " 'resnest50d',\n",
       " 'resnest50d_1s4x24d',\n",
       " 'resnest50d_4s2x40d',\n",
       " 'resnest101e',\n",
       " 'resnest200e',\n",
       " 'resnest269e',\n",
       " 'resnet18',\n",
       " 'resnet18d',\n",
       " 'resnet26',\n",
       " 'resnet26d',\n",
       " 'resnet26t',\n",
       " 'resnet32ts',\n",
       " 'resnet33ts',\n",
       " 'resnet34',\n",
       " 'resnet34d',\n",
       " 'resnet50',\n",
       " 'resnet50_gn',\n",
       " 'resnet50d',\n",
       " 'resnet50t',\n",
       " 'resnet51q',\n",
       " 'resnet61q',\n",
       " 'resnet101',\n",
       " 'resnet101d',\n",
       " 'resnet152',\n",
       " 'resnet152d',\n",
       " 'resnet200',\n",
       " 'resnet200d',\n",
       " 'resnetblur18',\n",
       " 'resnetblur50',\n",
       " 'resnetrs50',\n",
       " 'resnetrs101',\n",
       " 'resnetrs152',\n",
       " 'resnetrs200',\n",
       " 'resnetrs270',\n",
       " 'resnetrs350',\n",
       " 'resnetrs420',\n",
       " 'resnetv2_50',\n",
       " 'resnetv2_50d',\n",
       " 'resnetv2_50d_evob',\n",
       " 'resnetv2_50d_evos',\n",
       " 'resnetv2_50d_gn',\n",
       " 'resnetv2_50t',\n",
       " 'resnetv2_50x1_bit_distilled',\n",
       " 'resnetv2_50x1_bitm',\n",
       " 'resnetv2_50x1_bitm_in21k',\n",
       " 'resnetv2_50x3_bitm',\n",
       " 'resnetv2_50x3_bitm_in21k',\n",
       " 'resnetv2_101',\n",
       " 'resnetv2_101d',\n",
       " 'resnetv2_101x1_bitm',\n",
       " 'resnetv2_101x1_bitm_in21k',\n",
       " 'resnetv2_101x3_bitm',\n",
       " 'resnetv2_101x3_bitm_in21k',\n",
       " 'resnetv2_152',\n",
       " 'resnetv2_152d',\n",
       " 'resnetv2_152x2_bit_teacher',\n",
       " 'resnetv2_152x2_bit_teacher_384',\n",
       " 'resnetv2_152x2_bitm',\n",
       " 'resnetv2_152x2_bitm_in21k',\n",
       " 'resnetv2_152x4_bitm',\n",
       " 'resnetv2_152x4_bitm_in21k',\n",
       " 'resnext26ts',\n",
       " 'resnext50_32x4d',\n",
       " 'resnext50d_32x4d',\n",
       " 'resnext101_32x4d',\n",
       " 'resnext101_32x8d',\n",
       " 'resnext101_64x4d',\n",
       " 'rexnet_100',\n",
       " 'rexnet_130',\n",
       " 'rexnet_150',\n",
       " 'rexnet_200',\n",
       " 'rexnetr_100',\n",
       " 'rexnetr_130',\n",
       " 'rexnetr_150',\n",
       " 'rexnetr_200',\n",
       " 'sebotnet33ts_256',\n",
       " 'sehalonet33ts',\n",
       " 'selecsls42',\n",
       " 'selecsls42b',\n",
       " 'selecsls60',\n",
       " 'selecsls60b',\n",
       " 'selecsls84',\n",
       " 'semnasnet_050',\n",
       " 'semnasnet_075',\n",
       " 'semnasnet_100',\n",
       " 'semnasnet_140',\n",
       " 'senet154',\n",
       " 'seresnet18',\n",
       " 'seresnet33ts',\n",
       " 'seresnet34',\n",
       " 'seresnet50',\n",
       " 'seresnet50t',\n",
       " 'seresnet101',\n",
       " 'seresnet152',\n",
       " 'seresnet152d',\n",
       " 'seresnet200d',\n",
       " 'seresnet269d',\n",
       " 'seresnext26d_32x4d',\n",
       " 'seresnext26t_32x4d',\n",
       " 'seresnext26tn_32x4d',\n",
       " 'seresnext26ts',\n",
       " 'seresnext50_32x4d',\n",
       " 'seresnext101_32x4d',\n",
       " 'seresnext101_32x8d',\n",
       " 'skresnet18',\n",
       " 'skresnet34',\n",
       " 'skresnet50',\n",
       " 'skresnet50d',\n",
       " 'skresnext50_32x4d',\n",
       " 'spnasnet_100',\n",
       " 'ssl_resnet18',\n",
       " 'ssl_resnet50',\n",
       " 'ssl_resnext50_32x4d',\n",
       " 'ssl_resnext101_32x4d',\n",
       " 'ssl_resnext101_32x8d',\n",
       " 'ssl_resnext101_32x16d',\n",
       " 'swin_base_patch4_window7_224',\n",
       " 'swin_base_patch4_window7_224_in22k',\n",
       " 'swin_base_patch4_window12_384',\n",
       " 'swin_base_patch4_window12_384_in22k',\n",
       " 'swin_large_patch4_window7_224',\n",
       " 'swin_large_patch4_window7_224_in22k',\n",
       " 'swin_large_patch4_window12_384',\n",
       " 'swin_large_patch4_window12_384_in22k',\n",
       " 'swin_small_patch4_window7_224',\n",
       " 'swin_tiny_patch4_window7_224',\n",
       " 'swsl_resnet18',\n",
       " 'swsl_resnet50',\n",
       " 'swsl_resnext50_32x4d',\n",
       " 'swsl_resnext101_32x4d',\n",
       " 'swsl_resnext101_32x8d',\n",
       " 'swsl_resnext101_32x16d',\n",
       " 'tf_efficientnet_b0',\n",
       " 'tf_efficientnet_b0_ap',\n",
       " 'tf_efficientnet_b0_ns',\n",
       " 'tf_efficientnet_b1',\n",
       " 'tf_efficientnet_b1_ap',\n",
       " 'tf_efficientnet_b1_ns',\n",
       " 'tf_efficientnet_b2',\n",
       " 'tf_efficientnet_b2_ap',\n",
       " 'tf_efficientnet_b2_ns',\n",
       " 'tf_efficientnet_b3',\n",
       " 'tf_efficientnet_b3_ap',\n",
       " 'tf_efficientnet_b3_ns',\n",
       " 'tf_efficientnet_b4',\n",
       " 'tf_efficientnet_b4_ap',\n",
       " 'tf_efficientnet_b4_ns',\n",
       " 'tf_efficientnet_b5',\n",
       " 'tf_efficientnet_b5_ap',\n",
       " 'tf_efficientnet_b5_ns',\n",
       " 'tf_efficientnet_b6',\n",
       " 'tf_efficientnet_b6_ap',\n",
       " 'tf_efficientnet_b6_ns',\n",
       " 'tf_efficientnet_b7',\n",
       " 'tf_efficientnet_b7_ap',\n",
       " 'tf_efficientnet_b7_ns',\n",
       " 'tf_efficientnet_b8',\n",
       " 'tf_efficientnet_b8_ap',\n",
       " 'tf_efficientnet_cc_b0_4e',\n",
       " 'tf_efficientnet_cc_b0_8e',\n",
       " 'tf_efficientnet_cc_b1_8e',\n",
       " 'tf_efficientnet_el',\n",
       " 'tf_efficientnet_em',\n",
       " 'tf_efficientnet_es',\n",
       " 'tf_efficientnet_l2_ns',\n",
       " 'tf_efficientnet_l2_ns_475',\n",
       " 'tf_efficientnet_lite0',\n",
       " 'tf_efficientnet_lite1',\n",
       " 'tf_efficientnet_lite2',\n",
       " 'tf_efficientnet_lite3',\n",
       " 'tf_efficientnet_lite4',\n",
       " 'tf_efficientnetv2_b0',\n",
       " 'tf_efficientnetv2_b1',\n",
       " 'tf_efficientnetv2_b2',\n",
       " 'tf_efficientnetv2_b3',\n",
       " 'tf_efficientnetv2_l',\n",
       " 'tf_efficientnetv2_l_in21ft1k',\n",
       " 'tf_efficientnetv2_l_in21k',\n",
       " 'tf_efficientnetv2_m',\n",
       " 'tf_efficientnetv2_m_in21ft1k',\n",
       " 'tf_efficientnetv2_m_in21k',\n",
       " 'tf_efficientnetv2_s',\n",
       " 'tf_efficientnetv2_s_in21ft1k',\n",
       " 'tf_efficientnetv2_s_in21k',\n",
       " 'tf_efficientnetv2_xl_in21ft1k',\n",
       " 'tf_efficientnetv2_xl_in21k',\n",
       " 'tf_inception_v3',\n",
       " 'tf_mixnet_l',\n",
       " 'tf_mixnet_m',\n",
       " 'tf_mixnet_s',\n",
       " 'tf_mobilenetv3_large_075',\n",
       " 'tf_mobilenetv3_large_100',\n",
       " 'tf_mobilenetv3_large_minimal_100',\n",
       " 'tf_mobilenetv3_small_075',\n",
       " 'tf_mobilenetv3_small_100',\n",
       " 'tf_mobilenetv3_small_minimal_100',\n",
       " 'tinynet_a',\n",
       " 'tinynet_b',\n",
       " 'tinynet_c',\n",
       " 'tinynet_d',\n",
       " 'tinynet_e',\n",
       " 'tnt_b_patch16_224',\n",
       " 'tnt_s_patch16_224',\n",
       " 'tresnet_l',\n",
       " 'tresnet_l_448',\n",
       " 'tresnet_m',\n",
       " 'tresnet_m_448',\n",
       " 'tresnet_m_miil_in21k',\n",
       " 'tresnet_xl',\n",
       " 'tresnet_xl_448',\n",
       " 'tv_densenet121',\n",
       " 'tv_resnet34',\n",
       " 'tv_resnet50',\n",
       " 'tv_resnet101',\n",
       " 'tv_resnet152',\n",
       " 'tv_resnext50_32x4d',\n",
       " 'twins_pcpvt_base',\n",
       " 'twins_pcpvt_large',\n",
       " 'twins_pcpvt_small',\n",
       " 'twins_svt_base',\n",
       " 'twins_svt_large',\n",
       " 'twins_svt_small',\n",
       " 'vgg11',\n",
       " 'vgg11_bn',\n",
       " 'vgg13',\n",
       " 'vgg13_bn',\n",
       " 'vgg16',\n",
       " 'vgg16_bn',\n",
       " 'vgg19',\n",
       " 'vgg19_bn',\n",
       " 'visformer_small',\n",
       " 'visformer_tiny',\n",
       " 'vit_base_patch8_224',\n",
       " 'vit_base_patch8_224_in21k',\n",
       " 'vit_base_patch16_224',\n",
       " 'vit_base_patch16_224_in21k',\n",
       " 'vit_base_patch16_224_miil',\n",
       " 'vit_base_patch16_224_miil_in21k',\n",
       " 'vit_base_patch16_384',\n",
       " 'vit_base_patch16_sam_224',\n",
       " 'vit_base_patch32_224',\n",
       " 'vit_base_patch32_224_in21k',\n",
       " 'vit_base_patch32_384',\n",
       " 'vit_base_patch32_sam_224',\n",
       " 'vit_base_r26_s32_224',\n",
       " 'vit_base_r50_s16_224',\n",
       " 'vit_base_r50_s16_224_in21k',\n",
       " 'vit_base_r50_s16_384',\n",
       " 'vit_base_resnet26d_224',\n",
       " 'vit_base_resnet50_224_in21k',\n",
       " 'vit_base_resnet50_384',\n",
       " 'vit_base_resnet50d_224',\n",
       " 'vit_giant_patch14_224',\n",
       " 'vit_gigantic_patch14_224',\n",
       " 'vit_huge_patch14_224',\n",
       " 'vit_huge_patch14_224_in21k',\n",
       " 'vit_large_patch16_224',\n",
       " 'vit_large_patch16_224_in21k',\n",
       " 'vit_large_patch16_384',\n",
       " 'vit_large_patch32_224',\n",
       " 'vit_large_patch32_224_in21k',\n",
       " 'vit_large_patch32_384',\n",
       " 'vit_large_r50_s32_224',\n",
       " 'vit_large_r50_s32_224_in21k',\n",
       " 'vit_large_r50_s32_384',\n",
       " 'vit_small_patch16_224',\n",
       " 'vit_small_patch16_224_in21k',\n",
       " 'vit_small_patch16_384',\n",
       " 'vit_small_patch32_224',\n",
       " 'vit_small_patch32_224_in21k',\n",
       " 'vit_small_patch32_384',\n",
       " 'vit_small_r26_s32_224',\n",
       " 'vit_small_r26_s32_224_in21k',\n",
       " 'vit_small_r26_s32_384',\n",
       " 'vit_small_resnet26d_224',\n",
       " 'vit_small_resnet50d_s16_224',\n",
       " 'vit_tiny_patch16_224',\n",
       " 'vit_tiny_patch16_224_in21k',\n",
       " 'vit_tiny_patch16_384',\n",
       " 'vit_tiny_r_s16_p8_224',\n",
       " 'vit_tiny_r_s16_p8_224_in21k',\n",
       " 'vit_tiny_r_s16_p8_384',\n",
       " 'vovnet39a',\n",
       " 'vovnet57a',\n",
       " 'wide_resnet50_2',\n",
       " 'wide_resnet101_2',\n",
       " 'xception',\n",
       " 'xception41',\n",
       " 'xception65',\n",
       " 'xception71',\n",
       " 'xcit_large_24_p8_224',\n",
       " 'xcit_large_24_p8_224_dist',\n",
       " 'xcit_large_24_p8_384_dist',\n",
       " 'xcit_large_24_p16_224',\n",
       " 'xcit_large_24_p16_224_dist',\n",
       " 'xcit_large_24_p16_384_dist',\n",
       " 'xcit_medium_24_p8_224',\n",
       " 'xcit_medium_24_p8_224_dist',\n",
       " 'xcit_medium_24_p8_384_dist',\n",
       " 'xcit_medium_24_p16_224',\n",
       " 'xcit_medium_24_p16_224_dist',\n",
       " 'xcit_medium_24_p16_384_dist',\n",
       " 'xcit_nano_12_p8_224',\n",
       " 'xcit_nano_12_p8_224_dist',\n",
       " 'xcit_nano_12_p8_384_dist',\n",
       " 'xcit_nano_12_p16_224',\n",
       " 'xcit_nano_12_p16_224_dist',\n",
       " 'xcit_nano_12_p16_384_dist',\n",
       " 'xcit_small_12_p8_224',\n",
       " 'xcit_small_12_p8_224_dist',\n",
       " 'xcit_small_12_p8_384_dist',\n",
       " 'xcit_small_12_p16_224',\n",
       " 'xcit_small_12_p16_224_dist',\n",
       " 'xcit_small_12_p16_384_dist',\n",
       " 'xcit_small_24_p8_224',\n",
       " 'xcit_small_24_p8_224_dist',\n",
       " 'xcit_small_24_p8_384_dist',\n",
       " 'xcit_small_24_p16_224',\n",
       " 'xcit_small_24_p16_224_dist',\n",
       " 'xcit_small_24_p16_384_dist',\n",
       " 'xcit_tiny_12_p8_224',\n",
       " 'xcit_tiny_12_p8_224_dist',\n",
       " 'xcit_tiny_12_p8_384_dist',\n",
       " 'xcit_tiny_12_p16_224',\n",
       " 'xcit_tiny_12_p16_224_dist',\n",
       " 'xcit_tiny_12_p16_384_dist',\n",
       " 'xcit_tiny_24_p8_224',\n",
       " 'xcit_tiny_24_p8_224_dist',\n",
       " 'xcit_tiny_24_p8_384_dist',\n",
       " 'xcit_tiny_24_p16_224',\n",
       " 'xcit_tiny_24_p16_224_dist',\n",
       " 'xcit_tiny_24_p16_384_dist']"
      ]
     },
     "execution_count": 29,
     "metadata": {},
     "output_type": "execute_result"
    }
   ],
   "source": [
    "import timm\n",
    "timm.list_models()"
   ]
  },
  {
   "cell_type": "code",
   "execution_count": 30,
   "id": "4d682aed",
   "metadata": {
    "scrolled": true
   },
   "outputs": [],
   "source": [
    "# timm.create_model('ecaresnet50t',in_chans=1)"
   ]
  },
  {
   "cell_type": "code",
   "execution_count": 31,
   "id": "4aa0c3a2",
   "metadata": {
    "scrolled": true
   },
   "outputs": [
    {
     "data": {
      "text/plain": [
       "1     3095\n",
       "0     3071\n",
       "2     2582\n",
       "3     1800\n",
       "4     1756\n",
       "5     1214\n",
       "6     1181\n",
       "7     1044\n",
       "8      945\n",
       "9      814\n",
       "10     796\n",
       "11     495\n",
       "12     408\n",
       "13     306\n",
       "14     142\n",
       "15      94\n",
       "16      94\n",
       "17      58\n",
       "18      13\n",
       "Name: genre_id, dtype: int64"
      ]
     },
     "execution_count": 31,
     "metadata": {},
     "output_type": "execute_result"
    }
   ],
   "source": [
    "df_train['genre_id'].value_counts()"
   ]
  },
  {
   "cell_type": "code",
   "execution_count": 32,
   "id": "39074c54",
   "metadata": {
    "scrolled": false
   },
   "outputs": [
    {
     "data": {
      "text/html": [
       "<div>\n",
       "<style scoped>\n",
       "    .dataframe tbody tr th:only-of-type {\n",
       "        vertical-align: middle;\n",
       "    }\n",
       "\n",
       "    .dataframe tbody tr th {\n",
       "        vertical-align: top;\n",
       "    }\n",
       "\n",
       "    .dataframe thead th {\n",
       "        text-align: right;\n",
       "    }\n",
       "</style>\n",
       "<table border=\"1\" class=\"dataframe\">\n",
       "  <thead>\n",
       "    <tr style=\"text-align: right;\">\n",
       "      <th></th>\n",
       "      <th>song_id</th>\n",
       "      <th>filename</th>\n",
       "      <th>filepath</th>\n",
       "      <th>genre_id</th>\n",
       "      <th>genre</th>\n",
       "      <th>fold</th>\n",
       "    </tr>\n",
       "  </thead>\n",
       "  <tbody>\n",
       "    <tr>\n",
       "      <th>0</th>\n",
       "      <td>10150</td>\n",
       "      <td>010150.ogg</td>\n",
       "      <td>train/010150.ogg</td>\n",
       "      <td>7</td>\n",
       "      <td>Instrumental</td>\n",
       "      <td>4</td>\n",
       "    </tr>\n",
       "    <tr>\n",
       "      <th>1</th>\n",
       "      <td>7358</td>\n",
       "      <td>007358.ogg</td>\n",
       "      <td>train/007358.ogg</td>\n",
       "      <td>2</td>\n",
       "      <td>Punk</td>\n",
       "      <td>3</td>\n",
       "    </tr>\n",
       "    <tr>\n",
       "      <th>2</th>\n",
       "      <td>20573</td>\n",
       "      <td>020573.ogg</td>\n",
       "      <td>train/020573.ogg</td>\n",
       "      <td>5</td>\n",
       "      <td>Folk</td>\n",
       "      <td>2</td>\n",
       "    </tr>\n",
       "    <tr>\n",
       "      <th>3</th>\n",
       "      <td>11170</td>\n",
       "      <td>011170.ogg</td>\n",
       "      <td>train/011170.ogg</td>\n",
       "      <td>12</td>\n",
       "      <td>Old-Time / Historic</td>\n",
       "      <td>3</td>\n",
       "    </tr>\n",
       "    <tr>\n",
       "      <th>4</th>\n",
       "      <td>16662</td>\n",
       "      <td>016662.ogg</td>\n",
       "      <td>train/016662.ogg</td>\n",
       "      <td>1</td>\n",
       "      <td>Rock</td>\n",
       "      <td>3</td>\n",
       "    </tr>\n",
       "  </tbody>\n",
       "</table>\n",
       "</div>"
      ],
      "text/plain": [
       "   song_id    filename          filepath  genre_id                genre  fold\n",
       "0    10150  010150.ogg  train/010150.ogg         7         Instrumental     4\n",
       "1     7358  007358.ogg  train/007358.ogg         2                 Punk     3\n",
       "2    20573  020573.ogg  train/020573.ogg         5                 Folk     2\n",
       "3    11170  011170.ogg  train/011170.ogg        12  Old-Time / Historic     3\n",
       "4    16662  016662.ogg  train/016662.ogg         1                 Rock     3"
      ]
     },
     "execution_count": 32,
     "metadata": {},
     "output_type": "execute_result"
    }
   ],
   "source": [
    "df_train.head()"
   ]
  },
  {
   "cell_type": "code",
   "execution_count": 33,
   "id": "66c1705d",
   "metadata": {},
   "outputs": [],
   "source": [
    "NCLASS = df_train['genre_id'].nunique()"
   ]
  },
  {
   "cell_type": "code",
   "execution_count": 34,
   "id": "e170340e",
   "metadata": {
    "scrolled": true
   },
   "outputs": [
    {
     "data": {
      "text/plain": [
       "19"
      ]
     },
     "execution_count": 34,
     "metadata": {},
     "output_type": "execute_result"
    }
   ],
   "source": [
    "NCLASS"
   ]
  },
  {
   "cell_type": "code",
   "execution_count": 35,
   "id": "1e0c6bd2",
   "metadata": {},
   "outputs": [],
   "source": [
    "def run():\n",
    "    oof = df_train.copy()\n",
    "    oversampleTrain = False\n",
    "    \n",
    "    for fold_num in [0,1,2,3,4]:\n",
    "        print('*****************************************')\n",
    "        print(f'Training Fold {fold_num}')\n",
    "        print('*****************************************')\n",
    "\n",
    "    #with IPyExperimentsPytorch() as exp:\n",
    "        kernel_type = 'ecaresnet50t_MonoSpec_Hop512_Mels128'\n",
    "        OUTPUT_DIR = f'C:/Users/Kaggle/Pog_Music_Classification/outputs/{kernel_type}/'\n",
    "        if not os.path.exists(OUTPUT_DIR):\n",
    "            os.makedirs(OUTPUT_DIR)\n",
    "\n",
    "            \n",
    "        crit =  CrossEntropyLossFlat() #FocalLoss() #CrossEntropyLossFlat() #FocalLoss() #LabelSmoothingCrossEntropy(0.01)\n",
    "        batch_size = 32\n",
    "        n_epochs = 7\n",
    "\n",
    "        training_fold = df_train.query(f'fold!={fold_num}').reset_index(drop=True, inplace=False)\n",
    "        \n",
    "        if oversampleTrain:\n",
    "            print('--------- Oversampling training dataset -----------')\n",
    "            training_fold = pd.concat([training_fold,training_fold[training_fold['genre_id'].isin(ExtremeMinority)].sample(n=150,replace=True,random_state=42)],0).reset_index(drop=True)\n",
    "            training_fold = pd.concat([training_fold,training_fold[training_fold['genre_id'].isin(SomeMinority)].sample(n=150,replace=True,random_state=42)],0).reset_index(drop=True)\n",
    "            training_fold = pd.concat([training_fold,training_fold[training_fold['genre_id'].isin(LowMinority)].sample(n=100,replace=True,random_state=42)],0).reset_index(drop=True)\n",
    "                \n",
    "        train_ds = POGFiles(training_fold,\n",
    "                            transform=tfms\n",
    "                           )\n",
    "\n",
    "        validation_fold = df_train.query(f'fold=={fold_num}').reset_index(drop=True, inplace=False)\n",
    "        valid_ds = POGFiles(validation_fold,\n",
    "                            transform=tfms)\n",
    "\n",
    "        print(f'- Training samples: {len(train_ds)}\\n- Validation Samples : {len(valid_ds)}')\n",
    "\n",
    "        bs = batch_size\n",
    "        train_dl = torch.utils.data.DataLoader(train_ds, batch_size=bs, num_workers=0,pin_memory=False)\n",
    "        valid_dl = torch.utils.data.DataLoader(valid_ds, batch_size=bs*2, num_workers=0,shuffle=False,pin_memory=False)\n",
    "\n",
    "        dls = DataLoaders(train_dl, valid_dl)\n",
    "        \n",
    "        \n",
    "        model = timm.create_model('ecaresnet50t', pretrained=False, in_chans=1)\n",
    "        model.conv1[0].stride = (1,1)\n",
    "#         model.conv1[0].stride = (1,1)\n",
    "#         model.stem.conv.stride = (1,1)\n",
    "        model.fc = nn.Linear(2048,NCLASS)\n",
    "    \n",
    "        f1_score = F1Score(average=\"micro\")\n",
    "        \n",
    "        \n",
    "        \n",
    "        ### MixUp() in callbacks\n",
    "#        ReduceLROnPlateau(monitor='valid_loss', min_delta=0.1,patience=2,min_lr=1e-7)\n",
    "# GradientAccumulation (n_acc = 2)\n",
    "        \n",
    "        learn = Learner(dls, model,opt_func=ranger,loss_func=crit,metrics=[f1_score],cbs=[SaveModelCallback('f1_score', every_epoch=True),\n",
    "                                                                                          CSVLogger(f'C:/Users/Kaggle/Pog_Music_Classification/outputs/{kernel_type}/{fold_num}logs.csv')]).to_fp16()\n",
    "\n",
    "#         weights = torch.load(f'C:/Users/Kaggle/Pog_Music_Classification/outputs/{kernel_type_prev}/fold_{fold_num}.pth')['model']\n",
    "#         learn.model.load_state_dict(weights,strict=False)\n",
    "        \n",
    "#         learn.fit_one_cycle(n_epochs, 1e-4, wd=1e-03)\n",
    "        learn.fit_flat_cos(n_epochs, 1e-2, wd=1e-03)\n",
    "#         learn = learn.to_fp16()\n",
    "        learn.save(f'C:/Users/Kaggle/Pog_Music_Classification/outputs/{kernel_type}/fold_{fold_num}')\n",
    "        learn = learn.load(f'C:/Users/Kaggle/Pog_Music_Classification/outputs/{kernel_type}/fold_{fold_num}')\n",
    "        \n",
    "        learn.model.eval()\n",
    "        test_df = df_test\n",
    "        test_ds = POGFiles(df_test_valid,\n",
    "                           transform=tfms,\n",
    "                           train=False\n",
    "                           )\n",
    "\n",
    "        test_ds.input_path = Path(test_path)\n",
    "\n",
    "        bs = batch_size\n",
    "        test_dl = torch.utils.data.DataLoader(test_ds, batch_size=bs*2, num_workers=0, shuffle=False)\n",
    "        \n",
    "        preds = []\n",
    "        probs = []\n",
    "        for xb  in progress_bar(test_dl):\n",
    "            with torch.no_grad():output = learn.model(xb.cuda())\n",
    "            probs.append(torch.softmax(output.float(),1).squeeze().cpu())\n",
    "            preds.append(torch.argmax(output.float(),1).squeeze().cpu())\n",
    "        \n",
    "        oof_ = []\n",
    "        for xb,_  in progress_bar(valid_dl):\n",
    "            with torch.no_grad():output = learn.model(xb.cuda())\n",
    "            oof_.append(torch.softmax(output.float(),1).squeeze().cpu())\n",
    "        \n",
    "        oof_ = [t.detach().numpy() for t in oof_]\n",
    "        np.save(f'C:/Users/Kaggle/Pog_Music_Classification/outputs/{kernel_type}/test_fold_{fold_num}_probs.npy',np.array(probs))\n",
    "        np.save(f'C:/Users/Kaggle/Pog_Music_Classification/outputs/{kernel_type}/oof_fold_{fold_num}_probs.npy',oof_)\n",
    "        np.save(f'C:/Users/Kaggle/Pog_Music_Classification/outputs/{kernel_type}/oof_fold_{fold_num}_fnames.npy',np.array(validation_fold.song_id))        \n",
    "\n",
    "        preds = torch.cat(preds)\n",
    "        sample_df = df_test_valid.copy()\n",
    "        sample_df['target'] = preds\n",
    "        sample_df.to_csv(f'C:/Users/Kaggle/Pog_Music_Classification/outputs/{kernel_type}/fold_{fold_num}.csv', index=False)"
   ]
  },
  {
   "cell_type": "code",
   "execution_count": 36,
   "id": "392f002f",
   "metadata": {
    "scrolled": true
   },
   "outputs": [],
   "source": [
    "# if __name__=='__main__':\n",
    "#     run()"
   ]
  },
  {
   "cell_type": "markdown",
   "id": "fde40e85",
   "metadata": {},
   "source": [
    "#### Prog resize"
   ]
  },
  {
   "cell_type": "code",
   "execution_count": 37,
   "id": "f0f45da7",
   "metadata": {},
   "outputs": [],
   "source": [
    "import albumentations as A\n",
    "from albumentations.pytorch import ToTensorV2\n",
    "from torchvision.transforms import Compose\n",
    "import torchvision\n",
    "\n",
    "tfms = Compose(\n",
    "#     [torchvision.transforms.Resize((128,128))])\n",
    "    [torchvision.transforms.CenterCrop((160,1072))],)\n",
    "#    torchaudio.transforms.TimeMasking(48)])\n",
    "\n"
   ]
  },
  {
   "cell_type": "code",
   "execution_count": 38,
   "id": "08fe080e",
   "metadata": {},
   "outputs": [],
   "source": [
    "import torchaudio"
   ]
  },
  {
   "cell_type": "code",
   "execution_count": 39,
   "id": "44164006",
   "metadata": {},
   "outputs": [],
   "source": [
    "import torch_audiomentations as tA\n",
    "\n",
    "def get_transforms(*, data):\n",
    "    \n",
    "    if data == 'train':\n",
    "        return tA.Compose(\n",
    "                transforms=[\n",
    "#                      tA.ShuffleChannels(p=0.1,mode=\"per_example\",p_mode=\"per_example\", sample_rate= 16000),\n",
    "                    tA.PeakNormalization(p=0.5,apply_to='only_too_loud_sounds',mode=\"per_example\",p_mode=\"per_example\",sample_rate=16000),\n",
    "#                     tA.BandPassFilter(),\n",
    "                    tA.TimeInversion(p=0.5,p_mode=\"per_example\",sample_rate=16000),\n",
    "#                     tA.PitchShift()\n",
    "#                      tA.AddColoredNoise(p=0.1,mode=\"per_channel\",p_mode=\"per_channel\", sample_rate=16000,max_snr_in_db = 15),\n",
    "                     tA.Shift(p=0.5,mode=\"per_example\",p_mode=\"per_example\", sample_rate=16000,\n",
    "                              max_shift=0.025, min_shift=-0.025),\n",
    "                ])\n",
    "\n",
    "    elif data == 'valid':\n",
    "        return tA.Compose([\n",
    "        ])"
   ]
  },
  {
   "cell_type": "code",
   "execution_count": 40,
   "id": "bba55ddd",
   "metadata": {},
   "outputs": [],
   "source": [
    "class POGFiles(torch.utils.data.Dataset):\n",
    "    \n",
    "    def __init__(self, df, \n",
    "                 train = True,\n",
    "                 augmentations = None,\n",
    "                 normalize=False,\n",
    "                 ch0Max=2.7517,\n",
    "                 ch1Max=2.7950,\n",
    "                 HOP_LEN = 1024,\n",
    "                 N_FFT=1024,\n",
    "                 n_mels=224,\n",
    "                 transform=tfms,\n",
    "                 audiotfms=None,\n",
    "                 applyTukey=False,\n",
    "                 quantizeData=False,\n",
    "                 MakeThreeChannel= False,\n",
    "                 bins_per_octave = 24,\n",
    "                 n_bins = 64\n",
    "                ):\n",
    "        \n",
    "        \n",
    "        self.df = df\n",
    "        self.train = train\n",
    "        self.ch0Max = ch0Max\n",
    "        self.ch1Max = ch1Max        \n",
    "        self.N_FFT = N_FFT\n",
    "        self.n_bins = n_bins\n",
    "        self.bins_per_octave = bins_per_octave\n",
    "        self.HOP_LEN = HOP_LEN\n",
    "        self.transform = transform\n",
    "        self.n_mels= n_mels\n",
    "        self.audiotfms = audiotfms\n",
    "        self.normalize = normalize\n",
    "        self.MakeThreeChannel = MakeThreeChannel\n",
    "        \n",
    "    def __len__(self):\n",
    "        return len(self.df)\n",
    "    \n",
    "    def load_file(self, filename):\n",
    "        if self.train:\n",
    "            spec = np.load(f'C:/Users/Kaggle/Pog_Music_Classification/spec/448_160/train/{filename}')\n",
    "        else:\n",
    "            spec = np.load(f'C:/Users/Kaggle/Pog_Music_Classification/spec/448_160/test/{filename}')\n",
    "            \n",
    "        return spec\n",
    "\n",
    "\n",
    "    def __getitem__(self, index):\n",
    "        row  = self.df.iloc[index]\n",
    "        \n",
    "        samples = self.load_file(row.filename.split('.')[0]+'.npy')\n",
    "        samples = torch.from_numpy(samples).float()\n",
    "        \n",
    "        if self.transform is not None:\n",
    "            samples = self.transform(samples)\n",
    "            \n",
    "        if self.train:\n",
    "            label = torch.tensor(row.genre_id,dtype=torch.long)\n",
    "            return samples, label\n",
    "        else:\n",
    "\n",
    "            return samples"
   ]
  },
  {
   "cell_type": "code",
   "execution_count": 41,
   "id": "b3d2ec39",
   "metadata": {},
   "outputs": [],
   "source": [
    "import gc\n",
    "import torch\n",
    "gc.collect()\n",
    "torch.cuda.empty_cache()"
   ]
  },
  {
   "cell_type": "code",
   "execution_count": 42,
   "id": "1a3532c2",
   "metadata": {},
   "outputs": [],
   "source": [
    "import time"
   ]
  },
  {
   "cell_type": "code",
   "execution_count": 43,
   "id": "6b1f93b7",
   "metadata": {},
   "outputs": [],
   "source": [
    "def run():\n",
    "    oof = df_train.copy()\n",
    "    oversampleTrain = False\n",
    "    \n",
    "    for fold_num in [0,1,2,3,4]:\n",
    "        print('*****************************************')\n",
    "        print(f'Training Fold {fold_num}')\n",
    "        print('*****************************************')\n",
    "\n",
    "    #with IPyExperimentsPytorch() as exp:\n",
    "        kernel_type = 'ecaresnet50t_MonoSpec_Hop448_Mels160'\n",
    "        kernel_type_prev = 'ecaresnet50t_MonoSpec_Hop512_Mels128'\n",
    "        OUTPUT_DIR = f'C:/Users/Kaggle/Pog_Music_Classification/outputs/{kernel_type}/'\n",
    "        if not os.path.exists(OUTPUT_DIR):\n",
    "            os.makedirs(OUTPUT_DIR)\n",
    "\n",
    "            \n",
    "        crit =  CrossEntropyLossFlat() #FocalLoss() #CrossEntropyLossFlat() #FocalLoss() #LabelSmoothingCrossEntropy(0.01)\n",
    "        batch_size = 24\n",
    "        n_epochs = 7\n",
    "\n",
    "        training_fold = df_train.query(f'fold!={fold_num}').reset_index(drop=True, inplace=False)\n",
    "        \n",
    "        if oversampleTrain:\n",
    "            print('--------- Oversampling training dataset -----------')\n",
    "            training_fold = pd.concat([training_fold,training_fold[training_fold['genre_id'].isin(ExtremeMinority)].sample(n=150,replace=True,random_state=42)],0).reset_index(drop=True)\n",
    "            training_fold = pd.concat([training_fold,training_fold[training_fold['genre_id'].isin(SomeMinority)].sample(n=150,replace=True,random_state=42)],0).reset_index(drop=True)\n",
    "            training_fold = pd.concat([training_fold,training_fold[training_fold['genre_id'].isin(LowMinority)].sample(n=100,replace=True,random_state=42)],0).reset_index(drop=True)\n",
    "                \n",
    "        train_ds = POGFiles(training_fold,\n",
    "                            transform=tfms\n",
    "                           )\n",
    "\n",
    "        validation_fold = df_train.query(f'fold=={fold_num}').reset_index(drop=True, inplace=False)\n",
    "        valid_ds = POGFiles(validation_fold,\n",
    "                            transform=tfms)\n",
    "\n",
    "        print(f'- Training samples: {len(train_ds)}\\n- Validation Samples : {len(valid_ds)}')\n",
    "\n",
    "        bs = batch_size\n",
    "        train_dl = torch.utils.data.DataLoader(train_ds, batch_size=bs, num_workers=0,pin_memory=False)\n",
    "        valid_dl = torch.utils.data.DataLoader(valid_ds, batch_size=bs*2, num_workers=0,shuffle=False,pin_memory=False)\n",
    "\n",
    "        dls = DataLoaders(train_dl, valid_dl)\n",
    "        \n",
    "        \n",
    "        model = timm.create_model('ecaresnet50t', pretrained=False, in_chans=1)\n",
    "        model.conv1[0].stride = (1,1)\n",
    "#         model.conv1[0].stride = (1,1)\n",
    "#         model.stem.conv.stride = (1,1)\n",
    "        model.fc = nn.Linear(2048,NCLASS)\n",
    "    \n",
    "        f1_score = F1Score(average=\"micro\")\n",
    "        \n",
    "        \n",
    "        \n",
    "        ### MixUp() in callbacks\n",
    "#        ReduceLROnPlateau(monitor='valid_loss', min_delta=0.1,patience=2,min_lr=1e-7)\n",
    "# GradientAccumulation (n_acc = 2)\n",
    "        \n",
    "        learn = Learner(dls, model,opt_func=ranger,loss_func=crit,metrics=[f1_score],cbs=[SaveModelCallback('f1_score', every_epoch=True),\n",
    "                                                                                          CSVLogger(f'C:/Users/Kaggle/Pog_Music_Classification/outputs/{kernel_type}/{fold_num}logs.csv')]).to_fp16()\n",
    "\n",
    "        weights = torch.load(f'C:/Users/Kaggle/Pog_Music_Classification/outputs/{kernel_type_prev}/fold_{fold_num}.pth')['model']\n",
    "        learn.model.load_state_dict(weights,strict=False)\n",
    "        \n",
    "#         learn.fit_one_cycle(n_epochs, 1e-4, wd=1e-03)\n",
    "        learn.fit_flat_cos(n_epochs, 1e-2, wd=1e-03)\n",
    "#         learn = learn.to_fp16()\n",
    "        learn.save(f'C:/Users/Kaggle/Pog_Music_Classification/outputs/{kernel_type}/fold_{fold_num}')\n",
    "        learn = learn.load(f'C:/Users/Kaggle/Pog_Music_Classification/outputs/{kernel_type}/fold_{fold_num}')\n",
    "        \n",
    "        learn.model.eval()\n",
    "        test_df = df_test\n",
    "        test_ds = POGFiles(df_test_valid,\n",
    "                           transform=tfms,\n",
    "                           train=False\n",
    "                           )\n",
    "\n",
    "        test_ds.input_path = Path(test_path)\n",
    "\n",
    "        bs = batch_size\n",
    "        test_dl = torch.utils.data.DataLoader(test_ds, batch_size=bs*2, num_workers=0, shuffle=False)\n",
    "        \n",
    "        preds = []\n",
    "        probs = []\n",
    "        for xb  in progress_bar(test_dl):\n",
    "            with torch.no_grad():output = learn.model(xb.cuda())\n",
    "            probs.append(torch.softmax(output.float(),1).squeeze().cpu())\n",
    "            preds.append(torch.argmax(output.float(),1).squeeze().cpu())\n",
    "        \n",
    "        oof_ = []\n",
    "        for xb,_  in progress_bar(valid_dl):\n",
    "            with torch.no_grad():output = learn.model(xb.cuda())\n",
    "            oof_.append(torch.softmax(output.float(),1).squeeze().cpu())\n",
    "        \n",
    "        oof_ = [t.detach().numpy() for t in oof_]\n",
    "        np.save(f'C:/Users/Kaggle/Pog_Music_Classification/outputs/{kernel_type}/test_fold_{fold_num}_probs.npy',np.array(probs))\n",
    "        np.save(f'C:/Users/Kaggle/Pog_Music_Classification/outputs/{kernel_type}/oof_fold_{fold_num}_probs.npy',oof_)\n",
    "        np.save(f'C:/Users/Kaggle/Pog_Music_Classification/outputs/{kernel_type}/oof_fold_{fold_num}_fnames.npy',np.array(validation_fold.song_id))        \n",
    "\n",
    "        preds = torch.cat(preds)\n",
    "        sample_df = df_test_valid.copy()\n",
    "        sample_df['target'] = preds\n",
    "        sample_df.to_csv(f'C:/Users/Kaggle/Pog_Music_Classification/outputs/{kernel_type}/fold_{fold_num}.csv', index=False)"
   ]
  },
  {
   "cell_type": "code",
   "execution_count": 44,
   "id": "9984ae68",
   "metadata": {
    "scrolled": true
   },
   "outputs": [
    {
     "name": "stdout",
     "output_type": "stream",
     "text": [
      "*****************************************\n",
      "Training Fold 0\n",
      "*****************************************\n",
      "- Training samples: 15926\n",
      "- Validation Samples : 3982\n"
     ]
    },
    {
     "data": {
      "text/html": [
       "\n",
       "<style>\n",
       "    /* Turns off some styling */\n",
       "    progress {\n",
       "        /* gets rid of default border in Firefox and Opera. */\n",
       "        border: none;\n",
       "        /* Needs to be in here for Safari polyfill so background images work as expected. */\n",
       "        background-size: auto;\n",
       "    }\n",
       "    .progress-bar-interrupted, .progress-bar-interrupted::-webkit-progress-bar {\n",
       "        background: #F44336;\n",
       "    }\n",
       "</style>\n"
      ],
      "text/plain": [
       "<IPython.core.display.HTML object>"
      ]
     },
     "metadata": {},
     "output_type": "display_data"
    },
    {
     "data": {
      "text/html": [
       "<table border=\"1\" class=\"dataframe\">\n",
       "  <thead>\n",
       "    <tr style=\"text-align: left;\">\n",
       "      <th>epoch</th>\n",
       "      <th>train_loss</th>\n",
       "      <th>valid_loss</th>\n",
       "      <th>f1_score</th>\n",
       "      <th>time</th>\n",
       "    </tr>\n",
       "  </thead>\n",
       "  <tbody>\n",
       "    <tr>\n",
       "      <td>0</td>\n",
       "      <td>1.455052</td>\n",
       "      <td>2.331498</td>\n",
       "      <td>0.281768</td>\n",
       "      <td>10:42</td>\n",
       "    </tr>\n",
       "    <tr>\n",
       "      <td>1</td>\n",
       "      <td>1.407870</td>\n",
       "      <td>1.603437</td>\n",
       "      <td>0.476143</td>\n",
       "      <td>07:35</td>\n",
       "    </tr>\n",
       "    <tr>\n",
       "      <td>2</td>\n",
       "      <td>1.365422</td>\n",
       "      <td>1.474202</td>\n",
       "      <td>0.514817</td>\n",
       "      <td>07:34</td>\n",
       "    </tr>\n",
       "    <tr>\n",
       "      <td>3</td>\n",
       "      <td>1.322701</td>\n",
       "      <td>2.456221</td>\n",
       "      <td>0.307383</td>\n",
       "      <td>07:34</td>\n",
       "    </tr>\n",
       "    <tr>\n",
       "      <td>4</td>\n",
       "      <td>1.279516</td>\n",
       "      <td>2.061901</td>\n",
       "      <td>0.390256</td>\n",
       "      <td>07:35</td>\n",
       "    </tr>\n",
       "    <tr>\n",
       "      <td>5</td>\n",
       "      <td>1.207329</td>\n",
       "      <td>1.459637</td>\n",
       "      <td>0.526369</td>\n",
       "      <td>07:34</td>\n",
       "    </tr>\n",
       "    <tr>\n",
       "      <td>6</td>\n",
       "      <td>1.103031</td>\n",
       "      <td>1.297988</td>\n",
       "      <td>0.564792</td>\n",
       "      <td>07:36</td>\n",
       "    </tr>\n",
       "  </tbody>\n",
       "</table>"
      ],
      "text/plain": [
       "<IPython.core.display.HTML object>"
      ]
     },
     "metadata": {},
     "output_type": "display_data"
    },
    {
     "data": {
      "text/html": [
       "\n",
       "<style>\n",
       "    /* Turns off some styling */\n",
       "    progress {\n",
       "        /* gets rid of default border in Firefox and Opera. */\n",
       "        border: none;\n",
       "        /* Needs to be in here for Safari polyfill so background images work as expected. */\n",
       "        background-size: auto;\n",
       "    }\n",
       "    .progress-bar-interrupted, .progress-bar-interrupted::-webkit-progress-bar {\n",
       "        background: #F44336;\n",
       "    }\n",
       "</style>\n"
      ],
      "text/plain": [
       "<IPython.core.display.HTML object>"
      ]
     },
     "metadata": {},
     "output_type": "display_data"
    },
    {
     "data": {
      "text/html": [
       "\n",
       "    <div>\n",
       "      <progress value='106' class='' max='106' style='width:300px; height:20px; vertical-align: middle;'></progress>\n",
       "      100.00% [106/106 01:50<00:00]\n",
       "    </div>\n",
       "    "
      ],
      "text/plain": [
       "<IPython.core.display.HTML object>"
      ]
     },
     "metadata": {},
     "output_type": "display_data"
    },
    {
     "data": {
      "text/html": [
       "\n",
       "<style>\n",
       "    /* Turns off some styling */\n",
       "    progress {\n",
       "        /* gets rid of default border in Firefox and Opera. */\n",
       "        border: none;\n",
       "        /* Needs to be in here for Safari polyfill so background images work as expected. */\n",
       "        background-size: auto;\n",
       "    }\n",
       "    .progress-bar-interrupted, .progress-bar-interrupted::-webkit-progress-bar {\n",
       "        background: #F44336;\n",
       "    }\n",
       "</style>\n"
      ],
      "text/plain": [
       "<IPython.core.display.HTML object>"
      ]
     },
     "metadata": {},
     "output_type": "display_data"
    },
    {
     "data": {
      "text/html": [
       "\n",
       "    <div>\n",
       "      <progress value='83' class='' max='83' style='width:300px; height:20px; vertical-align: middle;'></progress>\n",
       "      100.00% [83/83 00:48<00:00]\n",
       "    </div>\n",
       "    "
      ],
      "text/plain": [
       "<IPython.core.display.HTML object>"
      ]
     },
     "metadata": {},
     "output_type": "display_data"
    },
    {
     "name": "stdout",
     "output_type": "stream",
     "text": [
      "*****************************************\n",
      "Training Fold 1\n",
      "*****************************************\n",
      "- Training samples: 15926\n",
      "- Validation Samples : 3982\n"
     ]
    },
    {
     "data": {
      "text/html": [
       "\n",
       "<style>\n",
       "    /* Turns off some styling */\n",
       "    progress {\n",
       "        /* gets rid of default border in Firefox and Opera. */\n",
       "        border: none;\n",
       "        /* Needs to be in here for Safari polyfill so background images work as expected. */\n",
       "        background-size: auto;\n",
       "    }\n",
       "    .progress-bar-interrupted, .progress-bar-interrupted::-webkit-progress-bar {\n",
       "        background: #F44336;\n",
       "    }\n",
       "</style>\n"
      ],
      "text/plain": [
       "<IPython.core.display.HTML object>"
      ]
     },
     "metadata": {},
     "output_type": "display_data"
    },
    {
     "data": {
      "text/html": [
       "<table border=\"1\" class=\"dataframe\">\n",
       "  <thead>\n",
       "    <tr style=\"text-align: left;\">\n",
       "      <th>epoch</th>\n",
       "      <th>train_loss</th>\n",
       "      <th>valid_loss</th>\n",
       "      <th>f1_score</th>\n",
       "      <th>time</th>\n",
       "    </tr>\n",
       "  </thead>\n",
       "  <tbody>\n",
       "    <tr>\n",
       "      <td>0</td>\n",
       "      <td>1.434232</td>\n",
       "      <td>1.965946</td>\n",
       "      <td>0.407584</td>\n",
       "      <td>07:40</td>\n",
       "    </tr>\n",
       "    <tr>\n",
       "      <td>1</td>\n",
       "      <td>1.388555</td>\n",
       "      <td>1.618975</td>\n",
       "      <td>0.484681</td>\n",
       "      <td>07:41</td>\n",
       "    </tr>\n",
       "    <tr>\n",
       "      <td>2</td>\n",
       "      <td>1.346696</td>\n",
       "      <td>1.527243</td>\n",
       "      <td>0.503516</td>\n",
       "      <td>07:40</td>\n",
       "    </tr>\n",
       "    <tr>\n",
       "      <td>3</td>\n",
       "      <td>1.314116</td>\n",
       "      <td>1.637728</td>\n",
       "      <td>0.471120</td>\n",
       "      <td>07:42</td>\n",
       "    </tr>\n",
       "    <tr>\n",
       "      <td>4</td>\n",
       "      <td>1.280848</td>\n",
       "      <td>1.479287</td>\n",
       "      <td>0.515319</td>\n",
       "      <td>07:39</td>\n",
       "    </tr>\n",
       "    <tr>\n",
       "      <td>5</td>\n",
       "      <td>1.210801</td>\n",
       "      <td>1.735557</td>\n",
       "      <td>0.454294</td>\n",
       "      <td>07:35</td>\n",
       "    </tr>\n",
       "    <tr>\n",
       "      <td>6</td>\n",
       "      <td>1.114915</td>\n",
       "      <td>1.294753</td>\n",
       "      <td>0.576092</td>\n",
       "      <td>07:37</td>\n",
       "    </tr>\n",
       "  </tbody>\n",
       "</table>"
      ],
      "text/plain": [
       "<IPython.core.display.HTML object>"
      ]
     },
     "metadata": {},
     "output_type": "display_data"
    },
    {
     "data": {
      "text/html": [
       "\n",
       "<style>\n",
       "    /* Turns off some styling */\n",
       "    progress {\n",
       "        /* gets rid of default border in Firefox and Opera. */\n",
       "        border: none;\n",
       "        /* Needs to be in here for Safari polyfill so background images work as expected. */\n",
       "        background-size: auto;\n",
       "    }\n",
       "    .progress-bar-interrupted, .progress-bar-interrupted::-webkit-progress-bar {\n",
       "        background: #F44336;\n",
       "    }\n",
       "</style>\n"
      ],
      "text/plain": [
       "<IPython.core.display.HTML object>"
      ]
     },
     "metadata": {},
     "output_type": "display_data"
    },
    {
     "data": {
      "text/html": [
       "\n",
       "    <div>\n",
       "      <progress value='106' class='' max='106' style='width:300px; height:20px; vertical-align: middle;'></progress>\n",
       "      100.00% [106/106 01:00<00:00]\n",
       "    </div>\n",
       "    "
      ],
      "text/plain": [
       "<IPython.core.display.HTML object>"
      ]
     },
     "metadata": {},
     "output_type": "display_data"
    },
    {
     "data": {
      "text/html": [
       "\n",
       "<style>\n",
       "    /* Turns off some styling */\n",
       "    progress {\n",
       "        /* gets rid of default border in Firefox and Opera. */\n",
       "        border: none;\n",
       "        /* Needs to be in here for Safari polyfill so background images work as expected. */\n",
       "        background-size: auto;\n",
       "    }\n",
       "    .progress-bar-interrupted, .progress-bar-interrupted::-webkit-progress-bar {\n",
       "        background: #F44336;\n",
       "    }\n",
       "</style>\n"
      ],
      "text/plain": [
       "<IPython.core.display.HTML object>"
      ]
     },
     "metadata": {},
     "output_type": "display_data"
    },
    {
     "data": {
      "text/html": [
       "\n",
       "    <div>\n",
       "      <progress value='83' class='' max='83' style='width:300px; height:20px; vertical-align: middle;'></progress>\n",
       "      100.00% [83/83 00:47<00:00]\n",
       "    </div>\n",
       "    "
      ],
      "text/plain": [
       "<IPython.core.display.HTML object>"
      ]
     },
     "metadata": {},
     "output_type": "display_data"
    },
    {
     "name": "stdout",
     "output_type": "stream",
     "text": [
      "*****************************************\n",
      "Training Fold 2\n",
      "*****************************************\n",
      "- Training samples: 15926\n",
      "- Validation Samples : 3982\n"
     ]
    },
    {
     "data": {
      "text/html": [
       "\n",
       "<style>\n",
       "    /* Turns off some styling */\n",
       "    progress {\n",
       "        /* gets rid of default border in Firefox and Opera. */\n",
       "        border: none;\n",
       "        /* Needs to be in here for Safari polyfill so background images work as expected. */\n",
       "        background-size: auto;\n",
       "    }\n",
       "    .progress-bar-interrupted, .progress-bar-interrupted::-webkit-progress-bar {\n",
       "        background: #F44336;\n",
       "    }\n",
       "</style>\n"
      ],
      "text/plain": [
       "<IPython.core.display.HTML object>"
      ]
     },
     "metadata": {},
     "output_type": "display_data"
    },
    {
     "data": {
      "text/html": [
       "<table border=\"1\" class=\"dataframe\">\n",
       "  <thead>\n",
       "    <tr style=\"text-align: left;\">\n",
       "      <th>epoch</th>\n",
       "      <th>train_loss</th>\n",
       "      <th>valid_loss</th>\n",
       "      <th>f1_score</th>\n",
       "      <th>time</th>\n",
       "    </tr>\n",
       "  </thead>\n",
       "  <tbody>\n",
       "    <tr>\n",
       "      <td>0</td>\n",
       "      <td>1.465232</td>\n",
       "      <td>1.797366</td>\n",
       "      <td>0.422652</td>\n",
       "      <td>07:43</td>\n",
       "    </tr>\n",
       "    <tr>\n",
       "      <td>1</td>\n",
       "      <td>1.412219</td>\n",
       "      <td>1.528806</td>\n",
       "      <td>0.476394</td>\n",
       "      <td>07:47</td>\n",
       "    </tr>\n",
       "    <tr>\n",
       "      <td>2</td>\n",
       "      <td>1.366628</td>\n",
       "      <td>1.517852</td>\n",
       "      <td>0.496233</td>\n",
       "      <td>07:41</td>\n",
       "    </tr>\n",
       "    <tr>\n",
       "      <td>3</td>\n",
       "      <td>1.326799</td>\n",
       "      <td>1.695695</td>\n",
       "      <td>0.462330</td>\n",
       "      <td>07:40</td>\n",
       "    </tr>\n",
       "    <tr>\n",
       "      <td>4</td>\n",
       "      <td>1.280370</td>\n",
       "      <td>1.547506</td>\n",
       "      <td>0.504520</td>\n",
       "      <td>07:40</td>\n",
       "    </tr>\n",
       "    <tr>\n",
       "      <td>5</td>\n",
       "      <td>1.213349</td>\n",
       "      <td>1.444901</td>\n",
       "      <td>0.530387</td>\n",
       "      <td>07:41</td>\n",
       "    </tr>\n",
       "    <tr>\n",
       "      <td>6</td>\n",
       "      <td>1.109294</td>\n",
       "      <td>1.313259</td>\n",
       "      <td>0.562531</td>\n",
       "      <td>07:40</td>\n",
       "    </tr>\n",
       "  </tbody>\n",
       "</table>"
      ],
      "text/plain": [
       "<IPython.core.display.HTML object>"
      ]
     },
     "metadata": {},
     "output_type": "display_data"
    },
    {
     "data": {
      "text/html": [
       "\n",
       "<style>\n",
       "    /* Turns off some styling */\n",
       "    progress {\n",
       "        /* gets rid of default border in Firefox and Opera. */\n",
       "        border: none;\n",
       "        /* Needs to be in here for Safari polyfill so background images work as expected. */\n",
       "        background-size: auto;\n",
       "    }\n",
       "    .progress-bar-interrupted, .progress-bar-interrupted::-webkit-progress-bar {\n",
       "        background: #F44336;\n",
       "    }\n",
       "</style>\n"
      ],
      "text/plain": [
       "<IPython.core.display.HTML object>"
      ]
     },
     "metadata": {},
     "output_type": "display_data"
    },
    {
     "data": {
      "text/html": [
       "\n",
       "    <div>\n",
       "      <progress value='106' class='' max='106' style='width:300px; height:20px; vertical-align: middle;'></progress>\n",
       "      100.00% [106/106 00:58<00:00]\n",
       "    </div>\n",
       "    "
      ],
      "text/plain": [
       "<IPython.core.display.HTML object>"
      ]
     },
     "metadata": {},
     "output_type": "display_data"
    },
    {
     "data": {
      "text/html": [
       "\n",
       "<style>\n",
       "    /* Turns off some styling */\n",
       "    progress {\n",
       "        /* gets rid of default border in Firefox and Opera. */\n",
       "        border: none;\n",
       "        /* Needs to be in here for Safari polyfill so background images work as expected. */\n",
       "        background-size: auto;\n",
       "    }\n",
       "    .progress-bar-interrupted, .progress-bar-interrupted::-webkit-progress-bar {\n",
       "        background: #F44336;\n",
       "    }\n",
       "</style>\n"
      ],
      "text/plain": [
       "<IPython.core.display.HTML object>"
      ]
     },
     "metadata": {},
     "output_type": "display_data"
    },
    {
     "data": {
      "text/html": [
       "\n",
       "    <div>\n",
       "      <progress value='83' class='' max='83' style='width:300px; height:20px; vertical-align: middle;'></progress>\n",
       "      100.00% [83/83 00:46<00:00]\n",
       "    </div>\n",
       "    "
      ],
      "text/plain": [
       "<IPython.core.display.HTML object>"
      ]
     },
     "metadata": {},
     "output_type": "display_data"
    },
    {
     "name": "stdout",
     "output_type": "stream",
     "text": [
      "*****************************************\n",
      "Training Fold 3\n",
      "*****************************************\n",
      "- Training samples: 15927\n",
      "- Validation Samples : 3981\n"
     ]
    },
    {
     "data": {
      "text/html": [
       "\n",
       "<style>\n",
       "    /* Turns off some styling */\n",
       "    progress {\n",
       "        /* gets rid of default border in Firefox and Opera. */\n",
       "        border: none;\n",
       "        /* Needs to be in here for Safari polyfill so background images work as expected. */\n",
       "        background-size: auto;\n",
       "    }\n",
       "    .progress-bar-interrupted, .progress-bar-interrupted::-webkit-progress-bar {\n",
       "        background: #F44336;\n",
       "    }\n",
       "</style>\n"
      ],
      "text/plain": [
       "<IPython.core.display.HTML object>"
      ]
     },
     "metadata": {},
     "output_type": "display_data"
    },
    {
     "data": {
      "text/html": [
       "<table border=\"1\" class=\"dataframe\">\n",
       "  <thead>\n",
       "    <tr style=\"text-align: left;\">\n",
       "      <th>epoch</th>\n",
       "      <th>train_loss</th>\n",
       "      <th>valid_loss</th>\n",
       "      <th>f1_score</th>\n",
       "      <th>time</th>\n",
       "    </tr>\n",
       "  </thead>\n",
       "  <tbody>\n",
       "    <tr>\n",
       "      <td>0</td>\n",
       "      <td>1.459387</td>\n",
       "      <td>1.646460</td>\n",
       "      <td>0.455413</td>\n",
       "      <td>07:48</td>\n",
       "    </tr>\n",
       "    <tr>\n",
       "      <td>1</td>\n",
       "      <td>1.410496</td>\n",
       "      <td>1.884192</td>\n",
       "      <td>0.371515</td>\n",
       "      <td>07:42</td>\n",
       "    </tr>\n",
       "    <tr>\n",
       "      <td>2</td>\n",
       "      <td>1.367485</td>\n",
       "      <td>1.552905</td>\n",
       "      <td>0.485305</td>\n",
       "      <td>07:36</td>\n",
       "    </tr>\n",
       "    <tr>\n",
       "      <td>3</td>\n",
       "      <td>1.326133</td>\n",
       "      <td>2.046624</td>\n",
       "      <td>0.347400</td>\n",
       "      <td>07:35</td>\n",
       "    </tr>\n",
       "    <tr>\n",
       "      <td>4</td>\n",
       "      <td>1.288085</td>\n",
       "      <td>2.187315</td>\n",
       "      <td>0.311731</td>\n",
       "      <td>07:43</td>\n",
       "    </tr>\n",
       "    <tr>\n",
       "      <td>5</td>\n",
       "      <td>1.232160</td>\n",
       "      <td>2.835500</td>\n",
       "      <td>0.219794</td>\n",
       "      <td>07:38</td>\n",
       "    </tr>\n",
       "    <tr>\n",
       "      <td>6</td>\n",
       "      <td>1.124572</td>\n",
       "      <td>1.299211</td>\n",
       "      <td>0.564180</td>\n",
       "      <td>07:45</td>\n",
       "    </tr>\n",
       "  </tbody>\n",
       "</table>"
      ],
      "text/plain": [
       "<IPython.core.display.HTML object>"
      ]
     },
     "metadata": {},
     "output_type": "display_data"
    },
    {
     "data": {
      "text/html": [
       "\n",
       "<style>\n",
       "    /* Turns off some styling */\n",
       "    progress {\n",
       "        /* gets rid of default border in Firefox and Opera. */\n",
       "        border: none;\n",
       "        /* Needs to be in here for Safari polyfill so background images work as expected. */\n",
       "        background-size: auto;\n",
       "    }\n",
       "    .progress-bar-interrupted, .progress-bar-interrupted::-webkit-progress-bar {\n",
       "        background: #F44336;\n",
       "    }\n",
       "</style>\n"
      ],
      "text/plain": [
       "<IPython.core.display.HTML object>"
      ]
     },
     "metadata": {},
     "output_type": "display_data"
    },
    {
     "data": {
      "text/html": [
       "\n",
       "    <div>\n",
       "      <progress value='106' class='' max='106' style='width:300px; height:20px; vertical-align: middle;'></progress>\n",
       "      100.00% [106/106 00:59<00:00]\n",
       "    </div>\n",
       "    "
      ],
      "text/plain": [
       "<IPython.core.display.HTML object>"
      ]
     },
     "metadata": {},
     "output_type": "display_data"
    },
    {
     "data": {
      "text/html": [
       "\n",
       "<style>\n",
       "    /* Turns off some styling */\n",
       "    progress {\n",
       "        /* gets rid of default border in Firefox and Opera. */\n",
       "        border: none;\n",
       "        /* Needs to be in here for Safari polyfill so background images work as expected. */\n",
       "        background-size: auto;\n",
       "    }\n",
       "    .progress-bar-interrupted, .progress-bar-interrupted::-webkit-progress-bar {\n",
       "        background: #F44336;\n",
       "    }\n",
       "</style>\n"
      ],
      "text/plain": [
       "<IPython.core.display.HTML object>"
      ]
     },
     "metadata": {},
     "output_type": "display_data"
    },
    {
     "data": {
      "text/html": [
       "\n",
       "    <div>\n",
       "      <progress value='83' class='' max='83' style='width:300px; height:20px; vertical-align: middle;'></progress>\n",
       "      100.00% [83/83 00:48<00:00]\n",
       "    </div>\n",
       "    "
      ],
      "text/plain": [
       "<IPython.core.display.HTML object>"
      ]
     },
     "metadata": {},
     "output_type": "display_data"
    },
    {
     "name": "stdout",
     "output_type": "stream",
     "text": [
      "*****************************************\n",
      "Training Fold 4\n",
      "*****************************************\n",
      "- Training samples: 15927\n",
      "- Validation Samples : 3981\n"
     ]
    },
    {
     "data": {
      "text/html": [
       "\n",
       "<style>\n",
       "    /* Turns off some styling */\n",
       "    progress {\n",
       "        /* gets rid of default border in Firefox and Opera. */\n",
       "        border: none;\n",
       "        /* Needs to be in here for Safari polyfill so background images work as expected. */\n",
       "        background-size: auto;\n",
       "    }\n",
       "    .progress-bar-interrupted, .progress-bar-interrupted::-webkit-progress-bar {\n",
       "        background: #F44336;\n",
       "    }\n",
       "</style>\n"
      ],
      "text/plain": [
       "<IPython.core.display.HTML object>"
      ]
     },
     "metadata": {},
     "output_type": "display_data"
    },
    {
     "data": {
      "text/html": [
       "<table border=\"1\" class=\"dataframe\">\n",
       "  <thead>\n",
       "    <tr style=\"text-align: left;\">\n",
       "      <th>epoch</th>\n",
       "      <th>train_loss</th>\n",
       "      <th>valid_loss</th>\n",
       "      <th>f1_score</th>\n",
       "      <th>time</th>\n",
       "    </tr>\n",
       "  </thead>\n",
       "  <tbody>\n",
       "    <tr>\n",
       "      <td>0</td>\n",
       "      <td>1.446691</td>\n",
       "      <td>1.697054</td>\n",
       "      <td>0.443356</td>\n",
       "      <td>07:35</td>\n",
       "    </tr>\n",
       "    <tr>\n",
       "      <td>1</td>\n",
       "      <td>1.402272</td>\n",
       "      <td>2.398579</td>\n",
       "      <td>0.271540</td>\n",
       "      <td>07:33</td>\n",
       "    </tr>\n",
       "    <tr>\n",
       "      <td>2</td>\n",
       "      <td>1.356513</td>\n",
       "      <td>2.295451</td>\n",
       "      <td>0.301934</td>\n",
       "      <td>07:33</td>\n",
       "    </tr>\n",
       "    <tr>\n",
       "      <td>3</td>\n",
       "      <td>1.315907</td>\n",
       "      <td>2.628158</td>\n",
       "      <td>0.196684</td>\n",
       "      <td>07:33</td>\n",
       "    </tr>\n",
       "    <tr>\n",
       "      <td>4</td>\n",
       "      <td>1.271358</td>\n",
       "      <td>1.810088</td>\n",
       "      <td>0.437076</td>\n",
       "      <td>07:33</td>\n",
       "    </tr>\n",
       "    <tr>\n",
       "      <td>5</td>\n",
       "      <td>1.200978</td>\n",
       "      <td>1.552806</td>\n",
       "      <td>0.496609</td>\n",
       "      <td>07:33</td>\n",
       "    </tr>\n",
       "    <tr>\n",
       "      <td>6</td>\n",
       "      <td>1.103366</td>\n",
       "      <td>1.314926</td>\n",
       "      <td>0.564180</td>\n",
       "      <td>07:33</td>\n",
       "    </tr>\n",
       "  </tbody>\n",
       "</table>"
      ],
      "text/plain": [
       "<IPython.core.display.HTML object>"
      ]
     },
     "metadata": {},
     "output_type": "display_data"
    },
    {
     "data": {
      "text/html": [
       "\n",
       "<style>\n",
       "    /* Turns off some styling */\n",
       "    progress {\n",
       "        /* gets rid of default border in Firefox and Opera. */\n",
       "        border: none;\n",
       "        /* Needs to be in here for Safari polyfill so background images work as expected. */\n",
       "        background-size: auto;\n",
       "    }\n",
       "    .progress-bar-interrupted, .progress-bar-interrupted::-webkit-progress-bar {\n",
       "        background: #F44336;\n",
       "    }\n",
       "</style>\n"
      ],
      "text/plain": [
       "<IPython.core.display.HTML object>"
      ]
     },
     "metadata": {},
     "output_type": "display_data"
    },
    {
     "data": {
      "text/html": [
       "\n",
       "    <div>\n",
       "      <progress value='106' class='' max='106' style='width:300px; height:20px; vertical-align: middle;'></progress>\n",
       "      100.00% [106/106 00:58<00:00]\n",
       "    </div>\n",
       "    "
      ],
      "text/plain": [
       "<IPython.core.display.HTML object>"
      ]
     },
     "metadata": {},
     "output_type": "display_data"
    },
    {
     "data": {
      "text/html": [
       "\n",
       "<style>\n",
       "    /* Turns off some styling */\n",
       "    progress {\n",
       "        /* gets rid of default border in Firefox and Opera. */\n",
       "        border: none;\n",
       "        /* Needs to be in here for Safari polyfill so background images work as expected. */\n",
       "        background-size: auto;\n",
       "    }\n",
       "    .progress-bar-interrupted, .progress-bar-interrupted::-webkit-progress-bar {\n",
       "        background: #F44336;\n",
       "    }\n",
       "</style>\n"
      ],
      "text/plain": [
       "<IPython.core.display.HTML object>"
      ]
     },
     "metadata": {},
     "output_type": "display_data"
    },
    {
     "data": {
      "text/html": [
       "\n",
       "    <div>\n",
       "      <progress value='83' class='' max='83' style='width:300px; height:20px; vertical-align: middle;'></progress>\n",
       "      100.00% [83/83 00:45<00:00]\n",
       "    </div>\n",
       "    "
      ],
      "text/plain": [
       "<IPython.core.display.HTML object>"
      ]
     },
     "metadata": {},
     "output_type": "display_data"
    }
   ],
   "source": [
    "if __name__=='__main__':\n",
    "    run()"
   ]
  },
  {
   "cell_type": "markdown",
   "id": "a22a0fef",
   "metadata": {},
   "source": [
    "#### FTune"
   ]
  },
  {
   "cell_type": "code",
   "execution_count": 45,
   "id": "911ded19",
   "metadata": {},
   "outputs": [],
   "source": [
    "def runTune():\n",
    "    oof = df_train.copy()\n",
    "    oversampleTrain = False\n",
    "    \n",
    "    for fold_num in [0,1,2,3,4]:\n",
    "        print('*****************************************')\n",
    "        print(f'Training Fold {fold_num}')\n",
    "        print('*****************************************')\n",
    "\n",
    "    #with IPyExperimentsPytorch() as exp:\n",
    "        kernel_type = 'ecaresnet50t_MonoSpec_Hop448_Mels160_FTUNE'\n",
    "        kernel_type_prev = 'ecaresnet50t_MonoSpec_Hop448_Mels160'\n",
    "        OUTPUT_DIR = f'C:/Users/Kaggle/Pog_Music_Classification/outputs/{kernel_type}/'\n",
    "        if not os.path.exists(OUTPUT_DIR):\n",
    "            os.makedirs(OUTPUT_DIR)\n",
    "\n",
    "            \n",
    "        crit =  CrossEntropyLossFlat() #FocalLoss() #CrossEntropyLossFlat() #FocalLoss() #LabelSmoothingCrossEntropy(0.01)\n",
    "        batch_size = 24\n",
    "        n_epochs = 7\n",
    "\n",
    "        training_fold = df_train.query(f'fold!={fold_num}').reset_index(drop=True, inplace=False)\n",
    "        \n",
    "        if oversampleTrain:\n",
    "            print('--------- Oversampling training dataset -----------')\n",
    "            training_fold = pd.concat([training_fold,training_fold[training_fold['genre_id'].isin(ExtremeMinority)].sample(n=150,replace=True,random_state=42)],0).reset_index(drop=True)\n",
    "            training_fold = pd.concat([training_fold,training_fold[training_fold['genre_id'].isin(SomeMinority)].sample(n=150,replace=True,random_state=42)],0).reset_index(drop=True)\n",
    "            training_fold = pd.concat([training_fold,training_fold[training_fold['genre_id'].isin(LowMinority)].sample(n=100,replace=True,random_state=42)],0).reset_index(drop=True)\n",
    "                \n",
    "        train_ds = POGFiles(training_fold,\n",
    "                            transform=tfms\n",
    "                           )\n",
    "\n",
    "        validation_fold = df_train.query(f'fold=={fold_num}').reset_index(drop=True, inplace=False)\n",
    "        valid_ds = POGFiles(validation_fold,\n",
    "                            transform=tfms)\n",
    "\n",
    "        print(f'- Training samples: {len(train_ds)}\\n- Validation Samples : {len(valid_ds)}')\n",
    "\n",
    "        bs = batch_size\n",
    "        train_dl = torch.utils.data.DataLoader(train_ds, batch_size=bs, num_workers=0,pin_memory=False)\n",
    "        valid_dl = torch.utils.data.DataLoader(valid_ds, batch_size=bs*2, num_workers=0,shuffle=False,pin_memory=False)\n",
    "\n",
    "        dls = DataLoaders(train_dl, valid_dl)\n",
    "        \n",
    "        \n",
    "        model = timm.create_model('ecaresnet50t', pretrained=False, in_chans=1)\n",
    "        model.conv1[0].stride = (1,1)\n",
    "#         model.conv1[0].stride = (1,1)\n",
    "#         model.stem.conv.stride = (1,1)\n",
    "        model.fc = nn.Linear(2048,NCLASS)\n",
    "    \n",
    "        f1_score = F1Score(average=\"micro\")\n",
    "        \n",
    "        \n",
    "        \n",
    "        ### MixUp() in callbacks\n",
    "#        ReduceLROnPlateau(monitor='valid_loss', min_delta=0.1,patience=2,min_lr=1e-7)\n",
    "# GradientAccumulation (n_acc = 2)\n",
    "        \n",
    "        learn = Learner(dls, model,loss_func=crit,metrics=[f1_score],cbs=[SaveModelCallback('f1_score', every_epoch=True),\n",
    "                                                                                          CSVLogger(f'C:/Users/Kaggle/Pog_Music_Classification/outputs/{kernel_type}/{fold_num}logs.csv')]).to_fp16()\n",
    "\n",
    "        weights = torch.load(f'C:/Users/Kaggle/Pog_Music_Classification/outputs/{kernel_type_prev}/fold_{fold_num}.pth')['model']\n",
    "        learn.model.load_state_dict(weights,strict=False)\n",
    "        \n",
    "        learn.fit_one_cycle(n_epochs, 1e-4, wd=1e-03)\n",
    "#         learn.fit_flat_cos(n_epochs, 1e-2, wd=1e-03)\n",
    "#         learn = learn.to_fp16()\n",
    "        learn.save(f'C:/Users/Kaggle/Pog_Music_Classification/outputs/{kernel_type}/fold_{fold_num}')\n",
    "        learn = learn.load(f'C:/Users/Kaggle/Pog_Music_Classification/outputs/{kernel_type}/fold_{fold_num}')\n",
    "        \n",
    "        learn.model.eval()\n",
    "        test_df = df_test\n",
    "        test_ds = POGFiles(df_test_valid,\n",
    "                           transform=tfms,\n",
    "                           train=False\n",
    "                           )\n",
    "\n",
    "        test_ds.input_path = Path(test_path)\n",
    "\n",
    "        bs = batch_size\n",
    "        test_dl = torch.utils.data.DataLoader(test_ds, batch_size=bs*2, num_workers=0, shuffle=False)\n",
    "        \n",
    "        preds = []\n",
    "        probs = []\n",
    "        for xb  in progress_bar(test_dl):\n",
    "            with torch.no_grad():output = learn.model(xb.cuda())\n",
    "            probs.append(torch.softmax(output.float(),1).squeeze().cpu())\n",
    "            preds.append(torch.argmax(output.float(),1).squeeze().cpu())\n",
    "        \n",
    "        oof_ = []\n",
    "        for xb,_  in progress_bar(valid_dl):\n",
    "            with torch.no_grad():output = learn.model(xb.cuda())\n",
    "            oof_.append(torch.softmax(output.float(),1).squeeze().cpu())\n",
    "        \n",
    "        oof_ = [t.detach().numpy() for t in oof_]\n",
    "        np.save(f'C:/Users/Kaggle/Pog_Music_Classification/outputs/{kernel_type}/test_fold_{fold_num}_probs.npy',np.array(probs))\n",
    "        np.save(f'C:/Users/Kaggle/Pog_Music_Classification/outputs/{kernel_type}/oof_fold_{fold_num}_probs.npy',oof_)\n",
    "        np.save(f'C:/Users/Kaggle/Pog_Music_Classification/outputs/{kernel_type}/oof_fold_{fold_num}_fnames.npy',np.array(validation_fold.song_id))        \n",
    "\n",
    "        preds = torch.cat(preds)\n",
    "        sample_df = df_test_valid.copy()\n",
    "        sample_df['target'] = preds\n",
    "        sample_df.to_csv(f'C:/Users/Kaggle/Pog_Music_Classification/outputs/{kernel_type}/fold_{fold_num}.csv', index=False)"
   ]
  },
  {
   "cell_type": "code",
   "execution_count": 46,
   "id": "e9db5d50",
   "metadata": {
    "scrolled": true
   },
   "outputs": [
    {
     "name": "stdout",
     "output_type": "stream",
     "text": [
      "*****************************************\n",
      "Training Fold 0\n",
      "*****************************************\n",
      "- Training samples: 15926\n",
      "- Validation Samples : 3982\n"
     ]
    },
    {
     "data": {
      "text/html": [
       "\n",
       "<style>\n",
       "    /* Turns off some styling */\n",
       "    progress {\n",
       "        /* gets rid of default border in Firefox and Opera. */\n",
       "        border: none;\n",
       "        /* Needs to be in here for Safari polyfill so background images work as expected. */\n",
       "        background-size: auto;\n",
       "    }\n",
       "    .progress-bar-interrupted, .progress-bar-interrupted::-webkit-progress-bar {\n",
       "        background: #F44336;\n",
       "    }\n",
       "</style>\n"
      ],
      "text/plain": [
       "<IPython.core.display.HTML object>"
      ]
     },
     "metadata": {},
     "output_type": "display_data"
    },
    {
     "data": {
      "text/html": [
       "<table border=\"1\" class=\"dataframe\">\n",
       "  <thead>\n",
       "    <tr style=\"text-align: left;\">\n",
       "      <th>epoch</th>\n",
       "      <th>train_loss</th>\n",
       "      <th>valid_loss</th>\n",
       "      <th>f1_score</th>\n",
       "      <th>time</th>\n",
       "    </tr>\n",
       "  </thead>\n",
       "  <tbody>\n",
       "    <tr>\n",
       "      <td>0</td>\n",
       "      <td>1.090810</td>\n",
       "      <td>1.295422</td>\n",
       "      <td>0.564289</td>\n",
       "      <td>07:35</td>\n",
       "    </tr>\n",
       "    <tr>\n",
       "      <td>1</td>\n",
       "      <td>1.076914</td>\n",
       "      <td>1.296102</td>\n",
       "      <td>0.568559</td>\n",
       "      <td>07:40</td>\n",
       "    </tr>\n",
       "    <tr>\n",
       "      <td>2</td>\n",
       "      <td>1.063683</td>\n",
       "      <td>1.297332</td>\n",
       "      <td>0.567303</td>\n",
       "      <td>07:38</td>\n",
       "    </tr>\n",
       "    <tr>\n",
       "      <td>3</td>\n",
       "      <td>1.053977</td>\n",
       "      <td>1.298573</td>\n",
       "      <td>0.567554</td>\n",
       "      <td>07:34</td>\n",
       "    </tr>\n",
       "    <tr>\n",
       "      <td>4</td>\n",
       "      <td>1.047045</td>\n",
       "      <td>1.299437</td>\n",
       "      <td>0.568056</td>\n",
       "      <td>07:36</td>\n",
       "    </tr>\n",
       "    <tr>\n",
       "      <td>5</td>\n",
       "      <td>1.042732</td>\n",
       "      <td>1.300020</td>\n",
       "      <td>0.566549</td>\n",
       "      <td>07:35</td>\n",
       "    </tr>\n",
       "    <tr>\n",
       "      <td>6</td>\n",
       "      <td>1.040872</td>\n",
       "      <td>1.300154</td>\n",
       "      <td>0.566549</td>\n",
       "      <td>07:35</td>\n",
       "    </tr>\n",
       "  </tbody>\n",
       "</table>"
      ],
      "text/plain": [
       "<IPython.core.display.HTML object>"
      ]
     },
     "metadata": {},
     "output_type": "display_data"
    },
    {
     "data": {
      "text/html": [
       "\n",
       "<style>\n",
       "    /* Turns off some styling */\n",
       "    progress {\n",
       "        /* gets rid of default border in Firefox and Opera. */\n",
       "        border: none;\n",
       "        /* Needs to be in here for Safari polyfill so background images work as expected. */\n",
       "        background-size: auto;\n",
       "    }\n",
       "    .progress-bar-interrupted, .progress-bar-interrupted::-webkit-progress-bar {\n",
       "        background: #F44336;\n",
       "    }\n",
       "</style>\n"
      ],
      "text/plain": [
       "<IPython.core.display.HTML object>"
      ]
     },
     "metadata": {},
     "output_type": "display_data"
    },
    {
     "data": {
      "text/html": [
       "\n",
       "    <div>\n",
       "      <progress value='106' class='' max='106' style='width:300px; height:20px; vertical-align: middle;'></progress>\n",
       "      100.00% [106/106 00:59<00:00]\n",
       "    </div>\n",
       "    "
      ],
      "text/plain": [
       "<IPython.core.display.HTML object>"
      ]
     },
     "metadata": {},
     "output_type": "display_data"
    },
    {
     "data": {
      "text/html": [
       "\n",
       "<style>\n",
       "    /* Turns off some styling */\n",
       "    progress {\n",
       "        /* gets rid of default border in Firefox and Opera. */\n",
       "        border: none;\n",
       "        /* Needs to be in here for Safari polyfill so background images work as expected. */\n",
       "        background-size: auto;\n",
       "    }\n",
       "    .progress-bar-interrupted, .progress-bar-interrupted::-webkit-progress-bar {\n",
       "        background: #F44336;\n",
       "    }\n",
       "</style>\n"
      ],
      "text/plain": [
       "<IPython.core.display.HTML object>"
      ]
     },
     "metadata": {},
     "output_type": "display_data"
    },
    {
     "data": {
      "text/html": [
       "\n",
       "    <div>\n",
       "      <progress value='83' class='' max='83' style='width:300px; height:20px; vertical-align: middle;'></progress>\n",
       "      100.00% [83/83 00:46<00:00]\n",
       "    </div>\n",
       "    "
      ],
      "text/plain": [
       "<IPython.core.display.HTML object>"
      ]
     },
     "metadata": {},
     "output_type": "display_data"
    },
    {
     "name": "stdout",
     "output_type": "stream",
     "text": [
      "*****************************************\n",
      "Training Fold 1\n",
      "*****************************************\n",
      "- Training samples: 15926\n",
      "- Validation Samples : 3982\n"
     ]
    },
    {
     "data": {
      "text/html": [
       "\n",
       "<style>\n",
       "    /* Turns off some styling */\n",
       "    progress {\n",
       "        /* gets rid of default border in Firefox and Opera. */\n",
       "        border: none;\n",
       "        /* Needs to be in here for Safari polyfill so background images work as expected. */\n",
       "        background-size: auto;\n",
       "    }\n",
       "    .progress-bar-interrupted, .progress-bar-interrupted::-webkit-progress-bar {\n",
       "        background: #F44336;\n",
       "    }\n",
       "</style>\n"
      ],
      "text/plain": [
       "<IPython.core.display.HTML object>"
      ]
     },
     "metadata": {},
     "output_type": "display_data"
    },
    {
     "data": {
      "text/html": [
       "<table border=\"1\" class=\"dataframe\">\n",
       "  <thead>\n",
       "    <tr style=\"text-align: left;\">\n",
       "      <th>epoch</th>\n",
       "      <th>train_loss</th>\n",
       "      <th>valid_loss</th>\n",
       "      <th>f1_score</th>\n",
       "      <th>time</th>\n",
       "    </tr>\n",
       "  </thead>\n",
       "  <tbody>\n",
       "    <tr>\n",
       "      <td>0</td>\n",
       "      <td>1.104169</td>\n",
       "      <td>1.293819</td>\n",
       "      <td>0.577599</td>\n",
       "      <td>07:35</td>\n",
       "    </tr>\n",
       "    <tr>\n",
       "      <td>1</td>\n",
       "      <td>1.092506</td>\n",
       "      <td>1.294950</td>\n",
       "      <td>0.577599</td>\n",
       "      <td>07:34</td>\n",
       "    </tr>\n",
       "    <tr>\n",
       "      <td>2</td>\n",
       "      <td>1.080427</td>\n",
       "      <td>1.295617</td>\n",
       "      <td>0.579106</td>\n",
       "      <td>07:33</td>\n",
       "    </tr>\n",
       "    <tr>\n",
       "      <td>3</td>\n",
       "      <td>1.071554</td>\n",
       "      <td>1.295846</td>\n",
       "      <td>0.579357</td>\n",
       "      <td>07:32</td>\n",
       "    </tr>\n",
       "    <tr>\n",
       "      <td>4</td>\n",
       "      <td>1.065166</td>\n",
       "      <td>1.295612</td>\n",
       "      <td>0.579357</td>\n",
       "      <td>07:32</td>\n",
       "    </tr>\n",
       "    <tr>\n",
       "      <td>5</td>\n",
       "      <td>1.061085</td>\n",
       "      <td>1.295573</td>\n",
       "      <td>0.578604</td>\n",
       "      <td>07:33</td>\n",
       "    </tr>\n",
       "    <tr>\n",
       "      <td>6</td>\n",
       "      <td>1.059402</td>\n",
       "      <td>1.295623</td>\n",
       "      <td>0.579608</td>\n",
       "      <td>07:32</td>\n",
       "    </tr>\n",
       "  </tbody>\n",
       "</table>"
      ],
      "text/plain": [
       "<IPython.core.display.HTML object>"
      ]
     },
     "metadata": {},
     "output_type": "display_data"
    },
    {
     "data": {
      "text/html": [
       "\n",
       "<style>\n",
       "    /* Turns off some styling */\n",
       "    progress {\n",
       "        /* gets rid of default border in Firefox and Opera. */\n",
       "        border: none;\n",
       "        /* Needs to be in here for Safari polyfill so background images work as expected. */\n",
       "        background-size: auto;\n",
       "    }\n",
       "    .progress-bar-interrupted, .progress-bar-interrupted::-webkit-progress-bar {\n",
       "        background: #F44336;\n",
       "    }\n",
       "</style>\n"
      ],
      "text/plain": [
       "<IPython.core.display.HTML object>"
      ]
     },
     "metadata": {},
     "output_type": "display_data"
    },
    {
     "data": {
      "text/html": [
       "\n",
       "    <div>\n",
       "      <progress value='106' class='' max='106' style='width:300px; height:20px; vertical-align: middle;'></progress>\n",
       "      100.00% [106/106 00:58<00:00]\n",
       "    </div>\n",
       "    "
      ],
      "text/plain": [
       "<IPython.core.display.HTML object>"
      ]
     },
     "metadata": {},
     "output_type": "display_data"
    },
    {
     "data": {
      "text/html": [
       "\n",
       "<style>\n",
       "    /* Turns off some styling */\n",
       "    progress {\n",
       "        /* gets rid of default border in Firefox and Opera. */\n",
       "        border: none;\n",
       "        /* Needs to be in here for Safari polyfill so background images work as expected. */\n",
       "        background-size: auto;\n",
       "    }\n",
       "    .progress-bar-interrupted, .progress-bar-interrupted::-webkit-progress-bar {\n",
       "        background: #F44336;\n",
       "    }\n",
       "</style>\n"
      ],
      "text/plain": [
       "<IPython.core.display.HTML object>"
      ]
     },
     "metadata": {},
     "output_type": "display_data"
    },
    {
     "data": {
      "text/html": [
       "\n",
       "    <div>\n",
       "      <progress value='83' class='' max='83' style='width:300px; height:20px; vertical-align: middle;'></progress>\n",
       "      100.00% [83/83 00:45<00:00]\n",
       "    </div>\n",
       "    "
      ],
      "text/plain": [
       "<IPython.core.display.HTML object>"
      ]
     },
     "metadata": {},
     "output_type": "display_data"
    },
    {
     "name": "stdout",
     "output_type": "stream",
     "text": [
      "*****************************************\n",
      "Training Fold 2\n",
      "*****************************************\n",
      "- Training samples: 15926\n",
      "- Validation Samples : 3982\n"
     ]
    },
    {
     "data": {
      "text/html": [
       "\n",
       "<style>\n",
       "    /* Turns off some styling */\n",
       "    progress {\n",
       "        /* gets rid of default border in Firefox and Opera. */\n",
       "        border: none;\n",
       "        /* Needs to be in here for Safari polyfill so background images work as expected. */\n",
       "        background-size: auto;\n",
       "    }\n",
       "    .progress-bar-interrupted, .progress-bar-interrupted::-webkit-progress-bar {\n",
       "        background: #F44336;\n",
       "    }\n",
       "</style>\n"
      ],
      "text/plain": [
       "<IPython.core.display.HTML object>"
      ]
     },
     "metadata": {},
     "output_type": "display_data"
    },
    {
     "data": {
      "text/html": [
       "<table border=\"1\" class=\"dataframe\">\n",
       "  <thead>\n",
       "    <tr style=\"text-align: left;\">\n",
       "      <th>epoch</th>\n",
       "      <th>train_loss</th>\n",
       "      <th>valid_loss</th>\n",
       "      <th>f1_score</th>\n",
       "      <th>time</th>\n",
       "    </tr>\n",
       "  </thead>\n",
       "  <tbody>\n",
       "    <tr>\n",
       "      <td>0</td>\n",
       "      <td>1.096152</td>\n",
       "      <td>1.309341</td>\n",
       "      <td>0.564540</td>\n",
       "      <td>07:32</td>\n",
       "    </tr>\n",
       "    <tr>\n",
       "      <td>1</td>\n",
       "      <td>1.080472</td>\n",
       "      <td>1.308943</td>\n",
       "      <td>0.566801</td>\n",
       "      <td>07:32</td>\n",
       "    </tr>\n",
       "    <tr>\n",
       "      <td>2</td>\n",
       "      <td>1.065326</td>\n",
       "      <td>1.310160</td>\n",
       "      <td>0.567052</td>\n",
       "      <td>07:32</td>\n",
       "    </tr>\n",
       "    <tr>\n",
       "      <td>3</td>\n",
       "      <td>1.054963</td>\n",
       "      <td>1.311326</td>\n",
       "      <td>0.566298</td>\n",
       "      <td>07:34</td>\n",
       "    </tr>\n",
       "    <tr>\n",
       "      <td>4</td>\n",
       "      <td>1.047858</td>\n",
       "      <td>1.312473</td>\n",
       "      <td>0.566047</td>\n",
       "      <td>07:34</td>\n",
       "    </tr>\n",
       "    <tr>\n",
       "      <td>5</td>\n",
       "      <td>1.043343</td>\n",
       "      <td>1.313171</td>\n",
       "      <td>0.568307</td>\n",
       "      <td>07:33</td>\n",
       "    </tr>\n",
       "    <tr>\n",
       "      <td>6</td>\n",
       "      <td>1.041495</td>\n",
       "      <td>1.313366</td>\n",
       "      <td>0.567554</td>\n",
       "      <td>07:33</td>\n",
       "    </tr>\n",
       "  </tbody>\n",
       "</table>"
      ],
      "text/plain": [
       "<IPython.core.display.HTML object>"
      ]
     },
     "metadata": {},
     "output_type": "display_data"
    },
    {
     "data": {
      "text/html": [
       "\n",
       "<style>\n",
       "    /* Turns off some styling */\n",
       "    progress {\n",
       "        /* gets rid of default border in Firefox and Opera. */\n",
       "        border: none;\n",
       "        /* Needs to be in here for Safari polyfill so background images work as expected. */\n",
       "        background-size: auto;\n",
       "    }\n",
       "    .progress-bar-interrupted, .progress-bar-interrupted::-webkit-progress-bar {\n",
       "        background: #F44336;\n",
       "    }\n",
       "</style>\n"
      ],
      "text/plain": [
       "<IPython.core.display.HTML object>"
      ]
     },
     "metadata": {},
     "output_type": "display_data"
    },
    {
     "data": {
      "text/html": [
       "\n",
       "    <div>\n",
       "      <progress value='106' class='' max='106' style='width:300px; height:20px; vertical-align: middle;'></progress>\n",
       "      100.00% [106/106 00:58<00:00]\n",
       "    </div>\n",
       "    "
      ],
      "text/plain": [
       "<IPython.core.display.HTML object>"
      ]
     },
     "metadata": {},
     "output_type": "display_data"
    },
    {
     "data": {
      "text/html": [
       "\n",
       "<style>\n",
       "    /* Turns off some styling */\n",
       "    progress {\n",
       "        /* gets rid of default border in Firefox and Opera. */\n",
       "        border: none;\n",
       "        /* Needs to be in here for Safari polyfill so background images work as expected. */\n",
       "        background-size: auto;\n",
       "    }\n",
       "    .progress-bar-interrupted, .progress-bar-interrupted::-webkit-progress-bar {\n",
       "        background: #F44336;\n",
       "    }\n",
       "</style>\n"
      ],
      "text/plain": [
       "<IPython.core.display.HTML object>"
      ]
     },
     "metadata": {},
     "output_type": "display_data"
    },
    {
     "data": {
      "text/html": [
       "\n",
       "    <div>\n",
       "      <progress value='83' class='' max='83' style='width:300px; height:20px; vertical-align: middle;'></progress>\n",
       "      100.00% [83/83 00:46<00:00]\n",
       "    </div>\n",
       "    "
      ],
      "text/plain": [
       "<IPython.core.display.HTML object>"
      ]
     },
     "metadata": {},
     "output_type": "display_data"
    },
    {
     "name": "stdout",
     "output_type": "stream",
     "text": [
      "*****************************************\n",
      "Training Fold 3\n",
      "*****************************************\n",
      "- Training samples: 15927\n",
      "- Validation Samples : 3981\n"
     ]
    },
    {
     "data": {
      "text/html": [
       "\n",
       "<style>\n",
       "    /* Turns off some styling */\n",
       "    progress {\n",
       "        /* gets rid of default border in Firefox and Opera. */\n",
       "        border: none;\n",
       "        /* Needs to be in here for Safari polyfill so background images work as expected. */\n",
       "        background-size: auto;\n",
       "    }\n",
       "    .progress-bar-interrupted, .progress-bar-interrupted::-webkit-progress-bar {\n",
       "        background: #F44336;\n",
       "    }\n",
       "</style>\n"
      ],
      "text/plain": [
       "<IPython.core.display.HTML object>"
      ]
     },
     "metadata": {},
     "output_type": "display_data"
    },
    {
     "data": {
      "text/html": [
       "<table border=\"1\" class=\"dataframe\">\n",
       "  <thead>\n",
       "    <tr style=\"text-align: left;\">\n",
       "      <th>epoch</th>\n",
       "      <th>train_loss</th>\n",
       "      <th>valid_loss</th>\n",
       "      <th>f1_score</th>\n",
       "      <th>time</th>\n",
       "    </tr>\n",
       "  </thead>\n",
       "  <tbody>\n",
       "    <tr>\n",
       "      <td>0</td>\n",
       "      <td>1.114688</td>\n",
       "      <td>1.297500</td>\n",
       "      <td>0.564431</td>\n",
       "      <td>07:32</td>\n",
       "    </tr>\n",
       "    <tr>\n",
       "      <td>1</td>\n",
       "      <td>1.102200</td>\n",
       "      <td>1.295738</td>\n",
       "      <td>0.562673</td>\n",
       "      <td>07:35</td>\n",
       "    </tr>\n",
       "    <tr>\n",
       "      <td>2</td>\n",
       "      <td>1.089091</td>\n",
       "      <td>1.294685</td>\n",
       "      <td>0.561166</td>\n",
       "      <td>07:34</td>\n",
       "    </tr>\n",
       "    <tr>\n",
       "      <td>3</td>\n",
       "      <td>1.079454</td>\n",
       "      <td>1.294146</td>\n",
       "      <td>0.561417</td>\n",
       "      <td>07:44</td>\n",
       "    </tr>\n",
       "    <tr>\n",
       "      <td>4</td>\n",
       "      <td>1.072671</td>\n",
       "      <td>1.293948</td>\n",
       "      <td>0.562422</td>\n",
       "      <td>07:40</td>\n",
       "    </tr>\n",
       "    <tr>\n",
       "      <td>5</td>\n",
       "      <td>1.068678</td>\n",
       "      <td>1.293891</td>\n",
       "      <td>0.563677</td>\n",
       "      <td>07:36</td>\n",
       "    </tr>\n",
       "    <tr>\n",
       "      <td>6</td>\n",
       "      <td>1.067130</td>\n",
       "      <td>1.293810</td>\n",
       "      <td>0.563175</td>\n",
       "      <td>07:38</td>\n",
       "    </tr>\n",
       "  </tbody>\n",
       "</table>"
      ],
      "text/plain": [
       "<IPython.core.display.HTML object>"
      ]
     },
     "metadata": {},
     "output_type": "display_data"
    },
    {
     "data": {
      "text/html": [
       "\n",
       "<style>\n",
       "    /* Turns off some styling */\n",
       "    progress {\n",
       "        /* gets rid of default border in Firefox and Opera. */\n",
       "        border: none;\n",
       "        /* Needs to be in here for Safari polyfill so background images work as expected. */\n",
       "        background-size: auto;\n",
       "    }\n",
       "    .progress-bar-interrupted, .progress-bar-interrupted::-webkit-progress-bar {\n",
       "        background: #F44336;\n",
       "    }\n",
       "</style>\n"
      ],
      "text/plain": [
       "<IPython.core.display.HTML object>"
      ]
     },
     "metadata": {},
     "output_type": "display_data"
    },
    {
     "data": {
      "text/html": [
       "\n",
       "    <div>\n",
       "      <progress value='106' class='' max='106' style='width:300px; height:20px; vertical-align: middle;'></progress>\n",
       "      100.00% [106/106 01:00<00:00]\n",
       "    </div>\n",
       "    "
      ],
      "text/plain": [
       "<IPython.core.display.HTML object>"
      ]
     },
     "metadata": {},
     "output_type": "display_data"
    },
    {
     "data": {
      "text/html": [
       "\n",
       "<style>\n",
       "    /* Turns off some styling */\n",
       "    progress {\n",
       "        /* gets rid of default border in Firefox and Opera. */\n",
       "        border: none;\n",
       "        /* Needs to be in here for Safari polyfill so background images work as expected. */\n",
       "        background-size: auto;\n",
       "    }\n",
       "    .progress-bar-interrupted, .progress-bar-interrupted::-webkit-progress-bar {\n",
       "        background: #F44336;\n",
       "    }\n",
       "</style>\n"
      ],
      "text/plain": [
       "<IPython.core.display.HTML object>"
      ]
     },
     "metadata": {},
     "output_type": "display_data"
    },
    {
     "data": {
      "text/html": [
       "\n",
       "    <div>\n",
       "      <progress value='83' class='' max='83' style='width:300px; height:20px; vertical-align: middle;'></progress>\n",
       "      100.00% [83/83 00:46<00:00]\n",
       "    </div>\n",
       "    "
      ],
      "text/plain": [
       "<IPython.core.display.HTML object>"
      ]
     },
     "metadata": {},
     "output_type": "display_data"
    },
    {
     "name": "stdout",
     "output_type": "stream",
     "text": [
      "*****************************************\n",
      "Training Fold 4\n",
      "*****************************************\n",
      "- Training samples: 15927\n",
      "- Validation Samples : 3981\n"
     ]
    },
    {
     "data": {
      "text/html": [
       "\n",
       "<style>\n",
       "    /* Turns off some styling */\n",
       "    progress {\n",
       "        /* gets rid of default border in Firefox and Opera. */\n",
       "        border: none;\n",
       "        /* Needs to be in here for Safari polyfill so background images work as expected. */\n",
       "        background-size: auto;\n",
       "    }\n",
       "    .progress-bar-interrupted, .progress-bar-interrupted::-webkit-progress-bar {\n",
       "        background: #F44336;\n",
       "    }\n",
       "</style>\n"
      ],
      "text/plain": [
       "<IPython.core.display.HTML object>"
      ]
     },
     "metadata": {},
     "output_type": "display_data"
    },
    {
     "data": {
      "text/html": [
       "<table border=\"1\" class=\"dataframe\">\n",
       "  <thead>\n",
       "    <tr style=\"text-align: left;\">\n",
       "      <th>epoch</th>\n",
       "      <th>train_loss</th>\n",
       "      <th>valid_loss</th>\n",
       "      <th>f1_score</th>\n",
       "      <th>time</th>\n",
       "    </tr>\n",
       "  </thead>\n",
       "  <tbody>\n",
       "    <tr>\n",
       "      <td>0</td>\n",
       "      <td>1.092301</td>\n",
       "      <td>1.310940</td>\n",
       "      <td>0.564180</td>\n",
       "      <td>07:34</td>\n",
       "    </tr>\n",
       "    <tr>\n",
       "      <td>1</td>\n",
       "      <td>1.081506</td>\n",
       "      <td>1.310157</td>\n",
       "      <td>0.565687</td>\n",
       "      <td>07:33</td>\n",
       "    </tr>\n",
       "    <tr>\n",
       "      <td>2</td>\n",
       "      <td>1.070135</td>\n",
       "      <td>1.310157</td>\n",
       "      <td>0.567194</td>\n",
       "      <td>07:39</td>\n",
       "    </tr>\n",
       "    <tr>\n",
       "      <td>3</td>\n",
       "      <td>1.061543</td>\n",
       "      <td>1.310010</td>\n",
       "      <td>0.567697</td>\n",
       "      <td>07:44</td>\n",
       "    </tr>\n",
       "    <tr>\n",
       "      <td>4</td>\n",
       "      <td>1.055326</td>\n",
       "      <td>1.309740</td>\n",
       "      <td>0.567948</td>\n",
       "      <td>07:42</td>\n",
       "    </tr>\n",
       "    <tr>\n",
       "      <td>5</td>\n",
       "      <td>1.051402</td>\n",
       "      <td>1.309376</td>\n",
       "      <td>0.569204</td>\n",
       "      <td>07:39</td>\n",
       "    </tr>\n",
       "    <tr>\n",
       "      <td>6</td>\n",
       "      <td>1.049666</td>\n",
       "      <td>1.309148</td>\n",
       "      <td>0.568953</td>\n",
       "      <td>07:35</td>\n",
       "    </tr>\n",
       "  </tbody>\n",
       "</table>"
      ],
      "text/plain": [
       "<IPython.core.display.HTML object>"
      ]
     },
     "metadata": {},
     "output_type": "display_data"
    },
    {
     "data": {
      "text/html": [
       "\n",
       "<style>\n",
       "    /* Turns off some styling */\n",
       "    progress {\n",
       "        /* gets rid of default border in Firefox and Opera. */\n",
       "        border: none;\n",
       "        /* Needs to be in here for Safari polyfill so background images work as expected. */\n",
       "        background-size: auto;\n",
       "    }\n",
       "    .progress-bar-interrupted, .progress-bar-interrupted::-webkit-progress-bar {\n",
       "        background: #F44336;\n",
       "    }\n",
       "</style>\n"
      ],
      "text/plain": [
       "<IPython.core.display.HTML object>"
      ]
     },
     "metadata": {},
     "output_type": "display_data"
    },
    {
     "data": {
      "text/html": [
       "\n",
       "    <div>\n",
       "      <progress value='106' class='' max='106' style='width:300px; height:20px; vertical-align: middle;'></progress>\n",
       "      100.00% [106/106 00:58<00:00]\n",
       "    </div>\n",
       "    "
      ],
      "text/plain": [
       "<IPython.core.display.HTML object>"
      ]
     },
     "metadata": {},
     "output_type": "display_data"
    },
    {
     "data": {
      "text/html": [
       "\n",
       "<style>\n",
       "    /* Turns off some styling */\n",
       "    progress {\n",
       "        /* gets rid of default border in Firefox and Opera. */\n",
       "        border: none;\n",
       "        /* Needs to be in here for Safari polyfill so background images work as expected. */\n",
       "        background-size: auto;\n",
       "    }\n",
       "    .progress-bar-interrupted, .progress-bar-interrupted::-webkit-progress-bar {\n",
       "        background: #F44336;\n",
       "    }\n",
       "</style>\n"
      ],
      "text/plain": [
       "<IPython.core.display.HTML object>"
      ]
     },
     "metadata": {},
     "output_type": "display_data"
    },
    {
     "data": {
      "text/html": [
       "\n",
       "    <div>\n",
       "      <progress value='83' class='' max='83' style='width:300px; height:20px; vertical-align: middle;'></progress>\n",
       "      100.00% [83/83 00:46<00:00]\n",
       "    </div>\n",
       "    "
      ],
      "text/plain": [
       "<IPython.core.display.HTML object>"
      ]
     },
     "metadata": {},
     "output_type": "display_data"
    }
   ],
   "source": [
    "if __name__=='__main__':\n",
    "    runTune()"
   ]
  },
  {
   "cell_type": "markdown",
   "id": "1bd46d87",
   "metadata": {},
   "source": [
    "### OOF"
   ]
  },
  {
   "cell_type": "code",
   "execution_count": 47,
   "id": "715259de",
   "metadata": {},
   "outputs": [],
   "source": [
    "OOFOut = pd.DataFrame()\n",
    "for fld in range(5):\n",
    "    fold_num = fld\n",
    "    kernel_type= 'ecaresnet50t_MonoSpec_Hop448_Mels160_FTUNE'\n",
    "    OOF = np.load(f'C:/Users/Kaggle/Pog_Music_Classification/outputs/{kernel_type}/oof_fold_{fold_num}_probs.npy',allow_pickle=True)\n",
    "    ID = np.load(f'C:/Users/Kaggle/Pog_Music_Classification/outputs/{kernel_type}/oof_fold_{fold_num}_fnames.npy',allow_pickle=True)\n",
    "    OOF = ([item for sublist in OOF for item in sublist])\n",
    "    OOF = pd.DataFrame(OOF)\n",
    "    OOF['ID'] = ID\n",
    "    OOFOut = pd.concat([OOF,OOFOut],0).reset_index(drop=True)\n"
   ]
  },
  {
   "cell_type": "code",
   "execution_count": null,
   "id": "c6cdf357",
   "metadata": {},
   "outputs": [],
   "source": [
    "OOFOut['ID']"
   ]
  },
  {
   "cell_type": "code",
   "execution_count": null,
   "id": "407a2625",
   "metadata": {},
   "outputs": [],
   "source": [
    "OOFOut.tail()"
   ]
  },
  {
   "cell_type": "code",
   "execution_count": 48,
   "id": "103ac9ff",
   "metadata": {},
   "outputs": [],
   "source": [
    "OOFOut = pd.merge(OOFOut,df_train[['song_id','genre_id']],left_on='ID',right_on='song_id',how='left')"
   ]
  },
  {
   "cell_type": "code",
   "execution_count": null,
   "id": "d157558f",
   "metadata": {},
   "outputs": [],
   "source": [
    "OOFOut.head()"
   ]
  },
  {
   "cell_type": "code",
   "execution_count": null,
   "id": "3fcc4253",
   "metadata": {
    "scrolled": true
   },
   "outputs": [],
   "source": [
    "OOFOut['genre_id'].max()"
   ]
  },
  {
   "cell_type": "code",
   "execution_count": 49,
   "id": "8ab06257",
   "metadata": {},
   "outputs": [],
   "source": [
    "OOF_preds=OOFOut.iloc[:,:19].idxmax(1)\n"
   ]
  },
  {
   "cell_type": "code",
   "execution_count": null,
   "id": "0a591816",
   "metadata": {},
   "outputs": [],
   "source": [
    "OOF_preds"
   ]
  },
  {
   "cell_type": "code",
   "execution_count": 50,
   "id": "a93c5782",
   "metadata": {},
   "outputs": [
    {
     "data": {
      "text/plain": [
       "0.5691179425356641"
      ]
     },
     "execution_count": 50,
     "metadata": {},
     "output_type": "execute_result"
    }
   ],
   "source": [
    "from sklearn.metrics import f1_score\n",
    "\n",
    "f1_score(OOFOut['genre_id'],OOF_preds,average=\"micro\")"
   ]
  },
  {
   "cell_type": "code",
   "execution_count": 51,
   "id": "f1cd79ae",
   "metadata": {},
   "outputs": [
    {
     "data": {
      "text/html": [
       "<div>\n",
       "<style scoped>\n",
       "    .dataframe tbody tr th:only-of-type {\n",
       "        vertical-align: middle;\n",
       "    }\n",
       "\n",
       "    .dataframe tbody tr th {\n",
       "        vertical-align: top;\n",
       "    }\n",
       "\n",
       "    .dataframe thead th {\n",
       "        text-align: right;\n",
       "    }\n",
       "</style>\n",
       "<table border=\"1\" class=\"dataframe\">\n",
       "  <thead>\n",
       "    <tr style=\"text-align: right;\">\n",
       "      <th>genre_id</th>\n",
       "      <th>0</th>\n",
       "      <th>1</th>\n",
       "      <th>2</th>\n",
       "      <th>3</th>\n",
       "      <th>4</th>\n",
       "      <th>5</th>\n",
       "      <th>6</th>\n",
       "      <th>7</th>\n",
       "      <th>8</th>\n",
       "      <th>9</th>\n",
       "      <th>10</th>\n",
       "      <th>11</th>\n",
       "      <th>12</th>\n",
       "      <th>13</th>\n",
       "      <th>14</th>\n",
       "      <th>15</th>\n",
       "      <th>16</th>\n",
       "      <th>17</th>\n",
       "      <th>18</th>\n",
       "    </tr>\n",
       "    <tr>\n",
       "      <th>row_0</th>\n",
       "      <th></th>\n",
       "      <th></th>\n",
       "      <th></th>\n",
       "      <th></th>\n",
       "      <th></th>\n",
       "      <th></th>\n",
       "      <th></th>\n",
       "      <th></th>\n",
       "      <th></th>\n",
       "      <th></th>\n",
       "      <th></th>\n",
       "      <th></th>\n",
       "      <th></th>\n",
       "      <th></th>\n",
       "      <th></th>\n",
       "      <th></th>\n",
       "      <th></th>\n",
       "      <th></th>\n",
       "      <th></th>\n",
       "    </tr>\n",
       "  </thead>\n",
       "  <tbody>\n",
       "    <tr>\n",
       "      <th>0</th>\n",
       "      <td>2032</td>\n",
       "      <td>138</td>\n",
       "      <td>45</td>\n",
       "      <td>179</td>\n",
       "      <td>271</td>\n",
       "      <td>20</td>\n",
       "      <td>391</td>\n",
       "      <td>118</td>\n",
       "      <td>133</td>\n",
       "      <td>110</td>\n",
       "      <td>420</td>\n",
       "      <td>2</td>\n",
       "      <td>0</td>\n",
       "      <td>18</td>\n",
       "      <td>0</td>\n",
       "      <td>33</td>\n",
       "      <td>0</td>\n",
       "      <td>1</td>\n",
       "      <td>4</td>\n",
       "    </tr>\n",
       "    <tr>\n",
       "      <th>1</th>\n",
       "      <td>107</td>\n",
       "      <td>1614</td>\n",
       "      <td>814</td>\n",
       "      <td>163</td>\n",
       "      <td>26</td>\n",
       "      <td>129</td>\n",
       "      <td>15</td>\n",
       "      <td>115</td>\n",
       "      <td>258</td>\n",
       "      <td>37</td>\n",
       "      <td>14</td>\n",
       "      <td>4</td>\n",
       "      <td>0</td>\n",
       "      <td>32</td>\n",
       "      <td>42</td>\n",
       "      <td>10</td>\n",
       "      <td>0</td>\n",
       "      <td>14</td>\n",
       "      <td>0</td>\n",
       "    </tr>\n",
       "    <tr>\n",
       "      <th>2</th>\n",
       "      <td>21</td>\n",
       "      <td>733</td>\n",
       "      <td>1538</td>\n",
       "      <td>32</td>\n",
       "      <td>10</td>\n",
       "      <td>12</td>\n",
       "      <td>2</td>\n",
       "      <td>17</td>\n",
       "      <td>58</td>\n",
       "      <td>15</td>\n",
       "      <td>2</td>\n",
       "      <td>0</td>\n",
       "      <td>1</td>\n",
       "      <td>1</td>\n",
       "      <td>7</td>\n",
       "      <td>3</td>\n",
       "      <td>2</td>\n",
       "      <td>0</td>\n",
       "      <td>0</td>\n",
       "    </tr>\n",
       "    <tr>\n",
       "      <th>3</th>\n",
       "      <td>181</td>\n",
       "      <td>154</td>\n",
       "      <td>67</td>\n",
       "      <td>1003</td>\n",
       "      <td>21</td>\n",
       "      <td>63</td>\n",
       "      <td>47</td>\n",
       "      <td>167</td>\n",
       "      <td>87</td>\n",
       "      <td>26</td>\n",
       "      <td>86</td>\n",
       "      <td>21</td>\n",
       "      <td>2</td>\n",
       "      <td>34</td>\n",
       "      <td>3</td>\n",
       "      <td>2</td>\n",
       "      <td>30</td>\n",
       "      <td>7</td>\n",
       "      <td>2</td>\n",
       "    </tr>\n",
       "    <tr>\n",
       "      <th>4</th>\n",
       "      <td>197</td>\n",
       "      <td>21</td>\n",
       "      <td>16</td>\n",
       "      <td>37</td>\n",
       "      <td>1356</td>\n",
       "      <td>8</td>\n",
       "      <td>13</td>\n",
       "      <td>6</td>\n",
       "      <td>31</td>\n",
       "      <td>21</td>\n",
       "      <td>11</td>\n",
       "      <td>0</td>\n",
       "      <td>0</td>\n",
       "      <td>0</td>\n",
       "      <td>0</td>\n",
       "      <td>6</td>\n",
       "      <td>1</td>\n",
       "      <td>7</td>\n",
       "      <td>1</td>\n",
       "    </tr>\n",
       "    <tr>\n",
       "      <th>5</th>\n",
       "      <td>23</td>\n",
       "      <td>133</td>\n",
       "      <td>21</td>\n",
       "      <td>62</td>\n",
       "      <td>2</td>\n",
       "      <td>825</td>\n",
       "      <td>2</td>\n",
       "      <td>39</td>\n",
       "      <td>103</td>\n",
       "      <td>39</td>\n",
       "      <td>2</td>\n",
       "      <td>4</td>\n",
       "      <td>0</td>\n",
       "      <td>7</td>\n",
       "      <td>22</td>\n",
       "      <td>3</td>\n",
       "      <td>5</td>\n",
       "      <td>9</td>\n",
       "      <td>0</td>\n",
       "    </tr>\n",
       "    <tr>\n",
       "      <th>6</th>\n",
       "      <td>184</td>\n",
       "      <td>13</td>\n",
       "      <td>5</td>\n",
       "      <td>36</td>\n",
       "      <td>13</td>\n",
       "      <td>0</td>\n",
       "      <td>677</td>\n",
       "      <td>4</td>\n",
       "      <td>15</td>\n",
       "      <td>1</td>\n",
       "      <td>32</td>\n",
       "      <td>0</td>\n",
       "      <td>0</td>\n",
       "      <td>3</td>\n",
       "      <td>0</td>\n",
       "      <td>2</td>\n",
       "      <td>0</td>\n",
       "      <td>0</td>\n",
       "      <td>0</td>\n",
       "    </tr>\n",
       "    <tr>\n",
       "      <th>7</th>\n",
       "      <td>90</td>\n",
       "      <td>85</td>\n",
       "      <td>3</td>\n",
       "      <td>84</td>\n",
       "      <td>7</td>\n",
       "      <td>48</td>\n",
       "      <td>5</td>\n",
       "      <td>466</td>\n",
       "      <td>23</td>\n",
       "      <td>4</td>\n",
       "      <td>81</td>\n",
       "      <td>37</td>\n",
       "      <td>0</td>\n",
       "      <td>29</td>\n",
       "      <td>1</td>\n",
       "      <td>2</td>\n",
       "      <td>0</td>\n",
       "      <td>2</td>\n",
       "      <td>1</td>\n",
       "    </tr>\n",
       "    <tr>\n",
       "      <th>8</th>\n",
       "      <td>59</td>\n",
       "      <td>90</td>\n",
       "      <td>25</td>\n",
       "      <td>30</td>\n",
       "      <td>21</td>\n",
       "      <td>48</td>\n",
       "      <td>2</td>\n",
       "      <td>8</td>\n",
       "      <td>161</td>\n",
       "      <td>15</td>\n",
       "      <td>9</td>\n",
       "      <td>1</td>\n",
       "      <td>1</td>\n",
       "      <td>2</td>\n",
       "      <td>10</td>\n",
       "      <td>5</td>\n",
       "      <td>1</td>\n",
       "      <td>2</td>\n",
       "      <td>1</td>\n",
       "    </tr>\n",
       "    <tr>\n",
       "      <th>9</th>\n",
       "      <td>54</td>\n",
       "      <td>48</td>\n",
       "      <td>31</td>\n",
       "      <td>30</td>\n",
       "      <td>16</td>\n",
       "      <td>26</td>\n",
       "      <td>5</td>\n",
       "      <td>11</td>\n",
       "      <td>32</td>\n",
       "      <td>497</td>\n",
       "      <td>4</td>\n",
       "      <td>7</td>\n",
       "      <td>1</td>\n",
       "      <td>27</td>\n",
       "      <td>7</td>\n",
       "      <td>14</td>\n",
       "      <td>5</td>\n",
       "      <td>9</td>\n",
       "      <td>4</td>\n",
       "    </tr>\n",
       "    <tr>\n",
       "      <th>10</th>\n",
       "      <td>99</td>\n",
       "      <td>11</td>\n",
       "      <td>3</td>\n",
       "      <td>34</td>\n",
       "      <td>2</td>\n",
       "      <td>5</td>\n",
       "      <td>14</td>\n",
       "      <td>40</td>\n",
       "      <td>16</td>\n",
       "      <td>1</td>\n",
       "      <td>125</td>\n",
       "      <td>5</td>\n",
       "      <td>0</td>\n",
       "      <td>2</td>\n",
       "      <td>0</td>\n",
       "      <td>0</td>\n",
       "      <td>0</td>\n",
       "      <td>0</td>\n",
       "      <td>0</td>\n",
       "    </tr>\n",
       "    <tr>\n",
       "      <th>11</th>\n",
       "      <td>6</td>\n",
       "      <td>8</td>\n",
       "      <td>0</td>\n",
       "      <td>36</td>\n",
       "      <td>0</td>\n",
       "      <td>12</td>\n",
       "      <td>6</td>\n",
       "      <td>41</td>\n",
       "      <td>4</td>\n",
       "      <td>7</td>\n",
       "      <td>10</td>\n",
       "      <td>405</td>\n",
       "      <td>0</td>\n",
       "      <td>19</td>\n",
       "      <td>0</td>\n",
       "      <td>0</td>\n",
       "      <td>0</td>\n",
       "      <td>0</td>\n",
       "      <td>0</td>\n",
       "    </tr>\n",
       "    <tr>\n",
       "      <th>12</th>\n",
       "      <td>1</td>\n",
       "      <td>0</td>\n",
       "      <td>0</td>\n",
       "      <td>14</td>\n",
       "      <td>0</td>\n",
       "      <td>0</td>\n",
       "      <td>0</td>\n",
       "      <td>0</td>\n",
       "      <td>2</td>\n",
       "      <td>3</td>\n",
       "      <td>0</td>\n",
       "      <td>0</td>\n",
       "      <td>401</td>\n",
       "      <td>2</td>\n",
       "      <td>0</td>\n",
       "      <td>0</td>\n",
       "      <td>7</td>\n",
       "      <td>0</td>\n",
       "      <td>0</td>\n",
       "    </tr>\n",
       "    <tr>\n",
       "      <th>13</th>\n",
       "      <td>9</td>\n",
       "      <td>20</td>\n",
       "      <td>3</td>\n",
       "      <td>35</td>\n",
       "      <td>0</td>\n",
       "      <td>8</td>\n",
       "      <td>2</td>\n",
       "      <td>10</td>\n",
       "      <td>9</td>\n",
       "      <td>15</td>\n",
       "      <td>0</td>\n",
       "      <td>8</td>\n",
       "      <td>1</td>\n",
       "      <td>127</td>\n",
       "      <td>5</td>\n",
       "      <td>1</td>\n",
       "      <td>0</td>\n",
       "      <td>3</td>\n",
       "      <td>0</td>\n",
       "    </tr>\n",
       "    <tr>\n",
       "      <th>14</th>\n",
       "      <td>2</td>\n",
       "      <td>13</td>\n",
       "      <td>5</td>\n",
       "      <td>5</td>\n",
       "      <td>0</td>\n",
       "      <td>7</td>\n",
       "      <td>0</td>\n",
       "      <td>1</td>\n",
       "      <td>12</td>\n",
       "      <td>4</td>\n",
       "      <td>0</td>\n",
       "      <td>0</td>\n",
       "      <td>0</td>\n",
       "      <td>3</td>\n",
       "      <td>45</td>\n",
       "      <td>2</td>\n",
       "      <td>0</td>\n",
       "      <td>0</td>\n",
       "      <td>0</td>\n",
       "    </tr>\n",
       "    <tr>\n",
       "      <th>15</th>\n",
       "      <td>5</td>\n",
       "      <td>5</td>\n",
       "      <td>1</td>\n",
       "      <td>2</td>\n",
       "      <td>2</td>\n",
       "      <td>0</td>\n",
       "      <td>0</td>\n",
       "      <td>0</td>\n",
       "      <td>1</td>\n",
       "      <td>3</td>\n",
       "      <td>0</td>\n",
       "      <td>0</td>\n",
       "      <td>0</td>\n",
       "      <td>0</td>\n",
       "      <td>0</td>\n",
       "      <td>11</td>\n",
       "      <td>0</td>\n",
       "      <td>0</td>\n",
       "      <td>0</td>\n",
       "    </tr>\n",
       "    <tr>\n",
       "      <th>16</th>\n",
       "      <td>1</td>\n",
       "      <td>8</td>\n",
       "      <td>5</td>\n",
       "      <td>18</td>\n",
       "      <td>9</td>\n",
       "      <td>3</td>\n",
       "      <td>0</td>\n",
       "      <td>1</td>\n",
       "      <td>0</td>\n",
       "      <td>16</td>\n",
       "      <td>0</td>\n",
       "      <td>1</td>\n",
       "      <td>1</td>\n",
       "      <td>0</td>\n",
       "      <td>0</td>\n",
       "      <td>0</td>\n",
       "      <td>43</td>\n",
       "      <td>0</td>\n",
       "      <td>0</td>\n",
       "    </tr>\n",
       "    <tr>\n",
       "      <th>17</th>\n",
       "      <td>0</td>\n",
       "      <td>1</td>\n",
       "      <td>0</td>\n",
       "      <td>0</td>\n",
       "      <td>0</td>\n",
       "      <td>0</td>\n",
       "      <td>0</td>\n",
       "      <td>0</td>\n",
       "      <td>0</td>\n",
       "      <td>0</td>\n",
       "      <td>0</td>\n",
       "      <td>0</td>\n",
       "      <td>0</td>\n",
       "      <td>0</td>\n",
       "      <td>0</td>\n",
       "      <td>0</td>\n",
       "      <td>0</td>\n",
       "      <td>4</td>\n",
       "      <td>0</td>\n",
       "    </tr>\n",
       "  </tbody>\n",
       "</table>\n",
       "</div>"
      ],
      "text/plain": [
       "genre_id    0     1     2     3     4    5    6    7    8    9    10   11  \\\n",
       "row_0                                                                       \n",
       "0         2032   138    45   179   271   20  391  118  133  110  420    2   \n",
       "1          107  1614   814   163    26  129   15  115  258   37   14    4   \n",
       "2           21   733  1538    32    10   12    2   17   58   15    2    0   \n",
       "3          181   154    67  1003    21   63   47  167   87   26   86   21   \n",
       "4          197    21    16    37  1356    8   13    6   31   21   11    0   \n",
       "5           23   133    21    62     2  825    2   39  103   39    2    4   \n",
       "6          184    13     5    36    13    0  677    4   15    1   32    0   \n",
       "7           90    85     3    84     7   48    5  466   23    4   81   37   \n",
       "8           59    90    25    30    21   48    2    8  161   15    9    1   \n",
       "9           54    48    31    30    16   26    5   11   32  497    4    7   \n",
       "10          99    11     3    34     2    5   14   40   16    1  125    5   \n",
       "11           6     8     0    36     0   12    6   41    4    7   10  405   \n",
       "12           1     0     0    14     0    0    0    0    2    3    0    0   \n",
       "13           9    20     3    35     0    8    2   10    9   15    0    8   \n",
       "14           2    13     5     5     0    7    0    1   12    4    0    0   \n",
       "15           5     5     1     2     2    0    0    0    1    3    0    0   \n",
       "16           1     8     5    18     9    3    0    1    0   16    0    1   \n",
       "17           0     1     0     0     0    0    0    0    0    0    0    0   \n",
       "\n",
       "genre_id   12   13  14  15  16  17  18  \n",
       "row_0                                   \n",
       "0           0   18   0  33   0   1   4  \n",
       "1           0   32  42  10   0  14   0  \n",
       "2           1    1   7   3   2   0   0  \n",
       "3           2   34   3   2  30   7   2  \n",
       "4           0    0   0   6   1   7   1  \n",
       "5           0    7  22   3   5   9   0  \n",
       "6           0    3   0   2   0   0   0  \n",
       "7           0   29   1   2   0   2   1  \n",
       "8           1    2  10   5   1   2   1  \n",
       "9           1   27   7  14   5   9   4  \n",
       "10          0    2   0   0   0   0   0  \n",
       "11          0   19   0   0   0   0   0  \n",
       "12        401    2   0   0   7   0   0  \n",
       "13          1  127   5   1   0   3   0  \n",
       "14          0    3  45   2   0   0   0  \n",
       "15          0    0   0  11   0   0   0  \n",
       "16          1    0   0   0  43   0   0  \n",
       "17          0    0   0   0   0   4   0  "
      ]
     },
     "execution_count": 51,
     "metadata": {},
     "output_type": "execute_result"
    }
   ],
   "source": [
    "pd.crosstab(OOF_preds,OOFOut['genre_id'])"
   ]
  },
  {
   "cell_type": "markdown",
   "id": "367c6e01",
   "metadata": {},
   "source": [
    "### Mode based sub"
   ]
  },
  {
   "cell_type": "code",
   "execution_count": 52,
   "id": "5b153fa7",
   "metadata": {
    "scrolled": true
   },
   "outputs": [
    {
     "data": {
      "text/plain": [
       "'ecaresnet50t_MonoSpec_Hop448_Mels160_FTUNE'"
      ]
     },
     "execution_count": 52,
     "metadata": {},
     "output_type": "execute_result"
    }
   ],
   "source": [
    "kernel_type"
   ]
  },
  {
   "cell_type": "code",
   "execution_count": 53,
   "id": "9d470c4a",
   "metadata": {},
   "outputs": [],
   "source": [
    "out = submission.copy().drop('genre_id',1)\n",
    "for fld in range(5):\n",
    "    fname = pd.read_csv(f'C:/Users/Kaggle/Pog_Music_Classification/outputs/{kernel_type}/fold_{fld}.csv')\n",
    "    out = pd.merge(out,fname[['song_id','target']],on='song_id',how='left')\n",
    "    \n",
    "submission['genre_id']=out.drop('song_id',1).mode(1)[0]"
   ]
  },
  {
   "cell_type": "code",
   "execution_count": 54,
   "id": "01a51537",
   "metadata": {},
   "outputs": [],
   "source": [
    "submission.loc[submission['song_id']==22612,'genre_id'] = 1\n",
    "submission.loc[submission['song_id']==24013,'genre_id'] = 0\n",
    "submission['genre_id'] = submission['genre_id'].astype(int)\n",
    "submission.to_csv(f'C:/Users/Kaggle/Pog_Music_Classification/outputs/{kernel_type}/5Fold_mode.csv',index=False)"
   ]
  },
  {
   "cell_type": "markdown",
   "id": "fbb2f14f",
   "metadata": {},
   "source": [
    "### Mode based sub: check OOF Score"
   ]
  },
  {
   "cell_type": "code",
   "execution_count": null,
   "id": "67740132",
   "metadata": {},
   "outputs": [],
   "source": [
    "import warnings\n",
    "warnings.filterwarnings('ignore')"
   ]
  },
  {
   "cell_type": "code",
   "execution_count": 59,
   "id": "e8e16ebb",
   "metadata": {},
   "outputs": [
    {
     "data": {
      "text/plain": [
       "0.5833835643962226"
      ]
     },
     "execution_count": 59,
     "metadata": {},
     "output_type": "execute_result"
    }
   ],
   "source": [
    "from sklearn.metrics import f1_score\n",
    "\n",
    "out = pd.DataFrame()\n",
    "for kernels in [\n",
    "                'eb1_MonoSpec_Hop448_Mels160',\n",
    "                'resnest50d_MonoSpec_Hop448_Mels160_FTune',\n",
    "                'resnest50d_MonoSpec_Hop448_Mels160',\n",
    "#                 'resnet50d_MIXUP_finetune_MonoSpec_Hop512_Mels128'\n",
    "#                 'tf_efficientnet_b1_MonoSpec_Hop512_Mels128',\n",
    "                'densenet121d_MonoSpec_Hop448_Mels160_FTUNE',\n",
    "                'resnest26d_MonoSpec_Hop448_Mels160_FTUNE',\n",
    "                'ecaresnet50t_MonoSpec_Hop448_Mels160_FTUNE',\n",
    "#                 'ecaresnet50t_MonoSpec_Hop448_Mels160'\n",
    "               ]:\n",
    "    OOFOut = pd.DataFrame()\n",
    "    for fld in range(5):\n",
    "        fold_num = fld\n",
    "        kernel_type= kernels\n",
    "        OOF = np.load(f'C:/Users/Kaggle/Pog_Music_Classification/outputs/{kernel_type}/oof_fold_{fold_num}_probs.npy',allow_pickle=True)\n",
    "        ID = np.load(f'C:/Users/Kaggle/Pog_Music_Classification/outputs/{kernel_type}/oof_fold_{fold_num}_fnames.npy',allow_pickle=True)\n",
    "        OOF = ([item for sublist in OOF for item in sublist])\n",
    "        OOF = pd.DataFrame(OOF)\n",
    "        OOF['ID'] = ID\n",
    "        OOFOut = pd.concat([OOF,OOFOut],0).reset_index(drop=True)\n",
    "\n",
    "    OOFOut = pd.merge(OOFOut,df_train[['song_id','genre_id']],left_on='ID',right_on='song_id',how='left')\n",
    "    OOF_preds=OOFOut.iloc[:,:19].idxmax(1)\n",
    "    out = pd.concat([out,OOF_preds],1)\n",
    "    out['genre_id'] = OOFOut['genre_id']\n",
    "    \n",
    "out['preds'] = out.drop('genre_id',1).mode(1)[0].astype(int)\n",
    "f1_score(out['genre_id'],out['preds'],average=\"micro\")"
   ]
  },
  {
   "cell_type": "markdown",
   "id": "f49bb80d",
   "metadata": {},
   "source": [
    "### Mode based sub"
   ]
  },
  {
   "cell_type": "code",
   "execution_count": 61,
   "id": "7e41e34f",
   "metadata": {},
   "outputs": [
    {
     "data": {
      "text/plain": [
       "'ecaresnet50t_MonoSpec_Hop448_Mels160_FTUNE'"
      ]
     },
     "execution_count": 61,
     "metadata": {},
     "output_type": "execute_result"
    }
   ],
   "source": [
    "kernel_type"
   ]
  },
  {
   "cell_type": "code",
   "execution_count": 60,
   "id": "5fdc0d97",
   "metadata": {},
   "outputs": [],
   "source": [
    "out = submission.copy().drop('genre_id',1)\n",
    "for fld in range(5):\n",
    "    for kernels in ['eb1_MonoSpec_Hop448_Mels160',\n",
    "                'resnest50d_MonoSpec_Hop448_Mels160_FTune',\n",
    "                'resnest50d_MonoSpec_Hop448_Mels160',\n",
    "                'densenet121d_MonoSpec_Hop448_Mels160_FTUNE',\n",
    "                'resnest26d_MonoSpec_Hop448_Mels160_FTUNE',\n",
    "                'ecaresnet50t_MonoSpec_Hop448_Mels160_FTUNE',\n",
    "               ]:\n",
    "        fname = pd.read_csv(f'C:/Users/Kaggle/Pog_Music_Classification/outputs/{kernels}/fold_{fld}.csv')\n",
    "        out = pd.merge(out,fname[['song_id','target']],on='song_id',how='left')\n",
    "    \n",
    "submission['genre_id']=out.drop('song_id',1).mode(1)[0]"
   ]
  },
  {
   "cell_type": "code",
   "execution_count": 62,
   "id": "1e1368ad",
   "metadata": {},
   "outputs": [],
   "source": [
    "submission.loc[submission['song_id']==22612,'genre_id'] = 1\n",
    "submission.loc[submission['song_id']==24013,'genre_id'] = 0\n",
    "submission['genre_id'] = submission['genre_id'].astype(int)\n",
    "submission.to_csv(f'C:/Users/Kaggle/Pog_Music_Classification/outputs/{kernel_type}/5Fold_mode_ens_6bestmodels_CV_5834.csv',index=False)"
   ]
  },
  {
   "cell_type": "code",
   "execution_count": null,
   "id": "c1aee9e6",
   "metadata": {},
   "outputs": [],
   "source": [
    "kernel_type"
   ]
  },
  {
   "cell_type": "markdown",
   "id": "7e38e4a3",
   "metadata": {},
   "source": [
    "### PL"
   ]
  },
  {
   "cell_type": "code",
   "execution_count": null,
   "id": "1aa3eeef",
   "metadata": {},
   "outputs": [],
   "source": [
    "out = submission.copy().drop('genre_id',1)\n",
    "for fld in range(5):\n",
    "    for kernels in ['eb1_MonoSpec_Hop448_Mels160',\n",
    "                'resnest50d_MonoSpec_Hop448_Mels160_FTune',\n",
    "                'resnest50d_MonoSpec_Hop448_Mels160',\n",
    "                'densenet121d_MonoSpec_Hop448_Mels160_FTUNE'\n",
    "               ]:\n",
    "        fname = pd.read_csv(f'C:/Users/Kaggle/Pog_Music_Classification/outputs/{kernels}/fold_{fld}.csv')\n",
    "        out = pd.merge(out,fname[['song_id','target']],on='song_id',how='left')\n",
    "    \n",
    "# submission['genre_id']=out.drop('song_id',1).mode(1)[0]"
   ]
  },
  {
   "cell_type": "code",
   "execution_count": null,
   "id": "2be7cf85",
   "metadata": {},
   "outputs": [],
   "source": [
    "out.head()"
   ]
  },
  {
   "cell_type": "code",
   "execution_count": null,
   "id": "9312a21e",
   "metadata": {},
   "outputs": [],
   "source": [
    "mode = out.drop('song_id',1).mode(1)[0].values"
   ]
  },
  {
   "cell_type": "code",
   "execution_count": null,
   "id": "13201c36",
   "metadata": {},
   "outputs": [],
   "source": [
    "(out.iloc[0,1:]==mode[0]).sum()"
   ]
  },
  {
   "cell_type": "code",
   "execution_count": null,
   "id": "b42870de",
   "metadata": {},
   "outputs": [],
   "source": [
    "PL_song = pd.DataFrame()\n",
    "ct = 0\n",
    "for j in range(out.shape[0]):\n",
    "    m = mode[j]\n",
    "    if (out.iloc[j,1:]==m).sum()==20:\n",
    "        PL_song.loc[ct,'song_id'] = out.loc[j,'song_id'].astype(int)\n",
    "        PL_song.loc[ct,'genre_id'] = m.astype(int)\n",
    "    ct += 1"
   ]
  },
  {
   "cell_type": "code",
   "execution_count": null,
   "id": "0e8de8cf",
   "metadata": {},
   "outputs": [],
   "source": [
    "PL_song"
   ]
  },
  {
   "cell_type": "code",
   "execution_count": null,
   "id": "f9889580",
   "metadata": {},
   "outputs": [],
   "source": [
    "out[out['song_id']==10207.0]"
   ]
  },
  {
   "cell_type": "code",
   "execution_count": null,
   "id": "0762869a",
   "metadata": {},
   "outputs": [],
   "source": [
    "PL_song['song_id'] = PL_song['song_id'].astype(int)\n",
    "PL_song['genre_id'] = PL_song['genre_id'].astype(int)"
   ]
  },
  {
   "cell_type": "code",
   "execution_count": null,
   "id": "fe7b51de",
   "metadata": {},
   "outputs": [],
   "source": [
    "PL_song.to_csv(f'C:/Users/Kaggle/Pog_Music_Classification/outputs/{kernel_type}/4_Ense_PL.csv',index=False)"
   ]
  },
  {
   "cell_type": "code",
   "execution_count": null,
   "id": "c83961eb",
   "metadata": {},
   "outputs": [],
   "source": []
  },
  {
   "cell_type": "markdown",
   "id": "14319dab",
   "metadata": {},
   "source": [
    "### End ###"
   ]
  }
 ],
 "metadata": {
  "kernelspec": {
   "display_name": "Python 3 (ipykernel)",
   "language": "python",
   "name": "python3"
  },
  "language_info": {
   "codemirror_mode": {
    "name": "ipython",
    "version": 3
   },
   "file_extension": ".py",
   "mimetype": "text/x-python",
   "name": "python",
   "nbconvert_exporter": "python",
   "pygments_lexer": "ipython3",
   "version": "3.8.12"
  }
 },
 "nbformat": 4,
 "nbformat_minor": 5
}

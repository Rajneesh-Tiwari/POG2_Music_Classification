{
 "cells": [
  {
   "cell_type": "code",
   "execution_count": 1,
   "id": "898cd1d1",
   "metadata": {
    "_cell_guid": "b1076dfc-b9ad-4769-8c92-a6c4dae69d19",
    "_uuid": "8f2839f25d086af736a60e9eeb907d3b93b6e0e5",
    "execution": {
     "iopub.execute_input": "2022-03-13T22:07:08.725227Z",
     "iopub.status.busy": "2022-03-13T22:07:08.723535Z",
     "iopub.status.idle": "2022-03-13T22:07:12.476152Z",
     "shell.execute_reply": "2022-03-13T22:07:12.475433Z",
     "shell.execute_reply.started": "2022-03-13T21:30:10.356204Z"
    },
    "papermill": {
     "duration": 3.780887,
     "end_time": "2022-03-13T22:07:12.476357",
     "exception": false,
     "start_time": "2022-03-13T22:07:08.695470",
     "status": "completed"
    },
    "scrolled": true,
    "tags": []
   },
   "outputs": [
    {
     "name": "stderr",
     "output_type": "stream",
     "text": [
      "C:\\Users\\anaconda\\envs\\Pytorch_19\\lib\\site-packages\\tqdm\\auto.py:22: TqdmWarning: IProgress not found. Please update jupyter and ipywidgets. See https://ipywidgets.readthedocs.io/en/stable/user_install.html\n",
      "  from .autonotebook import tqdm as notebook_tqdm\n"
     ]
    }
   ],
   "source": [
    "from fastai.vision.all import *\n",
    "import torchaudio\n",
    "import librosa\n",
    "from nnAudio.features.cqt import CQT1992v2"
   ]
  },
  {
   "cell_type": "code",
   "execution_count": 2,
   "id": "8d6ac190",
   "metadata": {},
   "outputs": [],
   "source": [
    "class CFG:\n",
    "    apex=False\n",
    "    debug=False\n",
    "    print_freq=100\n",
    "    num_workers=4\n",
    "    model_name='tf_efficientnet_b7_ns'\n",
    "    scheduler='CosineAnnealingLR' # ['ReduceLROnPlateau', 'CosineAnnealingLR', 'CosineAnnealingWarmRestarts']\n",
    "    epochs=3\n",
    "    #factor=0.2 # ReduceLROnPlateau\n",
    "    #patience=4 # ReduceLROnPlateau\n",
    "    #eps=1e-6 # ReduceLROnPlateau\n",
    "    T_max=3 # CosineAnnealingLR\n",
    "    #T_0=3 # CosineAnnealingWarmRestarts\n",
    "    lr=1e-4\n",
    "    min_lr=1e-6\n",
    "    batch_size=48\n",
    "    weight_decay=1e-6\n",
    "    gradient_accumulation_steps=1\n",
    "    max_grad_norm=1000\n",
    "    qtransform_params={\"hop_length\": 1024, \"n_bins\": 64,'fmax':None}    \n",
    "    seed=42\n",
    "    target_size=1\n",
    "    target_col='target'\n",
    "    n_fold=5\n",
    "    trn_fold=[0] # [0, 1, 2, 3, 4]\n",
    "    train=True\n",
    "    grad_cam=False\n"
   ]
  },
  {
   "cell_type": "code",
   "execution_count": 3,
   "id": "4555d024",
   "metadata": {
    "execution": {
     "iopub.execute_input": "2022-03-13T22:07:12.524391Z",
     "iopub.status.busy": "2022-03-13T22:07:12.523651Z",
     "iopub.status.idle": "2022-03-13T22:07:12.583307Z",
     "shell.execute_reply": "2022-03-13T22:07:12.582851Z",
     "shell.execute_reply.started": "2022-03-13T19:39:18.337501Z"
    },
    "papermill": {
     "duration": 0.085451,
     "end_time": "2022-03-13T22:07:12.583427",
     "exception": false,
     "start_time": "2022-03-13T22:07:12.497976",
     "status": "completed"
    },
    "tags": []
   },
   "outputs": [],
   "source": [
    "df_train = pd.read_csv(r'C:\\Users\\Kaggle\\Pog_Music_Classification/train.csv')\n",
    "df_test = pd.read_csv(r'C:\\Users\\Kaggle\\Pog_Music_Classification/test.csv')\n",
    "submission = pd.read_csv(r'C:\\Users\\Kaggle\\Pog_Music_Classification/sample_submission.csv')"
   ]
  },
  {
   "cell_type": "code",
   "execution_count": 4,
   "id": "956619e5",
   "metadata": {
    "execution": {
     "iopub.execute_input": "2022-03-13T22:07:12.630375Z",
     "iopub.status.busy": "2022-03-13T22:07:12.629617Z",
     "iopub.status.idle": "2022-03-13T22:07:12.631565Z",
     "shell.execute_reply": "2022-03-13T22:07:12.631935Z",
     "shell.execute_reply.started": "2022-03-13T19:39:18.423524Z"
    },
    "papermill": {
     "duration": 0.02696,
     "end_time": "2022-03-13T22:07:12.632057",
     "exception": false,
     "start_time": "2022-03-13T22:07:12.605097",
     "status": "completed"
    },
    "tags": []
   },
   "outputs": [],
   "source": [
    "train_path = Path('C:/Users/Kaggle/Pog_Music_Classification/train/')\n",
    "test_path = Path('C:/Users/Kaggle/Pog_Music_Classification/test/')"
   ]
  },
  {
   "cell_type": "code",
   "execution_count": 5,
   "id": "6925d653",
   "metadata": {
    "scrolled": false
   },
   "outputs": [
    {
     "name": "stdout",
     "output_type": "stream",
     "text": [
      "(19922, 5) (5078, 3)\n"
     ]
    }
   ],
   "source": [
    "print(df_train.shape,df_test.shape)"
   ]
  },
  {
   "cell_type": "code",
   "execution_count": 6,
   "id": "3b15eb00",
   "metadata": {},
   "outputs": [
    {
     "data": {
      "text/html": [
       "<div>\n",
       "<style scoped>\n",
       "    .dataframe tbody tr th:only-of-type {\n",
       "        vertical-align: middle;\n",
       "    }\n",
       "\n",
       "    .dataframe tbody tr th {\n",
       "        vertical-align: top;\n",
       "    }\n",
       "\n",
       "    .dataframe thead th {\n",
       "        text-align: right;\n",
       "    }\n",
       "</style>\n",
       "<table border=\"1\" class=\"dataframe\">\n",
       "  <thead>\n",
       "    <tr style=\"text-align: right;\">\n",
       "      <th></th>\n",
       "      <th>song_id</th>\n",
       "      <th>filename</th>\n",
       "      <th>filepath</th>\n",
       "      <th>genre_id</th>\n",
       "      <th>genre</th>\n",
       "    </tr>\n",
       "  </thead>\n",
       "  <tbody>\n",
       "    <tr>\n",
       "      <th>0</th>\n",
       "      <td>10150</td>\n",
       "      <td>010150.ogg</td>\n",
       "      <td>train/010150.ogg</td>\n",
       "      <td>7</td>\n",
       "      <td>Instrumental</td>\n",
       "    </tr>\n",
       "    <tr>\n",
       "      <th>1</th>\n",
       "      <td>7358</td>\n",
       "      <td>007358.ogg</td>\n",
       "      <td>train/007358.ogg</td>\n",
       "      <td>2</td>\n",
       "      <td>Punk</td>\n",
       "    </tr>\n",
       "    <tr>\n",
       "      <th>2</th>\n",
       "      <td>20573</td>\n",
       "      <td>020573.ogg</td>\n",
       "      <td>train/020573.ogg</td>\n",
       "      <td>5</td>\n",
       "      <td>Folk</td>\n",
       "    </tr>\n",
       "    <tr>\n",
       "      <th>3</th>\n",
       "      <td>11170</td>\n",
       "      <td>011170.ogg</td>\n",
       "      <td>train/011170.ogg</td>\n",
       "      <td>12</td>\n",
       "      <td>Old-Time / Historic</td>\n",
       "    </tr>\n",
       "    <tr>\n",
       "      <th>4</th>\n",
       "      <td>16662</td>\n",
       "      <td>016662.ogg</td>\n",
       "      <td>train/016662.ogg</td>\n",
       "      <td>1</td>\n",
       "      <td>Rock</td>\n",
       "    </tr>\n",
       "  </tbody>\n",
       "</table>\n",
       "</div>"
      ],
      "text/plain": [
       "   song_id    filename          filepath  genre_id                genre\n",
       "0    10150  010150.ogg  train/010150.ogg         7         Instrumental\n",
       "1     7358  007358.ogg  train/007358.ogg         2                 Punk\n",
       "2    20573  020573.ogg  train/020573.ogg         5                 Folk\n",
       "3    11170  011170.ogg  train/011170.ogg        12  Old-Time / Historic\n",
       "4    16662  016662.ogg  train/016662.ogg         1                 Rock"
      ]
     },
     "execution_count": 6,
     "metadata": {},
     "output_type": "execute_result"
    }
   ],
   "source": [
    "df_train.head()"
   ]
  },
  {
   "cell_type": "code",
   "execution_count": 7,
   "id": "ad290c42",
   "metadata": {},
   "outputs": [],
   "source": [
    "import glob\n",
    "valid_filenames = []\n",
    "for i in glob.glob(r'C:/Users/Kaggle/Pog_Music_Classification/resampled_16k/train/*.npy'):\n",
    "    fnames = (i.split('\\\\')[1])\n",
    "    valid_filenames.append(fnames.split('.')[0]+'.ogg')"
   ]
  },
  {
   "cell_type": "code",
   "execution_count": 8,
   "id": "a828d715",
   "metadata": {},
   "outputs": [],
   "source": [
    "import glob\n",
    "valid_filenames_test = []\n",
    "for i in glob.glob(r'C:/Users/Kaggle/Pog_Music_Classification/resampled_16k/test/*.npy'):\n",
    "    fnames = (i.split('\\\\')[1])\n",
    "    valid_filenames_test.append(fnames.split('.')[0]+'.ogg')"
   ]
  },
  {
   "cell_type": "code",
   "execution_count": 9,
   "id": "51241a65",
   "metadata": {},
   "outputs": [
    {
     "name": "stdout",
     "output_type": "stream",
     "text": [
      "19909\n",
      "19908\n"
     ]
    }
   ],
   "source": [
    "print(len(valid_filenames))\n",
    "\n",
    "valid_filenames = [i for i in valid_filenames if i !='017400.ogg']\n",
    "\n",
    "print(len(valid_filenames))"
   ]
  },
  {
   "cell_type": "code",
   "execution_count": 10,
   "id": "37261605",
   "metadata": {},
   "outputs": [],
   "source": [
    "df_train = df_train[df_train['filename'].isin(valid_filenames)].reset_index(drop=True)\n",
    "df_test_valid = df_test[df_test['filename'].isin(valid_filenames_test)].reset_index(drop=True)"
   ]
  },
  {
   "cell_type": "code",
   "execution_count": 11,
   "id": "0a87d663",
   "metadata": {},
   "outputs": [],
   "source": [
    "### Some files giving exception in cqt\n",
    "df_train = df_train[df_train['song_id']!=17400].reset_index(drop=True)"
   ]
  },
  {
   "cell_type": "code",
   "execution_count": 12,
   "id": "bb7253f8",
   "metadata": {
    "scrolled": true
   },
   "outputs": [
    {
     "name": "stdout",
     "output_type": "stream",
     "text": [
      "(19908, 5) (5078, 3)\n"
     ]
    }
   ],
   "source": [
    "print(df_train.shape,df_test.shape)"
   ]
  },
  {
   "cell_type": "markdown",
   "id": "2898f0c4",
   "metadata": {},
   "source": [
    "### Upsample minority classes"
   ]
  },
  {
   "cell_type": "code",
   "execution_count": 13,
   "id": "a7505a51",
   "metadata": {
    "scrolled": true
   },
   "outputs": [
    {
     "data": {
      "text/plain": [
       "1     3095\n",
       "0     3071\n",
       "2     2582\n",
       "3     1800\n",
       "4     1756\n",
       "5     1214\n",
       "6     1181\n",
       "7     1044\n",
       "8      945\n",
       "9      814\n",
       "10     796\n",
       "11     495\n",
       "12     408\n",
       "13     306\n",
       "14     142\n",
       "15      94\n",
       "16      94\n",
       "17      58\n",
       "18      13\n",
       "Name: genre_id, dtype: int64"
      ]
     },
     "execution_count": 13,
     "metadata": {},
     "output_type": "execute_result"
    }
   ],
   "source": [
    "df_train['genre_id'].value_counts()"
   ]
  },
  {
   "cell_type": "code",
   "execution_count": 14,
   "id": "209f87c0",
   "metadata": {},
   "outputs": [],
   "source": [
    "ExtremeMinority = [18]\n",
    "SomeMinority = [17]\n",
    "LowMinority = [14,15,16]\n",
    "\n",
    "# df_train = pd.concat([df_train,df_train[df_train['genre_id'].isin(ExtremeMinority)].sample(n=37,replace=True,random_state=42)],0).reset_index(drop=True)\n",
    "# df_train = pd.concat([df_train,df_train[df_train['genre_id'].isin(SomeMinority)].sample(n=42,replace=True,random_state=42)],0).reset_index(drop=True)\n",
    "# df_train = pd.concat([df_train,df_train[df_train['genre_id'].isin(LowMinority)].sample(n=50,replace=True,random_state=42)],0).reset_index(drop=True)"
   ]
  },
  {
   "cell_type": "code",
   "execution_count": 15,
   "id": "e5f03f27",
   "metadata": {},
   "outputs": [
    {
     "data": {
      "text/html": [
       "<div>\n",
       "<style scoped>\n",
       "    .dataframe tbody tr th:only-of-type {\n",
       "        vertical-align: middle;\n",
       "    }\n",
       "\n",
       "    .dataframe tbody tr th {\n",
       "        vertical-align: top;\n",
       "    }\n",
       "\n",
       "    .dataframe thead th {\n",
       "        text-align: right;\n",
       "    }\n",
       "</style>\n",
       "<table border=\"1\" class=\"dataframe\">\n",
       "  <thead>\n",
       "    <tr style=\"text-align: right;\">\n",
       "      <th></th>\n",
       "      <th>song_id</th>\n",
       "      <th>filename</th>\n",
       "      <th>filepath</th>\n",
       "      <th>genre_id</th>\n",
       "      <th>genre</th>\n",
       "    </tr>\n",
       "  </thead>\n",
       "  <tbody>\n",
       "    <tr>\n",
       "      <th>19903</th>\n",
       "      <td>9337</td>\n",
       "      <td>009337.ogg</td>\n",
       "      <td>train/009337.ogg</td>\n",
       "      <td>0</td>\n",
       "      <td>Electronic</td>\n",
       "    </tr>\n",
       "    <tr>\n",
       "      <th>19904</th>\n",
       "      <td>8340</td>\n",
       "      <td>008340.ogg</td>\n",
       "      <td>train/008340.ogg</td>\n",
       "      <td>4</td>\n",
       "      <td>Hip-Hop</td>\n",
       "    </tr>\n",
       "    <tr>\n",
       "      <th>19905</th>\n",
       "      <td>16248</td>\n",
       "      <td>016248.ogg</td>\n",
       "      <td>train/016248.ogg</td>\n",
       "      <td>4</td>\n",
       "      <td>Hip-Hop</td>\n",
       "    </tr>\n",
       "    <tr>\n",
       "      <th>19906</th>\n",
       "      <td>11875</td>\n",
       "      <td>011875.ogg</td>\n",
       "      <td>train/011875.ogg</td>\n",
       "      <td>2</td>\n",
       "      <td>Punk</td>\n",
       "    </tr>\n",
       "    <tr>\n",
       "      <th>19907</th>\n",
       "      <td>6579</td>\n",
       "      <td>006579.ogg</td>\n",
       "      <td>train/006579.ogg</td>\n",
       "      <td>1</td>\n",
       "      <td>Rock</td>\n",
       "    </tr>\n",
       "  </tbody>\n",
       "</table>\n",
       "</div>"
      ],
      "text/plain": [
       "       song_id    filename          filepath  genre_id       genre\n",
       "19903     9337  009337.ogg  train/009337.ogg         0  Electronic\n",
       "19904     8340  008340.ogg  train/008340.ogg         4     Hip-Hop\n",
       "19905    16248  016248.ogg  train/016248.ogg         4     Hip-Hop\n",
       "19906    11875  011875.ogg  train/011875.ogg         2        Punk\n",
       "19907     6579  006579.ogg  train/006579.ogg         1        Rock"
      ]
     },
     "execution_count": 15,
     "metadata": {},
     "output_type": "execute_result"
    }
   ],
   "source": [
    "df_train.tail()#,df_train.shape"
   ]
  },
  {
   "cell_type": "code",
   "execution_count": 16,
   "id": "59b52f18",
   "metadata": {},
   "outputs": [
    {
     "data": {
      "text/plain": [
       "1     3095\n",
       "0     3071\n",
       "2     2582\n",
       "3     1800\n",
       "4     1756\n",
       "5     1214\n",
       "6     1181\n",
       "7     1044\n",
       "8      945\n",
       "9      814\n",
       "10     796\n",
       "11     495\n",
       "12     408\n",
       "13     306\n",
       "14     142\n",
       "15      94\n",
       "16      94\n",
       "17      58\n",
       "18      13\n",
       "Name: genre_id, dtype: int64"
      ]
     },
     "execution_count": 16,
     "metadata": {},
     "output_type": "execute_result"
    }
   ],
   "source": [
    "df_train['genre_id'].value_counts()"
   ]
  },
  {
   "cell_type": "markdown",
   "id": "486306be",
   "metadata": {},
   "source": [
    "### Create Folds"
   ]
  },
  {
   "cell_type": "code",
   "execution_count": 17,
   "id": "efce77e9",
   "metadata": {},
   "outputs": [],
   "source": [
    "df_train['fold'] = 0"
   ]
  },
  {
   "cell_type": "code",
   "execution_count": 18,
   "id": "9334d46d",
   "metadata": {},
   "outputs": [],
   "source": [
    "from sklearn.model_selection import StratifiedKFold\n",
    "N_folds = 5\n",
    "kf = StratifiedKFold(5,random_state=42,shuffle=True)\n",
    "fld = 0\n",
    "for i,(_,val_id) in enumerate(kf.split(df_train['filename'],df_train['genre_id'])):\n",
    "    df_train.loc[val_id,'fold'] = int(fld)\n",
    "    fld += 1"
   ]
  },
  {
   "cell_type": "code",
   "execution_count": 19,
   "id": "70943e7c",
   "metadata": {},
   "outputs": [
    {
     "data": {
      "text/html": [
       "<div>\n",
       "<style scoped>\n",
       "    .dataframe tbody tr th:only-of-type {\n",
       "        vertical-align: middle;\n",
       "    }\n",
       "\n",
       "    .dataframe tbody tr th {\n",
       "        vertical-align: top;\n",
       "    }\n",
       "\n",
       "    .dataframe thead th {\n",
       "        text-align: right;\n",
       "    }\n",
       "</style>\n",
       "<table border=\"1\" class=\"dataframe\">\n",
       "  <thead>\n",
       "    <tr style=\"text-align: right;\">\n",
       "      <th></th>\n",
       "      <th>song_id</th>\n",
       "      <th>filename</th>\n",
       "      <th>filepath</th>\n",
       "      <th>genre_id</th>\n",
       "      <th>genre</th>\n",
       "      <th>fold</th>\n",
       "    </tr>\n",
       "  </thead>\n",
       "  <tbody>\n",
       "    <tr>\n",
       "      <th>0</th>\n",
       "      <td>10150</td>\n",
       "      <td>010150.ogg</td>\n",
       "      <td>train/010150.ogg</td>\n",
       "      <td>7</td>\n",
       "      <td>Instrumental</td>\n",
       "      <td>4</td>\n",
       "    </tr>\n",
       "    <tr>\n",
       "      <th>1</th>\n",
       "      <td>7358</td>\n",
       "      <td>007358.ogg</td>\n",
       "      <td>train/007358.ogg</td>\n",
       "      <td>2</td>\n",
       "      <td>Punk</td>\n",
       "      <td>3</td>\n",
       "    </tr>\n",
       "    <tr>\n",
       "      <th>2</th>\n",
       "      <td>20573</td>\n",
       "      <td>020573.ogg</td>\n",
       "      <td>train/020573.ogg</td>\n",
       "      <td>5</td>\n",
       "      <td>Folk</td>\n",
       "      <td>2</td>\n",
       "    </tr>\n",
       "    <tr>\n",
       "      <th>3</th>\n",
       "      <td>11170</td>\n",
       "      <td>011170.ogg</td>\n",
       "      <td>train/011170.ogg</td>\n",
       "      <td>12</td>\n",
       "      <td>Old-Time / Historic</td>\n",
       "      <td>3</td>\n",
       "    </tr>\n",
       "    <tr>\n",
       "      <th>4</th>\n",
       "      <td>16662</td>\n",
       "      <td>016662.ogg</td>\n",
       "      <td>train/016662.ogg</td>\n",
       "      <td>1</td>\n",
       "      <td>Rock</td>\n",
       "      <td>3</td>\n",
       "    </tr>\n",
       "  </tbody>\n",
       "</table>\n",
       "</div>"
      ],
      "text/plain": [
       "   song_id    filename          filepath  genre_id                genre  fold\n",
       "0    10150  010150.ogg  train/010150.ogg         7         Instrumental     4\n",
       "1     7358  007358.ogg  train/007358.ogg         2                 Punk     3\n",
       "2    20573  020573.ogg  train/020573.ogg         5                 Folk     2\n",
       "3    11170  011170.ogg  train/011170.ogg        12  Old-Time / Historic     3\n",
       "4    16662  016662.ogg  train/016662.ogg         1                 Rock     3"
      ]
     },
     "execution_count": 19,
     "metadata": {},
     "output_type": "execute_result"
    }
   ],
   "source": [
    "df_train.head()"
   ]
  },
  {
   "cell_type": "code",
   "execution_count": 20,
   "id": "f6502855",
   "metadata": {},
   "outputs": [
    {
     "data": {
      "text/html": [
       "<div>\n",
       "<style scoped>\n",
       "    .dataframe tbody tr th:only-of-type {\n",
       "        vertical-align: middle;\n",
       "    }\n",
       "\n",
       "    .dataframe tbody tr th {\n",
       "        vertical-align: top;\n",
       "    }\n",
       "\n",
       "    .dataframe thead th {\n",
       "        text-align: right;\n",
       "    }\n",
       "</style>\n",
       "<table border=\"1\" class=\"dataframe\">\n",
       "  <thead>\n",
       "    <tr style=\"text-align: right;\">\n",
       "      <th></th>\n",
       "      <th>song_id</th>\n",
       "      <th>filename</th>\n",
       "      <th>filepath</th>\n",
       "    </tr>\n",
       "  </thead>\n",
       "  <tbody>\n",
       "    <tr>\n",
       "      <th>0</th>\n",
       "      <td>7072</td>\n",
       "      <td>007072.ogg</td>\n",
       "      <td>test/007072.ogg</td>\n",
       "    </tr>\n",
       "    <tr>\n",
       "      <th>1</th>\n",
       "      <td>10207</td>\n",
       "      <td>010207.ogg</td>\n",
       "      <td>test/010207.ogg</td>\n",
       "    </tr>\n",
       "    <tr>\n",
       "      <th>2</th>\n",
       "      <td>20008</td>\n",
       "      <td>020008.ogg</td>\n",
       "      <td>test/020008.ogg</td>\n",
       "    </tr>\n",
       "    <tr>\n",
       "      <th>3</th>\n",
       "      <td>10924</td>\n",
       "      <td>010924.ogg</td>\n",
       "      <td>test/010924.ogg</td>\n",
       "    </tr>\n",
       "    <tr>\n",
       "      <th>4</th>\n",
       "      <td>21896</td>\n",
       "      <td>021896.ogg</td>\n",
       "      <td>test/021896.ogg</td>\n",
       "    </tr>\n",
       "  </tbody>\n",
       "</table>\n",
       "</div>"
      ],
      "text/plain": [
       "   song_id    filename         filepath\n",
       "0     7072  007072.ogg  test/007072.ogg\n",
       "1    10207  010207.ogg  test/010207.ogg\n",
       "2    20008  020008.ogg  test/020008.ogg\n",
       "3    10924  010924.ogg  test/010924.ogg\n",
       "4    21896  021896.ogg  test/021896.ogg"
      ]
     },
     "execution_count": 20,
     "metadata": {},
     "output_type": "execute_result"
    }
   ],
   "source": [
    "df_test.head()"
   ]
  },
  {
   "cell_type": "markdown",
   "id": "5ce078a4",
   "metadata": {},
   "source": [
    "#### Channel wise max: 2.7517, 2.7950"
   ]
  },
  {
   "cell_type": "markdown",
   "id": "b13a3ce9",
   "metadata": {},
   "source": [
    "#### Dataset"
   ]
  },
  {
   "cell_type": "code",
   "execution_count": 21,
   "id": "608ba0c9",
   "metadata": {},
   "outputs": [],
   "source": [
    "import albumentations as A\n",
    "from albumentations.pytorch import ToTensorV2\n",
    "from torchvision.transforms import Compose\n",
    "import torchvision\n",
    "\n",
    "tfms = Compose(\n",
    "    [torchvision.transforms.Resize((64,960))\n",
    "    ]\n",
    ")"
   ]
  },
  {
   "cell_type": "code",
   "execution_count": 22,
   "id": "c0642af7",
   "metadata": {},
   "outputs": [],
   "source": [
    "import torch_audiomentations as tA\n",
    "\n",
    "def get_transforms(*, data):\n",
    "    \n",
    "    if data == 'train':\n",
    "        return tA.Compose(\n",
    "                transforms=[\n",
    "#                      tA.ShuffleChannels(p=0.25,mode=\"per_example\",p_mode=\"per_example\", sample_rate= 16000),\n",
    "                     tA.AddColoredNoise(p=0.1,mode=\"per_channel\",p_mode=\"per_channel\", sample_rate=16000,max_snr_in_db = 15),\n",
    "                     tA.Shift(p=0.25,mode=\"per_example\",p_mode=\"per_example\", sample_rate=16000,\n",
    "                              max_shift=0.025, min_shift=-0.025),\n",
    "                ])\n",
    "\n",
    "    elif data == 'valid':\n",
    "        return tA.Compose([\n",
    "        ])"
   ]
  },
  {
   "cell_type": "code",
   "execution_count": 23,
   "id": "a477ff21",
   "metadata": {},
   "outputs": [],
   "source": [
    "class POGFiles(torch.utils.data.Dataset):\n",
    "    \n",
    "    def __init__(self, df, \n",
    "                 train = True,\n",
    "                 augmentations = None,\n",
    "                 normalize=False,\n",
    "                 ch0Max=2.7517,\n",
    "                 ch1Max=2.7950,\n",
    "                 HOP_LEN = 1024,\n",
    "                 N_FFT=1024,\n",
    "                 n_mels=224,\n",
    "                 transform=tfms,\n",
    "                 audiotfms=None,\n",
    "                 applyTukey=False,\n",
    "                 quantizeData=False,\n",
    "                 MakeThreeChannel= False,\n",
    "                 bins_per_octave = 24,\n",
    "                 n_bins = 64\n",
    "                ):\n",
    "        \n",
    "        \n",
    "        self.df = df\n",
    "        self.train = train\n",
    "        self.ch0Max = ch0Max\n",
    "        self.ch1Max = ch1Max        \n",
    "        self.N_FFT = N_FFT\n",
    "        self.n_bins = n_bins\n",
    "        self.bins_per_octave = bins_per_octave\n",
    "        self.HOP_LEN = HOP_LEN\n",
    "        self.transform = transform\n",
    "        self.n_mels= n_mels\n",
    "        self.audiotfms = audiotfms\n",
    "        self.normalize = normalize\n",
    "        self.MakeThreeChannel = MakeThreeChannel\n",
    "        \n",
    "    def __len__(self):\n",
    "        return len(self.df)\n",
    "    \n",
    "    def load_file(self, filename):\n",
    "        if self.train:\n",
    "            CQT = np.load(f'C:/Users/Kaggle/Pog_Music_Classification/CQT/512_64/train/{filename}')\n",
    "        else:\n",
    "            CQT = np.load(f'C:/Users/Kaggle/Pog_Music_Classification/CQT/512_64/test/{filename}')\n",
    "            \n",
    "        return CQT\n",
    "\n",
    "\n",
    "    def __getitem__(self, index):\n",
    "        row  = self.df.iloc[index]\n",
    "        \n",
    "        samples = self.load_file(row.filename.split('.')[0]+'.npy')\n",
    "        samples = torch.from_numpy(samples).float()\n",
    "        \n",
    "        if self.transform is not None:\n",
    "            samples = self.transform(samples)\n",
    "            \n",
    "        if self.train:\n",
    "            label = torch.tensor(row.genre_id,dtype=torch.long)\n",
    "            return samples, label\n",
    "        else:\n",
    "\n",
    "            return samples"
   ]
  },
  {
   "cell_type": "code",
   "execution_count": 24,
   "id": "36bac698",
   "metadata": {},
   "outputs": [
    {
     "data": {
      "text/plain": [
       "torch.Size([1, 64, 938])"
      ]
     },
     "execution_count": 24,
     "metadata": {},
     "output_type": "execute_result"
    }
   ],
   "source": [
    "a,b = next(iter(POGFiles(df_train,transform=None)))\n",
    "a.shape"
   ]
  },
  {
   "cell_type": "markdown",
   "id": "dec591e6",
   "metadata": {},
   "source": [
    "#### FastAI model"
   ]
  },
  {
   "cell_type": "code",
   "execution_count": 25,
   "id": "56e74524",
   "metadata": {
    "scrolled": true
   },
   "outputs": [
    {
     "data": {
      "text/plain": [
       "19"
      ]
     },
     "execution_count": 25,
     "metadata": {},
     "output_type": "execute_result"
    }
   ],
   "source": [
    "df_train['genre_id'].nunique()"
   ]
  },
  {
   "cell_type": "code",
   "execution_count": 26,
   "id": "71f29774",
   "metadata": {},
   "outputs": [
    {
     "data": {
      "text/html": [
       "<div>\n",
       "<style scoped>\n",
       "    .dataframe tbody tr th:only-of-type {\n",
       "        vertical-align: middle;\n",
       "    }\n",
       "\n",
       "    .dataframe tbody tr th {\n",
       "        vertical-align: top;\n",
       "    }\n",
       "\n",
       "    .dataframe thead th {\n",
       "        text-align: right;\n",
       "    }\n",
       "</style>\n",
       "<table border=\"1\" class=\"dataframe\">\n",
       "  <thead>\n",
       "    <tr style=\"text-align: right;\">\n",
       "      <th></th>\n",
       "      <th>song_id</th>\n",
       "      <th>filename</th>\n",
       "      <th>filepath</th>\n",
       "      <th>genre_id</th>\n",
       "      <th>genre</th>\n",
       "      <th>fold</th>\n",
       "    </tr>\n",
       "  </thead>\n",
       "  <tbody>\n",
       "    <tr>\n",
       "      <th>0</th>\n",
       "      <td>10150</td>\n",
       "      <td>010150.ogg</td>\n",
       "      <td>train/010150.ogg</td>\n",
       "      <td>7</td>\n",
       "      <td>Instrumental</td>\n",
       "      <td>4</td>\n",
       "    </tr>\n",
       "    <tr>\n",
       "      <th>1</th>\n",
       "      <td>7358</td>\n",
       "      <td>007358.ogg</td>\n",
       "      <td>train/007358.ogg</td>\n",
       "      <td>2</td>\n",
       "      <td>Punk</td>\n",
       "      <td>3</td>\n",
       "    </tr>\n",
       "    <tr>\n",
       "      <th>2</th>\n",
       "      <td>20573</td>\n",
       "      <td>020573.ogg</td>\n",
       "      <td>train/020573.ogg</td>\n",
       "      <td>5</td>\n",
       "      <td>Folk</td>\n",
       "      <td>2</td>\n",
       "    </tr>\n",
       "    <tr>\n",
       "      <th>3</th>\n",
       "      <td>11170</td>\n",
       "      <td>011170.ogg</td>\n",
       "      <td>train/011170.ogg</td>\n",
       "      <td>12</td>\n",
       "      <td>Old-Time / Historic</td>\n",
       "      <td>3</td>\n",
       "    </tr>\n",
       "    <tr>\n",
       "      <th>4</th>\n",
       "      <td>16662</td>\n",
       "      <td>016662.ogg</td>\n",
       "      <td>train/016662.ogg</td>\n",
       "      <td>1</td>\n",
       "      <td>Rock</td>\n",
       "      <td>3</td>\n",
       "    </tr>\n",
       "  </tbody>\n",
       "</table>\n",
       "</div>"
      ],
      "text/plain": [
       "   song_id    filename          filepath  genre_id                genre  fold\n",
       "0    10150  010150.ogg  train/010150.ogg         7         Instrumental     4\n",
       "1     7358  007358.ogg  train/007358.ogg         2                 Punk     3\n",
       "2    20573  020573.ogg  train/020573.ogg         5                 Folk     2\n",
       "3    11170  011170.ogg  train/011170.ogg        12  Old-Time / Historic     3\n",
       "4    16662  016662.ogg  train/016662.ogg         1                 Rock     3"
      ]
     },
     "execution_count": 26,
     "metadata": {},
     "output_type": "execute_result"
    }
   ],
   "source": [
    "df_train.head()"
   ]
  },
  {
   "cell_type": "code",
   "execution_count": 27,
   "id": "afe13664",
   "metadata": {},
   "outputs": [],
   "source": [
    "import timm\n",
    "# timm.list_models()"
   ]
  },
  {
   "cell_type": "code",
   "execution_count": 28,
   "id": "83bc8aea",
   "metadata": {},
   "outputs": [],
   "source": [
    "# timm.create_model('ecaresnext50t_32x4d')"
   ]
  },
  {
   "cell_type": "code",
   "execution_count": 29,
   "id": "4aa0c3a2",
   "metadata": {
    "scrolled": true
   },
   "outputs": [
    {
     "data": {
      "text/plain": [
       "1     3095\n",
       "0     3071\n",
       "2     2582\n",
       "3     1800\n",
       "4     1756\n",
       "5     1214\n",
       "6     1181\n",
       "7     1044\n",
       "8      945\n",
       "9      814\n",
       "10     796\n",
       "11     495\n",
       "12     408\n",
       "13     306\n",
       "14     142\n",
       "15      94\n",
       "16      94\n",
       "17      58\n",
       "18      13\n",
       "Name: genre_id, dtype: int64"
      ]
     },
     "execution_count": 29,
     "metadata": {},
     "output_type": "execute_result"
    }
   ],
   "source": [
    "df_train['genre_id'].value_counts()"
   ]
  },
  {
   "cell_type": "code",
   "execution_count": 30,
   "id": "39074c54",
   "metadata": {},
   "outputs": [
    {
     "data": {
      "text/html": [
       "<div>\n",
       "<style scoped>\n",
       "    .dataframe tbody tr th:only-of-type {\n",
       "        vertical-align: middle;\n",
       "    }\n",
       "\n",
       "    .dataframe tbody tr th {\n",
       "        vertical-align: top;\n",
       "    }\n",
       "\n",
       "    .dataframe thead th {\n",
       "        text-align: right;\n",
       "    }\n",
       "</style>\n",
       "<table border=\"1\" class=\"dataframe\">\n",
       "  <thead>\n",
       "    <tr style=\"text-align: right;\">\n",
       "      <th></th>\n",
       "      <th>song_id</th>\n",
       "      <th>filename</th>\n",
       "      <th>filepath</th>\n",
       "      <th>genre_id</th>\n",
       "      <th>genre</th>\n",
       "      <th>fold</th>\n",
       "    </tr>\n",
       "  </thead>\n",
       "  <tbody>\n",
       "    <tr>\n",
       "      <th>0</th>\n",
       "      <td>10150</td>\n",
       "      <td>010150.ogg</td>\n",
       "      <td>train/010150.ogg</td>\n",
       "      <td>7</td>\n",
       "      <td>Instrumental</td>\n",
       "      <td>4</td>\n",
       "    </tr>\n",
       "    <tr>\n",
       "      <th>1</th>\n",
       "      <td>7358</td>\n",
       "      <td>007358.ogg</td>\n",
       "      <td>train/007358.ogg</td>\n",
       "      <td>2</td>\n",
       "      <td>Punk</td>\n",
       "      <td>3</td>\n",
       "    </tr>\n",
       "    <tr>\n",
       "      <th>2</th>\n",
       "      <td>20573</td>\n",
       "      <td>020573.ogg</td>\n",
       "      <td>train/020573.ogg</td>\n",
       "      <td>5</td>\n",
       "      <td>Folk</td>\n",
       "      <td>2</td>\n",
       "    </tr>\n",
       "    <tr>\n",
       "      <th>3</th>\n",
       "      <td>11170</td>\n",
       "      <td>011170.ogg</td>\n",
       "      <td>train/011170.ogg</td>\n",
       "      <td>12</td>\n",
       "      <td>Old-Time / Historic</td>\n",
       "      <td>3</td>\n",
       "    </tr>\n",
       "    <tr>\n",
       "      <th>4</th>\n",
       "      <td>16662</td>\n",
       "      <td>016662.ogg</td>\n",
       "      <td>train/016662.ogg</td>\n",
       "      <td>1</td>\n",
       "      <td>Rock</td>\n",
       "      <td>3</td>\n",
       "    </tr>\n",
       "  </tbody>\n",
       "</table>\n",
       "</div>"
      ],
      "text/plain": [
       "   song_id    filename          filepath  genre_id                genre  fold\n",
       "0    10150  010150.ogg  train/010150.ogg         7         Instrumental     4\n",
       "1     7358  007358.ogg  train/007358.ogg         2                 Punk     3\n",
       "2    20573  020573.ogg  train/020573.ogg         5                 Folk     2\n",
       "3    11170  011170.ogg  train/011170.ogg        12  Old-Time / Historic     3\n",
       "4    16662  016662.ogg  train/016662.ogg         1                 Rock     3"
      ]
     },
     "execution_count": 30,
     "metadata": {},
     "output_type": "execute_result"
    }
   ],
   "source": [
    "df_train.head()"
   ]
  },
  {
   "cell_type": "code",
   "execution_count": 31,
   "id": "2278aaeb",
   "metadata": {},
   "outputs": [],
   "source": [
    "# timm.create_model('tf_efficientnet_b2_ns')"
   ]
  },
  {
   "cell_type": "code",
   "execution_count": 32,
   "id": "2a70d07f",
   "metadata": {},
   "outputs": [
    {
     "data": {
      "text/plain": [
       "19"
      ]
     },
     "execution_count": 32,
     "metadata": {},
     "output_type": "execute_result"
    }
   ],
   "source": [
    "NCLASS = df_train['genre_id'].nunique()\n",
    "NCLASS"
   ]
  },
  {
   "cell_type": "code",
   "execution_count": 33,
   "id": "1e0c6bd2",
   "metadata": {},
   "outputs": [],
   "source": [
    "def run():\n",
    "    oof = df_train.copy()\n",
    "    oversampleTrain = False\n",
    "    for fold_num in [0,1,2,3,4]:\n",
    "        print('*****************************************')\n",
    "        print(f'Training Fold {fold_num}')\n",
    "        print('*****************************************')\n",
    "\n",
    "    #with IPyExperimentsPytorch() as exp:\n",
    "        kernel_type = 'ecaresnext50t_32x4d_CQT_512_64'\n",
    "        OUTPUT_DIR = f'C:/Users/Kaggle/Pecaresnext50t_32x4d_CQT_512_64og_Music_Classification/outputs/{kernel_type}/'\n",
    "        if not os.path.exists(OUTPUT_DIR):\n",
    "            os.makedirs(OUTPUT_DIR)\n",
    "\n",
    "            \n",
    "        crit = CrossEntropyLossFlat() #BiTemperedLogisticLoss()#CrossEntropyLossFlat() #LabelSmoothingCrossEntropy(0.025) #CrossEntropyLossFlat() #FocalLoss()\n",
    "        batch_size = 64\n",
    "        n_epochs = 15\n",
    "\n",
    "        training_fold = df_train.query(f'fold!={fold_num}').reset_index(drop=True, inplace=False)\n",
    "        \n",
    "        if oversampleTrain:\n",
    "            print('--------- Oversampling training dataset -----------')\n",
    "            training_fold = pd.concat([training_fold,training_fold[training_fold['genre_id'].isin(ExtremeMinority)].sample(n=150,replace=True,random_state=42)],0).reset_index(drop=True)\n",
    "            training_fold = pd.concat([training_fold,training_fold[training_fold['genre_id'].isin(SomeMinority)].sample(n=150,replace=True,random_state=42)],0).reset_index(drop=True)\n",
    "            training_fold = pd.concat([training_fold,training_fold[training_fold['genre_id'].isin(LowMinority)].sample(n=100,replace=True,random_state=42)],0).reset_index(drop=True)\n",
    "                \n",
    "        train_ds = POGFiles(training_fold,\n",
    "                            transform=tfms\n",
    "                           )\n",
    "\n",
    "        validation_fold = df_train.query(f'fold=={fold_num}').reset_index(drop=True, inplace=False)\n",
    "        valid_ds = POGFiles(validation_fold,\n",
    "                            transform=tfms)\n",
    "\n",
    "        print(f'- Training samples: {len(train_ds)}\\n- Validation Samples : {len(valid_ds)}')\n",
    "\n",
    "        bs = batch_size\n",
    "        train_dl = torch.utils.data.DataLoader(train_ds, batch_size=bs, num_workers=0,pin_memory=False)\n",
    "        valid_dl = torch.utils.data.DataLoader(valid_ds, batch_size=bs*2, num_workers=0,shuffle=False,pin_memory=False)\n",
    "\n",
    "        dls = DataLoaders(train_dl, valid_dl)\n",
    "        \n",
    "        \n",
    "        model = timm.create_model('ecaresnext50t_32x4d',in_chans=1,pretrained=False)\n",
    "        model.conv1[0].stride = (1,1)\n",
    "        model.fc = nn.Linear(2048,NCLASS)\n",
    "    \n",
    "    \n",
    "        f1_score = F1Score(average=\"micro\")\n",
    "        fname = f'{kernel_type}_{fold_num}'\n",
    "        opt = ranger\n",
    "#         MixUp(0.2),\n",
    "        learn = Learner(dls, model,opt_func=opt,loss_func=crit,metrics=[f1_score],\n",
    "                        model_dir = Path(f'C:/Users/Kaggle/Pog_Music_Classification/outputs/{kernel_type}/{fold_num}'),\n",
    "                        cbs=[SaveModelCallback('f1_score',fname=fname, comp=np.greater),\n",
    "                         CSVLogger(f'C:/Users/Kaggle/Pog_Music_Classification/outputs/{kernel_type}/{fold_num}logs.csv')]).to_fp16()\n",
    "\n",
    "        learn.fit_flat_cos(n_epochs, 1e-2,wd=1e-3)        \n",
    "#         learn.fit_one_cycle(n_epochs, 1e-2,wd=1e-3)\n",
    "        learn.save(f'C:/Users/Kaggle/Pog_Music_Classification/outputs/{kernel_type}/fold_{fold_num}')\n",
    "        learn = learn.load(f'C:/Users/Kaggle/Pog_Music_Classification/outputs/{kernel_type}/fold_{fold_num}')\n",
    "        \n",
    "        learn.model.eval()\n",
    "        test_df = df_test\n",
    "        test_ds = POGFiles(df_test_valid,\n",
    "                           transform=tfms,\n",
    "                           train=False\n",
    "                           )\n",
    "\n",
    "        test_ds.input_path = Path(test_path)\n",
    "\n",
    "        bs = batch_size\n",
    "        test_dl = torch.utils.data.DataLoader(test_ds, batch_size=bs*2, num_workers=0, shuffle=False)\n",
    "        \n",
    "        preds = []\n",
    "        probs = []\n",
    "        for xb  in progress_bar(test_dl):\n",
    "            with torch.no_grad():output = learn.model(xb.cuda())\n",
    "            probs.append(torch.softmax(output.float(),1).squeeze().cpu())\n",
    "            preds.append(torch.argmax(output.float(),1).squeeze().cpu())\n",
    "        \n",
    "        oof_ = []\n",
    "        for xb,_  in progress_bar(valid_dl):\n",
    "            with torch.no_grad():output = learn.model(xb.cuda())\n",
    "            oof_.append(torch.softmax(output.float(),1).squeeze().cpu())\n",
    "        \n",
    "        oof_ = [t.detach().numpy() for t in oof_]\n",
    "        np.save(f'C:/Users/Kaggle/Pog_Music_Classification/outputs/{kernel_type}/test_fold_{fold_num}_probs.npy',np.array(probs))\n",
    "        np.save(f'C:/Users/Kaggle/Pog_Music_Classification/outputs/{kernel_type}/oof_fold_{fold_num}_probs.npy',oof_)\n",
    "        np.save(f'C:/Users/Kaggle/Pog_Music_Classification/outputs/{kernel_type}/oof_fold_{fold_num}_fnames.npy',np.array(validation_fold.song_id))        \n",
    "\n",
    "        preds = torch.cat(preds)\n",
    "        sample_df = df_test_valid.copy()\n",
    "        sample_df['target'] = preds\n",
    "        sample_df.to_csv(f'C:/Users/Kaggle/Pog_Music_Classification/outputs/{kernel_type}/fold_{fold_num}.csv', index=False)"
   ]
  },
  {
   "cell_type": "code",
   "execution_count": 34,
   "id": "eec5ad40",
   "metadata": {
    "scrolled": true
   },
   "outputs": [
    {
     "data": {
      "text/html": [
       "<div>\n",
       "<style scoped>\n",
       "    .dataframe tbody tr th:only-of-type {\n",
       "        vertical-align: middle;\n",
       "    }\n",
       "\n",
       "    .dataframe tbody tr th {\n",
       "        vertical-align: top;\n",
       "    }\n",
       "\n",
       "    .dataframe thead th {\n",
       "        text-align: right;\n",
       "    }\n",
       "</style>\n",
       "<table border=\"1\" class=\"dataframe\">\n",
       "  <thead>\n",
       "    <tr style=\"text-align: right;\">\n",
       "      <th></th>\n",
       "      <th>song_id</th>\n",
       "      <th>filename</th>\n",
       "      <th>filepath</th>\n",
       "    </tr>\n",
       "  </thead>\n",
       "  <tbody>\n",
       "    <tr>\n",
       "      <th>0</th>\n",
       "      <td>7072</td>\n",
       "      <td>007072.ogg</td>\n",
       "      <td>test/007072.ogg</td>\n",
       "    </tr>\n",
       "    <tr>\n",
       "      <th>1</th>\n",
       "      <td>10207</td>\n",
       "      <td>010207.ogg</td>\n",
       "      <td>test/010207.ogg</td>\n",
       "    </tr>\n",
       "    <tr>\n",
       "      <th>2</th>\n",
       "      <td>20008</td>\n",
       "      <td>020008.ogg</td>\n",
       "      <td>test/020008.ogg</td>\n",
       "    </tr>\n",
       "    <tr>\n",
       "      <th>3</th>\n",
       "      <td>10924</td>\n",
       "      <td>010924.ogg</td>\n",
       "      <td>test/010924.ogg</td>\n",
       "    </tr>\n",
       "    <tr>\n",
       "      <th>4</th>\n",
       "      <td>21896</td>\n",
       "      <td>021896.ogg</td>\n",
       "      <td>test/021896.ogg</td>\n",
       "    </tr>\n",
       "  </tbody>\n",
       "</table>\n",
       "</div>"
      ],
      "text/plain": [
       "   song_id    filename         filepath\n",
       "0     7072  007072.ogg  test/007072.ogg\n",
       "1    10207  010207.ogg  test/010207.ogg\n",
       "2    20008  020008.ogg  test/020008.ogg\n",
       "3    10924  010924.ogg  test/010924.ogg\n",
       "4    21896  021896.ogg  test/021896.ogg"
      ]
     },
     "execution_count": 34,
     "metadata": {},
     "output_type": "execute_result"
    }
   ],
   "source": [
    "df_test_valid.head()"
   ]
  },
  {
   "cell_type": "code",
   "execution_count": 35,
   "id": "392f002f",
   "metadata": {
    "scrolled": true
   },
   "outputs": [],
   "source": [
    "# if __name__=='__main__':\n",
    "#     run()"
   ]
  },
  {
   "cell_type": "markdown",
   "id": "1bd46d87",
   "metadata": {},
   "source": [
    "### OOF"
   ]
  },
  {
   "cell_type": "code",
   "execution_count": 36,
   "id": "715259de",
   "metadata": {},
   "outputs": [],
   "source": [
    "OOFOut = pd.DataFrame()\n",
    "for fld in range(5):\n",
    "    fold_num = fld\n",
    "    kernel_type= 'ecaresnext50t_32x4d_CQT_512_64'\n",
    "    OOF = np.load(f'C:/Users/Kaggle/Pog_Music_Classification/outputs/{kernel_type}/oof_fold_{fold_num}_probs.npy',allow_pickle=True)\n",
    "    ID = np.load(f'C:/Users/Kaggle/Pog_Music_Classification/outputs/{kernel_type}/oof_fold_{fold_num}_fnames.npy',allow_pickle=True)\n",
    "    OOF = ([item for sublist in OOF for item in sublist])\n",
    "    OOF = pd.DataFrame(OOF)\n",
    "    OOF['ID'] = ID\n",
    "    OOFOut = pd.concat([OOF,OOFOut],0).reset_index(drop=True)\n"
   ]
  },
  {
   "cell_type": "code",
   "execution_count": 37,
   "id": "103ac9ff",
   "metadata": {},
   "outputs": [],
   "source": [
    "OOFOut = pd.merge(OOFOut,df_train[['song_id','genre_id']],left_on='ID',right_on='song_id',how='left')"
   ]
  },
  {
   "cell_type": "code",
   "execution_count": 38,
   "id": "8ab06257",
   "metadata": {},
   "outputs": [],
   "source": [
    "OOF_preds=OOFOut.iloc[:,:19].idxmax(1)\n"
   ]
  },
  {
   "cell_type": "code",
   "execution_count": 39,
   "id": "a93c5782",
   "metadata": {},
   "outputs": [
    {
     "data": {
      "text/plain": [
       "0.5433996383363472"
      ]
     },
     "execution_count": 39,
     "metadata": {},
     "output_type": "execute_result"
    }
   ],
   "source": [
    "from sklearn.metrics import f1_score\n",
    "\n",
    "f1_score(OOFOut['genre_id'],OOF_preds,average=\"micro\")"
   ]
  },
  {
   "cell_type": "code",
   "execution_count": 40,
   "id": "c418a32a",
   "metadata": {},
   "outputs": [],
   "source": [
    "def runTune():\n",
    "    oof = df_train.copy()\n",
    "    oversampleTrain = False\n",
    "    for fold_num in [0,1,2,3,4]:\n",
    "        print('*****************************************')\n",
    "        print(f'Training Fold {fold_num}')\n",
    "        print('*****************************************')\n",
    "\n",
    "    #with IPyExperimentsPytorch() as exp:\n",
    "        kernel_type = 'ecaresnext50t_32x4d_CQT_512_64_MIXUP'\n",
    "        OUTPUT_DIR = f'C:/Users/Kaggle/Pog_Music_Classification/outputs/{kernel_type}/'\n",
    "        if not os.path.exists(OUTPUT_DIR):\n",
    "            os.makedirs(OUTPUT_DIR)\n",
    "\n",
    "            \n",
    "        crit = CrossEntropyLossFlat() #BiTemperedLogisticLoss()#CrossEntropyLossFlat() #LabelSmoothingCrossEntropy(0.025) #CrossEntropyLossFlat() #FocalLoss()\n",
    "        batch_size = 64\n",
    "        n_epochs = 15\n",
    "\n",
    "        training_fold = df_train.query(f'fold!={fold_num}').reset_index(drop=True, inplace=False)\n",
    "        \n",
    "        if oversampleTrain:\n",
    "            print('--------- Oversampling training dataset -----------')\n",
    "            training_fold = pd.concat([training_fold,training_fold[training_fold['genre_id'].isin(ExtremeMinority)].sample(n=150,replace=True,random_state=42)],0).reset_index(drop=True)\n",
    "            training_fold = pd.concat([training_fold,training_fold[training_fold['genre_id'].isin(SomeMinority)].sample(n=150,replace=True,random_state=42)],0).reset_index(drop=True)\n",
    "            training_fold = pd.concat([training_fold,training_fold[training_fold['genre_id'].isin(LowMinority)].sample(n=100,replace=True,random_state=42)],0).reset_index(drop=True)\n",
    "                \n",
    "        train_ds = POGFiles(training_fold,\n",
    "                            transform=tfms\n",
    "                           )\n",
    "\n",
    "        validation_fold = df_train.query(f'fold=={fold_num}').reset_index(drop=True, inplace=False)\n",
    "        valid_ds = POGFiles(validation_fold,\n",
    "                            transform=tfms)\n",
    "\n",
    "        print(f'- Training samples: {len(train_ds)}\\n- Validation Samples : {len(valid_ds)}')\n",
    "\n",
    "        bs = batch_size\n",
    "        train_dl = torch.utils.data.DataLoader(train_ds, batch_size=bs, num_workers=0,pin_memory=False)\n",
    "        valid_dl = torch.utils.data.DataLoader(valid_ds, batch_size=bs*2, num_workers=0,shuffle=False,pin_memory=False)\n",
    "\n",
    "        dls = DataLoaders(train_dl, valid_dl)\n",
    "        \n",
    "        \n",
    "        model = timm.create_model('ecaresnext50t_32x4d',in_chans=1,pretrained=False)\n",
    "        model.conv1[0].stride = (1,1)\n",
    "        model.fc = nn.Linear(2048,NCLASS)\n",
    "    \n",
    "    \n",
    "        f1_score = F1Score(average=\"micro\")\n",
    "        fname = f'{kernel_type}_{fold_num}'\n",
    "        opt = ranger\n",
    "#         MixUp(0.2),\n",
    "        learn = Learner(dls, model,opt_func=opt,loss_func=crit,metrics=[f1_score],\n",
    "                        model_dir = Path(f'C:/Users/Kaggle/Pog_Music_Classification/outputs/{kernel_type}/{fold_num}'),\n",
    "                        cbs=[MixUp(0.25), SaveModelCallback('f1_score',fname=fname, comp=np.greater),\n",
    "                         CSVLogger(f'C:/Users/Kaggle/Pog_Music_Classification/outputs/{kernel_type}/{fold_num}logs.csv')]).to_fp16()\n",
    "\n",
    "        learn.fit_flat_cos(n_epochs, 1e-2,wd=1e-3)        \n",
    "#         learn.fit_one_cycle(n_epochs, 1e-2,wd=1e-3)\n",
    "        learn.save(f'C:/Users/Kaggle/Pog_Music_Classification/outputs/{kernel_type}/fold_{fold_num}')\n",
    "        learn = learn.load(f'C:/Users/Kaggle/Pog_Music_Classification/outputs/{kernel_type}/fold_{fold_num}')\n",
    "        \n",
    "        learn.model.eval()\n",
    "        test_df = df_test\n",
    "        test_ds = POGFiles(df_test_valid,\n",
    "                           transform=tfms,\n",
    "                           train=False\n",
    "                           )\n",
    "\n",
    "        test_ds.input_path = Path(test_path)\n",
    "\n",
    "        bs = batch_size\n",
    "        test_dl = torch.utils.data.DataLoader(test_ds, batch_size=bs*2, num_workers=0, shuffle=False)\n",
    "        \n",
    "        preds = []\n",
    "        probs = []\n",
    "        for xb  in progress_bar(test_dl):\n",
    "            with torch.no_grad():output = learn.model(xb.cuda())\n",
    "            probs.append(torch.softmax(output.float(),1).squeeze().cpu())\n",
    "            preds.append(torch.argmax(output.float(),1).squeeze().cpu())\n",
    "        \n",
    "        oof_ = []\n",
    "        for xb,_  in progress_bar(valid_dl):\n",
    "            with torch.no_grad():output = learn.model(xb.cuda())\n",
    "            oof_.append(torch.softmax(output.float(),1).squeeze().cpu())\n",
    "        \n",
    "        oof_ = [t.detach().numpy() for t in oof_]\n",
    "        np.save(f'C:/Users/Kaggle/Pog_Music_Classification/outputs/{kernel_type}/test_fold_{fold_num}_probs.npy',np.array(probs))\n",
    "        np.save(f'C:/Users/Kaggle/Pog_Music_Classification/outputs/{kernel_type}/oof_fold_{fold_num}_probs.npy',oof_)\n",
    "        np.save(f'C:/Users/Kaggle/Pog_Music_Classification/outputs/{kernel_type}/oof_fold_{fold_num}_fnames.npy',np.array(validation_fold.song_id))        \n",
    "\n",
    "        preds = torch.cat(preds)\n",
    "        sample_df = df_test_valid.copy()\n",
    "        sample_df['target'] = preds\n",
    "        sample_df.to_csv(f'C:/Users/Kaggle/Pog_Music_Classification/outputs/{kernel_type}/fold_{fold_num}.csv', index=False)"
   ]
  },
  {
   "cell_type": "code",
   "execution_count": 41,
   "id": "899cab06",
   "metadata": {},
   "outputs": [
    {
     "name": "stdout",
     "output_type": "stream",
     "text": [
      "*****************************************\n",
      "Training Fold 0\n",
      "*****************************************\n",
      "- Training samples: 15926\n",
      "- Validation Samples : 3982\n"
     ]
    },
    {
     "data": {
      "text/html": [
       "\n",
       "<style>\n",
       "    /* Turns off some styling */\n",
       "    progress {\n",
       "        /* gets rid of default border in Firefox and Opera. */\n",
       "        border: none;\n",
       "        /* Needs to be in here for Safari polyfill so background images work as expected. */\n",
       "        background-size: auto;\n",
       "    }\n",
       "    .progress-bar-interrupted, .progress-bar-interrupted::-webkit-progress-bar {\n",
       "        background: #F44336;\n",
       "    }\n",
       "</style>\n"
      ],
      "text/plain": [
       "<IPython.core.display.HTML object>"
      ]
     },
     "metadata": {},
     "output_type": "display_data"
    },
    {
     "data": {
      "text/html": [
       "<table border=\"1\" class=\"dataframe\">\n",
       "  <thead>\n",
       "    <tr style=\"text-align: left;\">\n",
       "      <th>epoch</th>\n",
       "      <th>train_loss</th>\n",
       "      <th>valid_loss</th>\n",
       "      <th>f1_score</th>\n",
       "      <th>time</th>\n",
       "    </tr>\n",
       "  </thead>\n",
       "  <tbody>\n",
       "    <tr>\n",
       "      <td>0</td>\n",
       "      <td>2.097589</td>\n",
       "      <td>2.403345</td>\n",
       "      <td>0.294827</td>\n",
       "      <td>03:05</td>\n",
       "    </tr>\n",
       "    <tr>\n",
       "      <td>1</td>\n",
       "      <td>1.889799</td>\n",
       "      <td>3.690016</td>\n",
       "      <td>0.264691</td>\n",
       "      <td>02:47</td>\n",
       "    </tr>\n",
       "    <tr>\n",
       "      <td>2</td>\n",
       "      <td>1.813684</td>\n",
       "      <td>1.800978</td>\n",
       "      <td>0.412356</td>\n",
       "      <td>02:48</td>\n",
       "    </tr>\n",
       "    <tr>\n",
       "      <td>3</td>\n",
       "      <td>1.769060</td>\n",
       "      <td>2.454610</td>\n",
       "      <td>0.279006</td>\n",
       "      <td>02:48</td>\n",
       "    </tr>\n",
       "    <tr>\n",
       "      <td>4</td>\n",
       "      <td>1.730664</td>\n",
       "      <td>1.642735</td>\n",
       "      <td>0.484932</td>\n",
       "      <td>02:50</td>\n",
       "    </tr>\n",
       "    <tr>\n",
       "      <td>5</td>\n",
       "      <td>1.680346</td>\n",
       "      <td>1.715424</td>\n",
       "      <td>0.442742</td>\n",
       "      <td>02:49</td>\n",
       "    </tr>\n",
       "    <tr>\n",
       "      <td>6</td>\n",
       "      <td>1.637440</td>\n",
       "      <td>1.590846</td>\n",
       "      <td>0.499247</td>\n",
       "      <td>02:49</td>\n",
       "    </tr>\n",
       "    <tr>\n",
       "      <td>7</td>\n",
       "      <td>1.622481</td>\n",
       "      <td>2.059630</td>\n",
       "      <td>0.389503</td>\n",
       "      <td>02:48</td>\n",
       "    </tr>\n",
       "    <tr>\n",
       "      <td>8</td>\n",
       "      <td>1.573455</td>\n",
       "      <td>1.988298</td>\n",
       "      <td>0.400301</td>\n",
       "      <td>02:51</td>\n",
       "    </tr>\n",
       "    <tr>\n",
       "      <td>9</td>\n",
       "      <td>1.515791</td>\n",
       "      <td>1.883567</td>\n",
       "      <td>0.428930</td>\n",
       "      <td>02:49</td>\n",
       "    </tr>\n",
       "    <tr>\n",
       "      <td>10</td>\n",
       "      <td>1.493665</td>\n",
       "      <td>1.642524</td>\n",
       "      <td>0.489704</td>\n",
       "      <td>02:50</td>\n",
       "    </tr>\n",
       "    <tr>\n",
       "      <td>11</td>\n",
       "      <td>1.432443</td>\n",
       "      <td>1.677894</td>\n",
       "      <td>0.470618</td>\n",
       "      <td>02:50</td>\n",
       "    </tr>\n",
       "    <tr>\n",
       "      <td>12</td>\n",
       "      <td>1.330392</td>\n",
       "      <td>1.499407</td>\n",
       "      <td>0.528880</td>\n",
       "      <td>02:50</td>\n",
       "    </tr>\n",
       "    <tr>\n",
       "      <td>13</td>\n",
       "      <td>1.221822</td>\n",
       "      <td>1.475667</td>\n",
       "      <td>0.545203</td>\n",
       "      <td>02:48</td>\n",
       "    </tr>\n",
       "    <tr>\n",
       "      <td>14</td>\n",
       "      <td>1.125865</td>\n",
       "      <td>1.374259</td>\n",
       "      <td>0.574837</td>\n",
       "      <td>02:44</td>\n",
       "    </tr>\n",
       "  </tbody>\n",
       "</table>"
      ],
      "text/plain": [
       "<IPython.core.display.HTML object>"
      ]
     },
     "metadata": {},
     "output_type": "display_data"
    },
    {
     "name": "stdout",
     "output_type": "stream",
     "text": [
      "Better model found at epoch 0 with f1_score value: 0.29482672024108486.\n",
      "Better model found at epoch 2 with f1_score value: 0.41235560020090406.\n",
      "Better model found at epoch 4 with f1_score value: 0.4849321948769463.\n",
      "Better model found at epoch 6 with f1_score value: 0.4992466097438473.\n",
      "Better model found at epoch 12 with f1_score value: 0.5288799598191863.\n",
      "Better model found at epoch 13 with f1_score value: 0.5452034153691612.\n",
      "Better model found at epoch 14 with f1_score value: 0.5748367654445002.\n"
     ]
    },
    {
     "data": {
      "text/html": [
       "\n",
       "<style>\n",
       "    /* Turns off some styling */\n",
       "    progress {\n",
       "        /* gets rid of default border in Firefox and Opera. */\n",
       "        border: none;\n",
       "        /* Needs to be in here for Safari polyfill so background images work as expected. */\n",
       "        background-size: auto;\n",
       "    }\n",
       "    .progress-bar-interrupted, .progress-bar-interrupted::-webkit-progress-bar {\n",
       "        background: #F44336;\n",
       "    }\n",
       "</style>\n"
      ],
      "text/plain": [
       "<IPython.core.display.HTML object>"
      ]
     },
     "metadata": {},
     "output_type": "display_data"
    },
    {
     "data": {
      "text/html": [
       "\n",
       "    <div>\n",
       "      <progress value='40' class='' max='40' style='width:300px; height:20px; vertical-align: middle;'></progress>\n",
       "      100.00% [40/40 00:27<00:00]\n",
       "    </div>\n",
       "    "
      ],
      "text/plain": [
       "<IPython.core.display.HTML object>"
      ]
     },
     "metadata": {},
     "output_type": "display_data"
    },
    {
     "data": {
      "text/html": [
       "\n",
       "<style>\n",
       "    /* Turns off some styling */\n",
       "    progress {\n",
       "        /* gets rid of default border in Firefox and Opera. */\n",
       "        border: none;\n",
       "        /* Needs to be in here for Safari polyfill so background images work as expected. */\n",
       "        background-size: auto;\n",
       "    }\n",
       "    .progress-bar-interrupted, .progress-bar-interrupted::-webkit-progress-bar {\n",
       "        background: #F44336;\n",
       "    }\n",
       "</style>\n"
      ],
      "text/plain": [
       "<IPython.core.display.HTML object>"
      ]
     },
     "metadata": {},
     "output_type": "display_data"
    },
    {
     "data": {
      "text/html": [
       "\n",
       "    <div>\n",
       "      <progress value='32' class='' max='32' style='width:300px; height:20px; vertical-align: middle;'></progress>\n",
       "      100.00% [32/32 00:17<00:00]\n",
       "    </div>\n",
       "    "
      ],
      "text/plain": [
       "<IPython.core.display.HTML object>"
      ]
     },
     "metadata": {},
     "output_type": "display_data"
    },
    {
     "name": "stdout",
     "output_type": "stream",
     "text": [
      "*****************************************\n",
      "Training Fold 1\n",
      "*****************************************\n",
      "- Training samples: 15926\n",
      "- Validation Samples : 3982\n"
     ]
    },
    {
     "data": {
      "text/html": [
       "\n",
       "<style>\n",
       "    /* Turns off some styling */\n",
       "    progress {\n",
       "        /* gets rid of default border in Firefox and Opera. */\n",
       "        border: none;\n",
       "        /* Needs to be in here for Safari polyfill so background images work as expected. */\n",
       "        background-size: auto;\n",
       "    }\n",
       "    .progress-bar-interrupted, .progress-bar-interrupted::-webkit-progress-bar {\n",
       "        background: #F44336;\n",
       "    }\n",
       "</style>\n"
      ],
      "text/plain": [
       "<IPython.core.display.HTML object>"
      ]
     },
     "metadata": {},
     "output_type": "display_data"
    },
    {
     "data": {
      "text/html": [
       "<table border=\"1\" class=\"dataframe\">\n",
       "  <thead>\n",
       "    <tr style=\"text-align: left;\">\n",
       "      <th>epoch</th>\n",
       "      <th>train_loss</th>\n",
       "      <th>valid_loss</th>\n",
       "      <th>f1_score</th>\n",
       "      <th>time</th>\n",
       "    </tr>\n",
       "  </thead>\n",
       "  <tbody>\n",
       "    <tr>\n",
       "      <td>0</td>\n",
       "      <td>2.085433</td>\n",
       "      <td>2.109341</td>\n",
       "      <td>0.320191</td>\n",
       "      <td>02:48</td>\n",
       "    </tr>\n",
       "    <tr>\n",
       "      <td>1</td>\n",
       "      <td>1.898074</td>\n",
       "      <td>2.201009</td>\n",
       "      <td>0.318684</td>\n",
       "      <td>02:45</td>\n",
       "    </tr>\n",
       "    <tr>\n",
       "      <td>2</td>\n",
       "      <td>1.833506</td>\n",
       "      <td>1.947407</td>\n",
       "      <td>0.370668</td>\n",
       "      <td>02:43</td>\n",
       "    </tr>\n",
       "    <tr>\n",
       "      <td>3</td>\n",
       "      <td>1.770422</td>\n",
       "      <td>2.441137</td>\n",
       "      <td>0.297589</td>\n",
       "      <td>02:45</td>\n",
       "    </tr>\n",
       "    <tr>\n",
       "      <td>4</td>\n",
       "      <td>1.714670</td>\n",
       "      <td>1.751454</td>\n",
       "      <td>0.447263</td>\n",
       "      <td>02:44</td>\n",
       "    </tr>\n",
       "    <tr>\n",
       "      <td>5</td>\n",
       "      <td>1.683667</td>\n",
       "      <td>1.601787</td>\n",
       "      <td>0.464842</td>\n",
       "      <td>02:42</td>\n",
       "    </tr>\n",
       "    <tr>\n",
       "      <td>6</td>\n",
       "      <td>1.650783</td>\n",
       "      <td>1.537525</td>\n",
       "      <td>0.500000</td>\n",
       "      <td>02:44</td>\n",
       "    </tr>\n",
       "    <tr>\n",
       "      <td>7</td>\n",
       "      <td>1.617181</td>\n",
       "      <td>1.517401</td>\n",
       "      <td>0.499498</td>\n",
       "      <td>02:43</td>\n",
       "    </tr>\n",
       "    <tr>\n",
       "      <td>8</td>\n",
       "      <td>1.577819</td>\n",
       "      <td>1.479703</td>\n",
       "      <td>0.512054</td>\n",
       "      <td>02:44</td>\n",
       "    </tr>\n",
       "    <tr>\n",
       "      <td>9</td>\n",
       "      <td>1.539158</td>\n",
       "      <td>1.547775</td>\n",
       "      <td>0.487192</td>\n",
       "      <td>02:44</td>\n",
       "    </tr>\n",
       "    <tr>\n",
       "      <td>10</td>\n",
       "      <td>1.490303</td>\n",
       "      <td>1.517848</td>\n",
       "      <td>0.499247</td>\n",
       "      <td>02:45</td>\n",
       "    </tr>\n",
       "    <tr>\n",
       "      <td>11</td>\n",
       "      <td>1.443439</td>\n",
       "      <td>1.665011</td>\n",
       "      <td>0.476645</td>\n",
       "      <td>02:44</td>\n",
       "    </tr>\n",
       "    <tr>\n",
       "      <td>12</td>\n",
       "      <td>1.351685</td>\n",
       "      <td>1.479068</td>\n",
       "      <td>0.522602</td>\n",
       "      <td>02:43</td>\n",
       "    </tr>\n",
       "    <tr>\n",
       "      <td>13</td>\n",
       "      <td>1.253608</td>\n",
       "      <td>1.494899</td>\n",
       "      <td>0.537418</td>\n",
       "      <td>02:43</td>\n",
       "    </tr>\n",
       "    <tr>\n",
       "      <td>14</td>\n",
       "      <td>1.171444</td>\n",
       "      <td>1.383781</td>\n",
       "      <td>0.565043</td>\n",
       "      <td>04:44</td>\n",
       "    </tr>\n",
       "  </tbody>\n",
       "</table>"
      ],
      "text/plain": [
       "<IPython.core.display.HTML object>"
      ]
     },
     "metadata": {},
     "output_type": "display_data"
    },
    {
     "name": "stdout",
     "output_type": "stream",
     "text": [
      "Better model found at epoch 0 with f1_score value: 0.320190858864892.\n",
      "Better model found at epoch 2 with f1_score value: 0.3706680060271221.\n",
      "Better model found at epoch 4 with f1_score value: 0.4472626820693119.\n",
      "Better model found at epoch 5 with f1_score value: 0.46484178804620796.\n",
      "Better model found at epoch 6 with f1_score value: 0.5.\n",
      "Better model found at epoch 8 with f1_score value: 0.512054244098443.\n",
      "Better model found at epoch 12 with f1_score value: 0.5226017076845806.\n",
      "Better model found at epoch 13 with f1_score value: 0.5374183827222502.\n",
      "Better model found at epoch 14 with f1_score value: 0.5650426921145153.\n"
     ]
    },
    {
     "data": {
      "text/html": [
       "\n",
       "<style>\n",
       "    /* Turns off some styling */\n",
       "    progress {\n",
       "        /* gets rid of default border in Firefox and Opera. */\n",
       "        border: none;\n",
       "        /* Needs to be in here for Safari polyfill so background images work as expected. */\n",
       "        background-size: auto;\n",
       "    }\n",
       "    .progress-bar-interrupted, .progress-bar-interrupted::-webkit-progress-bar {\n",
       "        background: #F44336;\n",
       "    }\n",
       "</style>\n"
      ],
      "text/plain": [
       "<IPython.core.display.HTML object>"
      ]
     },
     "metadata": {},
     "output_type": "display_data"
    },
    {
     "data": {
      "text/html": [
       "\n",
       "    <div>\n",
       "      <progress value='40' class='' max='40' style='width:300px; height:20px; vertical-align: middle;'></progress>\n",
       "      100.00% [40/40 00:54<00:00]\n",
       "    </div>\n",
       "    "
      ],
      "text/plain": [
       "<IPython.core.display.HTML object>"
      ]
     },
     "metadata": {},
     "output_type": "display_data"
    },
    {
     "data": {
      "text/html": [
       "\n",
       "<style>\n",
       "    /* Turns off some styling */\n",
       "    progress {\n",
       "        /* gets rid of default border in Firefox and Opera. */\n",
       "        border: none;\n",
       "        /* Needs to be in here for Safari polyfill so background images work as expected. */\n",
       "        background-size: auto;\n",
       "    }\n",
       "    .progress-bar-interrupted, .progress-bar-interrupted::-webkit-progress-bar {\n",
       "        background: #F44336;\n",
       "    }\n",
       "</style>\n"
      ],
      "text/plain": [
       "<IPython.core.display.HTML object>"
      ]
     },
     "metadata": {},
     "output_type": "display_data"
    },
    {
     "data": {
      "text/html": [
       "\n",
       "    <div>\n",
       "      <progress value='32' class='' max='32' style='width:300px; height:20px; vertical-align: middle;'></progress>\n",
       "      100.00% [32/32 00:16<00:00]\n",
       "    </div>\n",
       "    "
      ],
      "text/plain": [
       "<IPython.core.display.HTML object>"
      ]
     },
     "metadata": {},
     "output_type": "display_data"
    },
    {
     "name": "stdout",
     "output_type": "stream",
     "text": [
      "*****************************************\n",
      "Training Fold 2\n",
      "*****************************************\n",
      "- Training samples: 15926\n",
      "- Validation Samples : 3982\n"
     ]
    },
    {
     "data": {
      "text/html": [
       "\n",
       "<style>\n",
       "    /* Turns off some styling */\n",
       "    progress {\n",
       "        /* gets rid of default border in Firefox and Opera. */\n",
       "        border: none;\n",
       "        /* Needs to be in here for Safari polyfill so background images work as expected. */\n",
       "        background-size: auto;\n",
       "    }\n",
       "    .progress-bar-interrupted, .progress-bar-interrupted::-webkit-progress-bar {\n",
       "        background: #F44336;\n",
       "    }\n",
       "</style>\n"
      ],
      "text/plain": [
       "<IPython.core.display.HTML object>"
      ]
     },
     "metadata": {},
     "output_type": "display_data"
    },
    {
     "data": {
      "text/html": [
       "<table border=\"1\" class=\"dataframe\">\n",
       "  <thead>\n",
       "    <tr style=\"text-align: left;\">\n",
       "      <th>epoch</th>\n",
       "      <th>train_loss</th>\n",
       "      <th>valid_loss</th>\n",
       "      <th>f1_score</th>\n",
       "      <th>time</th>\n",
       "    </tr>\n",
       "  </thead>\n",
       "  <tbody>\n",
       "    <tr>\n",
       "      <td>0</td>\n",
       "      <td>2.091666</td>\n",
       "      <td>2.387599</td>\n",
       "      <td>0.230035</td>\n",
       "      <td>02:46</td>\n",
       "    </tr>\n",
       "    <tr>\n",
       "      <td>1</td>\n",
       "      <td>1.895826</td>\n",
       "      <td>1.723030</td>\n",
       "      <td>0.447765</td>\n",
       "      <td>02:43</td>\n",
       "    </tr>\n",
       "    <tr>\n",
       "      <td>2</td>\n",
       "      <td>1.818472</td>\n",
       "      <td>1.896499</td>\n",
       "      <td>0.388498</td>\n",
       "      <td>02:43</td>\n",
       "    </tr>\n",
       "    <tr>\n",
       "      <td>3</td>\n",
       "      <td>1.768605</td>\n",
       "      <td>1.601050</td>\n",
       "      <td>0.463837</td>\n",
       "      <td>02:43</td>\n",
       "    </tr>\n",
       "    <tr>\n",
       "      <td>4</td>\n",
       "      <td>1.733589</td>\n",
       "      <td>1.603408</td>\n",
       "      <td>0.471873</td>\n",
       "      <td>02:43</td>\n",
       "    </tr>\n",
       "    <tr>\n",
       "      <td>5</td>\n",
       "      <td>1.690411</td>\n",
       "      <td>1.522038</td>\n",
       "      <td>0.500502</td>\n",
       "      <td>02:43</td>\n",
       "    </tr>\n",
       "    <tr>\n",
       "      <td>6</td>\n",
       "      <td>1.667910</td>\n",
       "      <td>1.547813</td>\n",
       "      <td>0.487946</td>\n",
       "      <td>02:43</td>\n",
       "    </tr>\n",
       "    <tr>\n",
       "      <td>7</td>\n",
       "      <td>1.621047</td>\n",
       "      <td>1.449776</td>\n",
       "      <td>0.517077</td>\n",
       "      <td>02:43</td>\n",
       "    </tr>\n",
       "    <tr>\n",
       "      <td>8</td>\n",
       "      <td>1.579481</td>\n",
       "      <td>1.596971</td>\n",
       "      <td>0.481668</td>\n",
       "      <td>02:43</td>\n",
       "    </tr>\n",
       "    <tr>\n",
       "      <td>9</td>\n",
       "      <td>1.527291</td>\n",
       "      <td>1.431580</td>\n",
       "      <td>0.524108</td>\n",
       "      <td>02:42</td>\n",
       "    </tr>\n",
       "    <tr>\n",
       "      <td>10</td>\n",
       "      <td>1.500619</td>\n",
       "      <td>1.538774</td>\n",
       "      <td>0.500753</td>\n",
       "      <td>02:42</td>\n",
       "    </tr>\n",
       "    <tr>\n",
       "      <td>11</td>\n",
       "      <td>1.465309</td>\n",
       "      <td>1.424688</td>\n",
       "      <td>0.533149</td>\n",
       "      <td>02:42</td>\n",
       "    </tr>\n",
       "    <tr>\n",
       "      <td>12</td>\n",
       "      <td>1.356316</td>\n",
       "      <td>1.527713</td>\n",
       "      <td>0.513812</td>\n",
       "      <td>02:42</td>\n",
       "    </tr>\n",
       "    <tr>\n",
       "      <td>13</td>\n",
       "      <td>1.242184</td>\n",
       "      <td>1.422401</td>\n",
       "      <td>0.545706</td>\n",
       "      <td>02:43</td>\n",
       "    </tr>\n",
       "    <tr>\n",
       "      <td>14</td>\n",
       "      <td>1.161387</td>\n",
       "      <td>1.396631</td>\n",
       "      <td>0.567554</td>\n",
       "      <td>02:42</td>\n",
       "    </tr>\n",
       "  </tbody>\n",
       "</table>"
      ],
      "text/plain": [
       "<IPython.core.display.HTML object>"
      ]
     },
     "metadata": {},
     "output_type": "display_data"
    },
    {
     "name": "stdout",
     "output_type": "stream",
     "text": [
      "Better model found at epoch 0 with f1_score value: 0.2300351582119538.\n",
      "Better model found at epoch 1 with f1_score value: 0.44776494224008034.\n",
      "Better model found at epoch 3 with f1_score value: 0.46383726770467104.\n",
      "Better model found at epoch 4 with f1_score value: 0.47187343043696633.\n",
      "Better model found at epoch 5 with f1_score value: 0.5005022601707685.\n",
      "Better model found at epoch 7 with f1_score value: 0.5170768458061276.\n",
      "Better model found at epoch 9 with f1_score value: 0.5241084881968859.\n",
      "Better model found at epoch 11 with f1_score value: 0.5331491712707183.\n",
      "Better model found at epoch 13 with f1_score value: 0.5457056755399297.\n",
      "Better model found at epoch 14 with f1_score value: 0.5675539929683576.\n"
     ]
    },
    {
     "data": {
      "text/html": [
       "\n",
       "<style>\n",
       "    /* Turns off some styling */\n",
       "    progress {\n",
       "        /* gets rid of default border in Firefox and Opera. */\n",
       "        border: none;\n",
       "        /* Needs to be in here for Safari polyfill so background images work as expected. */\n",
       "        background-size: auto;\n",
       "    }\n",
       "    .progress-bar-interrupted, .progress-bar-interrupted::-webkit-progress-bar {\n",
       "        background: #F44336;\n",
       "    }\n",
       "</style>\n"
      ],
      "text/plain": [
       "<IPython.core.display.HTML object>"
      ]
     },
     "metadata": {},
     "output_type": "display_data"
    },
    {
     "data": {
      "text/html": [
       "\n",
       "    <div>\n",
       "      <progress value='40' class='' max='40' style='width:300px; height:20px; vertical-align: middle;'></progress>\n",
       "      100.00% [40/40 00:21<00:00]\n",
       "    </div>\n",
       "    "
      ],
      "text/plain": [
       "<IPython.core.display.HTML object>"
      ]
     },
     "metadata": {},
     "output_type": "display_data"
    },
    {
     "data": {
      "text/html": [
       "\n",
       "<style>\n",
       "    /* Turns off some styling */\n",
       "    progress {\n",
       "        /* gets rid of default border in Firefox and Opera. */\n",
       "        border: none;\n",
       "        /* Needs to be in here for Safari polyfill so background images work as expected. */\n",
       "        background-size: auto;\n",
       "    }\n",
       "    .progress-bar-interrupted, .progress-bar-interrupted::-webkit-progress-bar {\n",
       "        background: #F44336;\n",
       "    }\n",
       "</style>\n"
      ],
      "text/plain": [
       "<IPython.core.display.HTML object>"
      ]
     },
     "metadata": {},
     "output_type": "display_data"
    },
    {
     "data": {
      "text/html": [
       "\n",
       "    <div>\n",
       "      <progress value='32' class='' max='32' style='width:300px; height:20px; vertical-align: middle;'></progress>\n",
       "      100.00% [32/32 00:16<00:00]\n",
       "    </div>\n",
       "    "
      ],
      "text/plain": [
       "<IPython.core.display.HTML object>"
      ]
     },
     "metadata": {},
     "output_type": "display_data"
    },
    {
     "name": "stdout",
     "output_type": "stream",
     "text": [
      "*****************************************\n",
      "Training Fold 3\n",
      "*****************************************\n",
      "- Training samples: 15927\n",
      "- Validation Samples : 3981\n"
     ]
    },
    {
     "data": {
      "text/html": [
       "\n",
       "<style>\n",
       "    /* Turns off some styling */\n",
       "    progress {\n",
       "        /* gets rid of default border in Firefox and Opera. */\n",
       "        border: none;\n",
       "        /* Needs to be in here for Safari polyfill so background images work as expected. */\n",
       "        background-size: auto;\n",
       "    }\n",
       "    .progress-bar-interrupted, .progress-bar-interrupted::-webkit-progress-bar {\n",
       "        background: #F44336;\n",
       "    }\n",
       "</style>\n"
      ],
      "text/plain": [
       "<IPython.core.display.HTML object>"
      ]
     },
     "metadata": {},
     "output_type": "display_data"
    },
    {
     "data": {
      "text/html": [
       "<table border=\"1\" class=\"dataframe\">\n",
       "  <thead>\n",
       "    <tr style=\"text-align: left;\">\n",
       "      <th>epoch</th>\n",
       "      <th>train_loss</th>\n",
       "      <th>valid_loss</th>\n",
       "      <th>f1_score</th>\n",
       "      <th>time</th>\n",
       "    </tr>\n",
       "  </thead>\n",
       "  <tbody>\n",
       "    <tr>\n",
       "      <td>0</td>\n",
       "      <td>2.067721</td>\n",
       "      <td>2.232460</td>\n",
       "      <td>0.273298</td>\n",
       "      <td>02:48</td>\n",
       "    </tr>\n",
       "    <tr>\n",
       "      <td>1</td>\n",
       "      <td>1.891371</td>\n",
       "      <td>3.177655</td>\n",
       "      <td>0.193921</td>\n",
       "      <td>02:42</td>\n",
       "    </tr>\n",
       "    <tr>\n",
       "      <td>2</td>\n",
       "      <td>1.815625</td>\n",
       "      <td>1.972752</td>\n",
       "      <td>0.376036</td>\n",
       "      <td>02:42</td>\n",
       "    </tr>\n",
       "    <tr>\n",
       "      <td>3</td>\n",
       "      <td>1.755686</td>\n",
       "      <td>1.714649</td>\n",
       "      <td>0.434062</td>\n",
       "      <td>02:42</td>\n",
       "    </tr>\n",
       "    <tr>\n",
       "      <td>4</td>\n",
       "      <td>1.709752</td>\n",
       "      <td>1.557118</td>\n",
       "      <td>0.472494</td>\n",
       "      <td>02:45</td>\n",
       "    </tr>\n",
       "    <tr>\n",
       "      <td>5</td>\n",
       "      <td>1.681723</td>\n",
       "      <td>1.821468</td>\n",
       "      <td>0.376287</td>\n",
       "      <td>02:43</td>\n",
       "    </tr>\n",
       "    <tr>\n",
       "      <td>6</td>\n",
       "      <td>1.635042</td>\n",
       "      <td>1.519736</td>\n",
       "      <td>0.487817</td>\n",
       "      <td>02:43</td>\n",
       "    </tr>\n",
       "    <tr>\n",
       "      <td>7</td>\n",
       "      <td>1.601364</td>\n",
       "      <td>1.614611</td>\n",
       "      <td>0.463954</td>\n",
       "      <td>02:43</td>\n",
       "    </tr>\n",
       "    <tr>\n",
       "      <td>8</td>\n",
       "      <td>1.568800</td>\n",
       "      <td>1.637015</td>\n",
       "      <td>0.468224</td>\n",
       "      <td>02:43</td>\n",
       "    </tr>\n",
       "    <tr>\n",
       "      <td>9</td>\n",
       "      <td>1.514130</td>\n",
       "      <td>1.622732</td>\n",
       "      <td>0.467219</td>\n",
       "      <td>02:42</td>\n",
       "    </tr>\n",
       "    <tr>\n",
       "      <td>10</td>\n",
       "      <td>1.486281</td>\n",
       "      <td>1.670416</td>\n",
       "      <td>0.471992</td>\n",
       "      <td>02:42</td>\n",
       "    </tr>\n",
       "    <tr>\n",
       "      <td>11</td>\n",
       "      <td>1.422341</td>\n",
       "      <td>1.778144</td>\n",
       "      <td>0.464959</td>\n",
       "      <td>02:42</td>\n",
       "    </tr>\n",
       "    <tr>\n",
       "      <td>12</td>\n",
       "      <td>1.320282</td>\n",
       "      <td>1.562334</td>\n",
       "      <td>0.505652</td>\n",
       "      <td>02:42</td>\n",
       "    </tr>\n",
       "    <tr>\n",
       "      <td>13</td>\n",
       "      <td>1.225881</td>\n",
       "      <td>1.413494</td>\n",
       "      <td>0.547099</td>\n",
       "      <td>02:42</td>\n",
       "    </tr>\n",
       "    <tr>\n",
       "      <td>14</td>\n",
       "      <td>1.134581</td>\n",
       "      <td>1.373806</td>\n",
       "      <td>0.566189</td>\n",
       "      <td>02:42</td>\n",
       "    </tr>\n",
       "  </tbody>\n",
       "</table>"
      ],
      "text/plain": [
       "<IPython.core.display.HTML object>"
      ]
     },
     "metadata": {},
     "output_type": "display_data"
    },
    {
     "name": "stdout",
     "output_type": "stream",
     "text": [
      "Better model found at epoch 0 with f1_score value: 0.2732981662898769.\n",
      "Better model found at epoch 2 with f1_score value: 0.3760361718161266.\n",
      "Better model found at epoch 3 with f1_score value: 0.43406179351921625.\n",
      "Better model found at epoch 4 with f1_score value: 0.4724943481537302.\n",
      "Better model found at epoch 6 with f1_score value: 0.4878171313740266.\n",
      "Better model found at epoch 12 with f1_score value: 0.5056518462697814.\n",
      "Better model found at epoch 13 with f1_score value: 0.5470987189148455.\n",
      "Better model found at epoch 14 with f1_score value: 0.5661893996483296.\n"
     ]
    },
    {
     "data": {
      "text/html": [
       "\n",
       "<style>\n",
       "    /* Turns off some styling */\n",
       "    progress {\n",
       "        /* gets rid of default border in Firefox and Opera. */\n",
       "        border: none;\n",
       "        /* Needs to be in here for Safari polyfill so background images work as expected. */\n",
       "        background-size: auto;\n",
       "    }\n",
       "    .progress-bar-interrupted, .progress-bar-interrupted::-webkit-progress-bar {\n",
       "        background: #F44336;\n",
       "    }\n",
       "</style>\n"
      ],
      "text/plain": [
       "<IPython.core.display.HTML object>"
      ]
     },
     "metadata": {},
     "output_type": "display_data"
    },
    {
     "data": {
      "text/html": [
       "\n",
       "    <div>\n",
       "      <progress value='40' class='' max='40' style='width:300px; height:20px; vertical-align: middle;'></progress>\n",
       "      100.00% [40/40 00:20<00:00]\n",
       "    </div>\n",
       "    "
      ],
      "text/plain": [
       "<IPython.core.display.HTML object>"
      ]
     },
     "metadata": {},
     "output_type": "display_data"
    },
    {
     "data": {
      "text/html": [
       "\n",
       "<style>\n",
       "    /* Turns off some styling */\n",
       "    progress {\n",
       "        /* gets rid of default border in Firefox and Opera. */\n",
       "        border: none;\n",
       "        /* Needs to be in here for Safari polyfill so background images work as expected. */\n",
       "        background-size: auto;\n",
       "    }\n",
       "    .progress-bar-interrupted, .progress-bar-interrupted::-webkit-progress-bar {\n",
       "        background: #F44336;\n",
       "    }\n",
       "</style>\n"
      ],
      "text/plain": [
       "<IPython.core.display.HTML object>"
      ]
     },
     "metadata": {},
     "output_type": "display_data"
    },
    {
     "data": {
      "text/html": [
       "\n",
       "    <div>\n",
       "      <progress value='32' class='' max='32' style='width:300px; height:20px; vertical-align: middle;'></progress>\n",
       "      100.00% [32/32 00:16<00:00]\n",
       "    </div>\n",
       "    "
      ],
      "text/plain": [
       "<IPython.core.display.HTML object>"
      ]
     },
     "metadata": {},
     "output_type": "display_data"
    },
    {
     "name": "stdout",
     "output_type": "stream",
     "text": [
      "*****************************************\n",
      "Training Fold 4\n",
      "*****************************************\n",
      "- Training samples: 15927\n",
      "- Validation Samples : 3981\n"
     ]
    },
    {
     "data": {
      "text/html": [
       "\n",
       "<style>\n",
       "    /* Turns off some styling */\n",
       "    progress {\n",
       "        /* gets rid of default border in Firefox and Opera. */\n",
       "        border: none;\n",
       "        /* Needs to be in here for Safari polyfill so background images work as expected. */\n",
       "        background-size: auto;\n",
       "    }\n",
       "    .progress-bar-interrupted, .progress-bar-interrupted::-webkit-progress-bar {\n",
       "        background: #F44336;\n",
       "    }\n",
       "</style>\n"
      ],
      "text/plain": [
       "<IPython.core.display.HTML object>"
      ]
     },
     "metadata": {},
     "output_type": "display_data"
    },
    {
     "data": {
      "text/html": [
       "<table border=\"1\" class=\"dataframe\">\n",
       "  <thead>\n",
       "    <tr style=\"text-align: left;\">\n",
       "      <th>epoch</th>\n",
       "      <th>train_loss</th>\n",
       "      <th>valid_loss</th>\n",
       "      <th>f1_score</th>\n",
       "      <th>time</th>\n",
       "    </tr>\n",
       "  </thead>\n",
       "  <tbody>\n",
       "    <tr>\n",
       "      <td>0</td>\n",
       "      <td>2.075872</td>\n",
       "      <td>3.174291</td>\n",
       "      <td>0.266014</td>\n",
       "      <td>02:41</td>\n",
       "    </tr>\n",
       "    <tr>\n",
       "      <td>1</td>\n",
       "      <td>1.893935</td>\n",
       "      <td>1.845954</td>\n",
       "      <td>0.387089</td>\n",
       "      <td>02:42</td>\n",
       "    </tr>\n",
       "    <tr>\n",
       "      <td>2</td>\n",
       "      <td>1.835049</td>\n",
       "      <td>2.023511</td>\n",
       "      <td>0.356192</td>\n",
       "      <td>02:42</td>\n",
       "    </tr>\n",
       "    <tr>\n",
       "      <td>3</td>\n",
       "      <td>1.763592</td>\n",
       "      <td>1.605837</td>\n",
       "      <td>0.481035</td>\n",
       "      <td>02:41</td>\n",
       "    </tr>\n",
       "    <tr>\n",
       "      <td>4</td>\n",
       "      <td>1.725047</td>\n",
       "      <td>1.745515</td>\n",
       "      <td>0.446119</td>\n",
       "      <td>02:41</td>\n",
       "    </tr>\n",
       "    <tr>\n",
       "      <td>5</td>\n",
       "      <td>1.687850</td>\n",
       "      <td>1.582403</td>\n",
       "      <td>0.472746</td>\n",
       "      <td>02:42</td>\n",
       "    </tr>\n",
       "    <tr>\n",
       "      <td>6</td>\n",
       "      <td>1.655428</td>\n",
       "      <td>1.547824</td>\n",
       "      <td>0.486059</td>\n",
       "      <td>02:41</td>\n",
       "    </tr>\n",
       "    <tr>\n",
       "      <td>7</td>\n",
       "      <td>1.609288</td>\n",
       "      <td>1.509416</td>\n",
       "      <td>0.498618</td>\n",
       "      <td>02:41</td>\n",
       "    </tr>\n",
       "    <tr>\n",
       "      <td>8</td>\n",
       "      <td>1.576598</td>\n",
       "      <td>1.625132</td>\n",
       "      <td>0.475509</td>\n",
       "      <td>02:42</td>\n",
       "    </tr>\n",
       "    <tr>\n",
       "      <td>9</td>\n",
       "      <td>1.529297</td>\n",
       "      <td>1.533340</td>\n",
       "      <td>0.495353</td>\n",
       "      <td>02:41</td>\n",
       "    </tr>\n",
       "    <tr>\n",
       "      <td>10</td>\n",
       "      <td>1.504137</td>\n",
       "      <td>1.596318</td>\n",
       "      <td>0.467722</td>\n",
       "      <td>02:41</td>\n",
       "    </tr>\n",
       "    <tr>\n",
       "      <td>11</td>\n",
       "      <td>1.440164</td>\n",
       "      <td>1.486992</td>\n",
       "      <td>0.514444</td>\n",
       "      <td>02:42</td>\n",
       "    </tr>\n",
       "    <tr>\n",
       "      <td>12</td>\n",
       "      <td>1.334726</td>\n",
       "      <td>1.468699</td>\n",
       "      <td>0.528008</td>\n",
       "      <td>02:42</td>\n",
       "    </tr>\n",
       "    <tr>\n",
       "      <td>13</td>\n",
       "      <td>1.226889</td>\n",
       "      <td>1.385579</td>\n",
       "      <td>0.565687</td>\n",
       "      <td>02:42</td>\n",
       "    </tr>\n",
       "    <tr>\n",
       "      <td>14</td>\n",
       "      <td>1.125773</td>\n",
       "      <td>1.381974</td>\n",
       "      <td>0.562924</td>\n",
       "      <td>02:42</td>\n",
       "    </tr>\n",
       "  </tbody>\n",
       "</table>"
      ],
      "text/plain": [
       "<IPython.core.display.HTML object>"
      ]
     },
     "metadata": {},
     "output_type": "display_data"
    },
    {
     "name": "stdout",
     "output_type": "stream",
     "text": [
      "Better model found at epoch 0 with f1_score value: 0.26601356443104746.\n",
      "Better model found at epoch 1 with f1_score value: 0.3870886711881436.\n",
      "Better model found at epoch 3 with f1_score value: 0.48103491585028885.\n",
      "Better model found at epoch 6 with f1_score value: 0.4860587792012057.\n",
      "Better model found at epoch 7 with f1_score value: 0.4986184375784979.\n",
      "Better model found at epoch 11 with f1_score value: 0.5144436071338859.\n",
      "Better model found at epoch 12 with f1_score value: 0.5280080381813614.\n",
      "Better model found at epoch 13 with f1_score value: 0.5656870133132379.\n"
     ]
    },
    {
     "data": {
      "text/html": [
       "\n",
       "<style>\n",
       "    /* Turns off some styling */\n",
       "    progress {\n",
       "        /* gets rid of default border in Firefox and Opera. */\n",
       "        border: none;\n",
       "        /* Needs to be in here for Safari polyfill so background images work as expected. */\n",
       "        background-size: auto;\n",
       "    }\n",
       "    .progress-bar-interrupted, .progress-bar-interrupted::-webkit-progress-bar {\n",
       "        background: #F44336;\n",
       "    }\n",
       "</style>\n"
      ],
      "text/plain": [
       "<IPython.core.display.HTML object>"
      ]
     },
     "metadata": {},
     "output_type": "display_data"
    },
    {
     "data": {
      "text/html": [
       "\n",
       "    <div>\n",
       "      <progress value='40' class='' max='40' style='width:300px; height:20px; vertical-align: middle;'></progress>\n",
       "      100.00% [40/40 00:20<00:00]\n",
       "    </div>\n",
       "    "
      ],
      "text/plain": [
       "<IPython.core.display.HTML object>"
      ]
     },
     "metadata": {},
     "output_type": "display_data"
    },
    {
     "data": {
      "text/html": [
       "\n",
       "<style>\n",
       "    /* Turns off some styling */\n",
       "    progress {\n",
       "        /* gets rid of default border in Firefox and Opera. */\n",
       "        border: none;\n",
       "        /* Needs to be in here for Safari polyfill so background images work as expected. */\n",
       "        background-size: auto;\n",
       "    }\n",
       "    .progress-bar-interrupted, .progress-bar-interrupted::-webkit-progress-bar {\n",
       "        background: #F44336;\n",
       "    }\n",
       "</style>\n"
      ],
      "text/plain": [
       "<IPython.core.display.HTML object>"
      ]
     },
     "metadata": {},
     "output_type": "display_data"
    },
    {
     "data": {
      "text/html": [
       "\n",
       "    <div>\n",
       "      <progress value='32' class='' max='32' style='width:300px; height:20px; vertical-align: middle;'></progress>\n",
       "      100.00% [32/32 00:16<00:00]\n",
       "    </div>\n",
       "    "
      ],
      "text/plain": [
       "<IPython.core.display.HTML object>"
      ]
     },
     "metadata": {},
     "output_type": "display_data"
    }
   ],
   "source": [
    "if __name__=='__main__':\n",
    "    runTune()"
   ]
  },
  {
   "cell_type": "code",
   "execution_count": null,
   "id": "5cb4b105",
   "metadata": {},
   "outputs": [],
   "source": []
  },
  {
   "cell_type": "code",
   "execution_count": null,
   "id": "479ed787",
   "metadata": {},
   "outputs": [],
   "source": [
    "OOFOut[OOFOut['genre_id'].isin([17])][17].mean(),OOFOut[~OOFOut['genre_id'].isin([17])][17].mean()"
   ]
  },
  {
   "cell_type": "code",
   "execution_count": null,
   "id": "c25a08ef",
   "metadata": {},
   "outputs": [],
   "source": [
    "OOFOut[OOFOut['genre_id'].isin([18])][18].mean(),OOFOut[~OOFOut['genre_id'].isin([18])][18].mean()"
   ]
  },
  {
   "cell_type": "code",
   "execution_count": null,
   "id": "0c36aad2",
   "metadata": {},
   "outputs": [],
   "source": [
    "out = pd.DataFrame(np.zeros((5076,19)))\n",
    "for fld in range(5):\n",
    "    f = np.load(f'C:/Users/Kaggle/Pog_Music_Classification/outputs/{kernel_type}/test_fold_{fld}_probs.npy',allow_pickle=True)\n",
    "    flat_list = pd.DataFrame([item.numpy() for sublist in f for item in sublist])\n",
    "    out = out+flat_list\n",
    "    \n",
    "out/= 5"
   ]
  },
  {
   "cell_type": "code",
   "execution_count": null,
   "id": "b276582e",
   "metadata": {},
   "outputs": [],
   "source": [
    "# 022612 -> ID 1\n",
    "# 024013 -> ID 0"
   ]
  },
  {
   "cell_type": "code",
   "execution_count": null,
   "id": "a1c34e2e",
   "metadata": {},
   "outputs": [],
   "source": [
    "out.head()"
   ]
  },
  {
   "cell_type": "code",
   "execution_count": null,
   "id": "05436138",
   "metadata": {},
   "outputs": [],
   "source": [
    "prob_ens_preds = np.argmax(np.array(out),1).reshape(-1,1)\n",
    "df_sub = df_test_valid.copy()\n",
    "df_sub['genre_id'] = prob_ens_preds"
   ]
  },
  {
   "cell_type": "code",
   "execution_count": null,
   "id": "7d37c02b",
   "metadata": {},
   "outputs": [],
   "source": [
    "df_sub.head()"
   ]
  },
  {
   "cell_type": "code",
   "execution_count": null,
   "id": "21b7828a",
   "metadata": {},
   "outputs": [],
   "source": [
    "submission.head()"
   ]
  },
  {
   "cell_type": "code",
   "execution_count": null,
   "id": "0597dac9",
   "metadata": {},
   "outputs": [],
   "source": [
    "out = submission.copy().drop('genre_id',1)\n",
    "out = pd.merge(out,df_sub[['song_id','genre_id']],on='song_id',how='left')"
   ]
  },
  {
   "cell_type": "code",
   "execution_count": null,
   "id": "37bdf668",
   "metadata": {},
   "outputs": [],
   "source": [
    "out.head()"
   ]
  },
  {
   "cell_type": "code",
   "execution_count": null,
   "id": "5e1ac430",
   "metadata": {},
   "outputs": [],
   "source": [
    "out.loc[out['song_id']==22612,'genre_id'] = 1\n",
    "out.loc[out['song_id']==24013,'genre_id'] = 0"
   ]
  },
  {
   "cell_type": "code",
   "execution_count": null,
   "id": "9a9f1756",
   "metadata": {},
   "outputs": [],
   "source": [
    "out.head()"
   ]
  },
  {
   "cell_type": "code",
   "execution_count": null,
   "id": "bd83d031",
   "metadata": {},
   "outputs": [],
   "source": [
    "out['genre_id'] = out['genre_id'].astype(int)\n",
    "out.head()"
   ]
  },
  {
   "cell_type": "code",
   "execution_count": null,
   "id": "1d41fa50",
   "metadata": {},
   "outputs": [],
   "source": [
    "out.to_csv(f'C:/Users/Kaggle/Pog_Music_Classification/outputs/{kernel_type}/5Fold_meanprobs.csv',index=False)"
   ]
  },
  {
   "cell_type": "markdown",
   "id": "367c6e01",
   "metadata": {},
   "source": [
    "### Mode based sub"
   ]
  },
  {
   "cell_type": "code",
   "execution_count": null,
   "id": "9d470c4a",
   "metadata": {},
   "outputs": [],
   "source": [
    "out = submission.copy().drop('genre_id',1)\n",
    "for fld in range(5):\n",
    "    fname = pd.read_csv(f'C:/Users/Kaggle/Pog_Music_Classification/outputs/{kernel_type}/fold_{fld}.csv')\n",
    "    out = pd.merge(out,fname[['song_id','target']],on='song_id',how='left')\n",
    "    \n",
    "submission['genre_id']=out.drop('song_id',1).mode(1)[0]"
   ]
  },
  {
   "cell_type": "code",
   "execution_count": null,
   "id": "01a51537",
   "metadata": {},
   "outputs": [],
   "source": [
    "submission.loc[submission['song_id']==22612,'genre_id'] = 1\n",
    "submission.loc[submission['song_id']==24013,'genre_id'] = 0\n",
    "submission['genre_id'] = submission['genre_id'].astype(int)\n",
    "submission.to_csv(f'C:/Users/Kaggle/Pog_Music_Classification/outputs/{kernel_type}/5Fold_mode.csv',index=False)"
   ]
  },
  {
   "cell_type": "markdown",
   "id": "14319dab",
   "metadata": {},
   "source": [
    "### End ###"
   ]
  }
 ],
 "metadata": {
  "kernelspec": {
   "display_name": "Python 3 (ipykernel)",
   "language": "python",
   "name": "python3"
  },
  "language_info": {
   "codemirror_mode": {
    "name": "ipython",
    "version": 3
   },
   "file_extension": ".py",
   "mimetype": "text/x-python",
   "name": "python",
   "nbconvert_exporter": "python",
   "pygments_lexer": "ipython3",
   "version": "3.8.12"
  }
 },
 "nbformat": 4,
 "nbformat_minor": 5
}

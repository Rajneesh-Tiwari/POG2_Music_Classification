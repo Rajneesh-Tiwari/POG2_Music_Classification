{
 "cells": [
  {
   "cell_type": "code",
   "execution_count": null,
   "id": "898cd1d1",
   "metadata": {
    "_cell_guid": "b1076dfc-b9ad-4769-8c92-a6c4dae69d19",
    "_uuid": "8f2839f25d086af736a60e9eeb907d3b93b6e0e5",
    "execution": {
     "iopub.execute_input": "2022-03-13T22:07:08.725227Z",
     "iopub.status.busy": "2022-03-13T22:07:08.723535Z",
     "iopub.status.idle": "2022-03-13T22:07:12.476152Z",
     "shell.execute_reply": "2022-03-13T22:07:12.475433Z",
     "shell.execute_reply.started": "2022-03-13T21:30:10.356204Z"
    },
    "papermill": {
     "duration": 3.780887,
     "end_time": "2022-03-13T22:07:12.476357",
     "exception": false,
     "start_time": "2022-03-13T22:07:08.695470",
     "status": "completed"
    },
    "scrolled": true,
    "tags": []
   },
   "outputs": [],
   "source": [
    "from fastai.vision.all import *\n",
    "import torchaudio\n",
    "import librosa\n",
    "from nnAudio.features.cqt import CQT1992v2\n",
    "from scipy.signal import tukey\n"
   ]
  },
  {
   "cell_type": "code",
   "execution_count": null,
   "id": "8d6ac190",
   "metadata": {},
   "outputs": [],
   "source": [
    "class CFG:\n",
    "    apex=False\n",
    "    debug=False\n",
    "    print_freq=100\n",
    "    num_workers=4\n",
    "    model_name='tf_efficientnet_b7_ns'\n",
    "    scheduler='CosineAnnealingLR' # ['ReduceLROnPlateau', 'CosineAnnealingLR', 'CosineAnnealingWarmRestarts']\n",
    "    epochs=3\n",
    "    #factor=0.2 # ReduceLROnPlateau\n",
    "    #patience=4 # ReduceLROnPlateau\n",
    "    #eps=1e-6 # ReduceLROnPlateau\n",
    "    T_max=3 # CosineAnnealingLR\n",
    "    #T_0=3 # CosineAnnealingWarmRestarts\n",
    "    lr=1e-4\n",
    "    min_lr=1e-6\n",
    "    batch_size=48\n",
    "    weight_decay=1e-6\n",
    "    gradient_accumulation_steps=1\n",
    "    max_grad_norm=1000\n",
    "    qtransform_params={\"hop_length\": 1024, \"n_bins\": 64,'fmax':None}    \n",
    "    seed=42\n",
    "    target_size=1\n",
    "    target_col='target'\n",
    "    n_fold=5\n",
    "    trn_fold=[0] # [0, 1, 2, 3, 4]\n",
    "    train=True\n",
    "    grad_cam=False\n"
   ]
  },
  {
   "cell_type": "code",
   "execution_count": null,
   "id": "4555d024",
   "metadata": {
    "execution": {
     "iopub.execute_input": "2022-03-13T22:07:12.524391Z",
     "iopub.status.busy": "2022-03-13T22:07:12.523651Z",
     "iopub.status.idle": "2022-03-13T22:07:12.583307Z",
     "shell.execute_reply": "2022-03-13T22:07:12.582851Z",
     "shell.execute_reply.started": "2022-03-13T19:39:18.337501Z"
    },
    "papermill": {
     "duration": 0.085451,
     "end_time": "2022-03-13T22:07:12.583427",
     "exception": false,
     "start_time": "2022-03-13T22:07:12.497976",
     "status": "completed"
    },
    "tags": []
   },
   "outputs": [],
   "source": [
    "df_train = pd.read_csv(r'C:\\Users\\Kaggle\\Pog_Music_Classification/train.csv')\n",
    "df_test = pd.read_csv(r'C:\\Users\\Kaggle\\Pog_Music_Classification/test.csv')\n",
    "submission = pd.read_csv(r'C:\\Users\\Kaggle\\Pog_Music_Classification/sample_submission.csv')"
   ]
  },
  {
   "cell_type": "code",
   "execution_count": null,
   "id": "956619e5",
   "metadata": {
    "execution": {
     "iopub.execute_input": "2022-03-13T22:07:12.630375Z",
     "iopub.status.busy": "2022-03-13T22:07:12.629617Z",
     "iopub.status.idle": "2022-03-13T22:07:12.631565Z",
     "shell.execute_reply": "2022-03-13T22:07:12.631935Z",
     "shell.execute_reply.started": "2022-03-13T19:39:18.423524Z"
    },
    "papermill": {
     "duration": 0.02696,
     "end_time": "2022-03-13T22:07:12.632057",
     "exception": false,
     "start_time": "2022-03-13T22:07:12.605097",
     "status": "completed"
    },
    "tags": []
   },
   "outputs": [],
   "source": [
    "train_path = Path('C:/Users/Kaggle/Pog_Music_Classification/train/')\n",
    "test_path = Path('C:/Users/Kaggle/Pog_Music_Classification/test/')"
   ]
  },
  {
   "cell_type": "code",
   "execution_count": null,
   "id": "6925d653",
   "metadata": {
    "scrolled": false
   },
   "outputs": [],
   "source": [
    "print(df_train.shape,df_test.shape)"
   ]
  },
  {
   "cell_type": "code",
   "execution_count": null,
   "id": "3b15eb00",
   "metadata": {},
   "outputs": [],
   "source": [
    "df_train.head()"
   ]
  },
  {
   "cell_type": "code",
   "execution_count": null,
   "id": "ad290c42",
   "metadata": {},
   "outputs": [],
   "source": [
    "import glob\n",
    "valid_filenames = []\n",
    "for i in glob.glob(r'C:/Users/Kaggle/Pog_Music_Classification/resampled_16k/train/*.npy'):\n",
    "    fnames = (i.split('\\\\')[1])\n",
    "    valid_filenames.append(fnames.split('.')[0]+'.ogg')"
   ]
  },
  {
   "cell_type": "code",
   "execution_count": null,
   "id": "a828d715",
   "metadata": {},
   "outputs": [],
   "source": [
    "import glob\n",
    "valid_filenames_test = []\n",
    "for i in glob.glob(r'C:/Users/Kaggle/Pog_Music_Classification/resampled_16k/test/*.npy'):\n",
    "    fnames = (i.split('\\\\')[1])\n",
    "    valid_filenames_test.append(fnames.split('.')[0]+'.ogg')"
   ]
  },
  {
   "cell_type": "code",
   "execution_count": null,
   "id": "51241a65",
   "metadata": {},
   "outputs": [],
   "source": [
    "valid_filenames"
   ]
  },
  {
   "cell_type": "code",
   "execution_count": null,
   "id": "37261605",
   "metadata": {},
   "outputs": [],
   "source": [
    "df_train = df_train[df_train['filename'].isin(valid_filenames)].reset_index(drop=True)\n",
    "df_test_valid = df_test[df_test['filename'].isin(valid_filenames_test)].reset_index(drop=True)"
   ]
  },
  {
   "cell_type": "code",
   "execution_count": null,
   "id": "0a87d663",
   "metadata": {},
   "outputs": [],
   "source": [
    "### Some files giving exception in cqt\n",
    "df_train = df_train[df_train['song_id']!=17400].reset_index(drop=True)"
   ]
  },
  {
   "cell_type": "code",
   "execution_count": null,
   "id": "bb7253f8",
   "metadata": {
    "scrolled": true
   },
   "outputs": [],
   "source": [
    "print(df_train.shape,df_test.shape)"
   ]
  },
  {
   "cell_type": "markdown",
   "id": "2898f0c4",
   "metadata": {},
   "source": [
    "### Upsample minority classes"
   ]
  },
  {
   "cell_type": "code",
   "execution_count": null,
   "id": "a7505a51",
   "metadata": {
    "scrolled": true
   },
   "outputs": [],
   "source": [
    "df_train['genre_id'].value_counts()"
   ]
  },
  {
   "cell_type": "code",
   "execution_count": null,
   "id": "209f87c0",
   "metadata": {},
   "outputs": [],
   "source": [
    "ExtremeMinority = [18]\n",
    "SomeMinority = [17]\n",
    "LowMinority = [14,15,16]\n",
    "\n",
    "# df_train = pd.concat([df_train,df_train[df_train['genre_id'].isin(ExtremeMinority)].sample(n=37,replace=True,random_state=42)],0).reset_index(drop=True)\n",
    "# df_train = pd.concat([df_train,df_train[df_train['genre_id'].isin(SomeMinority)].sample(n=42,replace=True,random_state=42)],0).reset_index(drop=True)\n",
    "# df_train = pd.concat([df_train,df_train[df_train['genre_id'].isin(LowMinority)].sample(n=50,replace=True,random_state=42)],0).reset_index(drop=True)"
   ]
  },
  {
   "cell_type": "code",
   "execution_count": null,
   "id": "e5f03f27",
   "metadata": {},
   "outputs": [],
   "source": [
    "df_train.tail()#,df_train.shape"
   ]
  },
  {
   "cell_type": "code",
   "execution_count": null,
   "id": "59b52f18",
   "metadata": {},
   "outputs": [],
   "source": [
    "df_train['genre_id'].value_counts()"
   ]
  },
  {
   "cell_type": "markdown",
   "id": "486306be",
   "metadata": {},
   "source": [
    "### Create Folds"
   ]
  },
  {
   "cell_type": "code",
   "execution_count": null,
   "id": "efce77e9",
   "metadata": {},
   "outputs": [],
   "source": [
    "df_train['fold'] = 0"
   ]
  },
  {
   "cell_type": "code",
   "execution_count": null,
   "id": "9334d46d",
   "metadata": {},
   "outputs": [],
   "source": [
    "from sklearn.model_selection import StratifiedKFold\n",
    "N_folds = 5\n",
    "kf = StratifiedKFold(5,random_state=42,shuffle=True)\n",
    "fld = 0\n",
    "for i,(_,val_id) in enumerate(kf.split(df_train['filename'],df_train['genre_id'])):\n",
    "    df_train.loc[val_id,'fold'] = int(fld)\n",
    "    fld += 1"
   ]
  },
  {
   "cell_type": "code",
   "execution_count": null,
   "id": "70943e7c",
   "metadata": {},
   "outputs": [],
   "source": [
    "df_train.head()"
   ]
  },
  {
   "cell_type": "code",
   "execution_count": null,
   "id": "f6502855",
   "metadata": {},
   "outputs": [],
   "source": [
    "df_test.head()"
   ]
  },
  {
   "cell_type": "markdown",
   "id": "5ce078a4",
   "metadata": {},
   "source": [
    "#### Channel wise max: 2.7517, 2.7950"
   ]
  },
  {
   "cell_type": "markdown",
   "id": "b13a3ce9",
   "metadata": {},
   "source": [
    "#### Dataset"
   ]
  },
  {
   "cell_type": "code",
   "execution_count": null,
   "id": "608ba0c9",
   "metadata": {},
   "outputs": [],
   "source": [
    "import albumentations as A\n",
    "from albumentations.pytorch import ToTensorV2\n",
    "from torchvision.transforms import Compose\n",
    "import torchvision\n",
    "\n",
    "tfms = Compose(\n",
    "    [torchvision.transforms.CenterCrop((128,128))]\n",
    "#     [torchvision.transforms.Resize((64,448))\n",
    "     \n",
    "#     ]\n",
    ")"
   ]
  },
  {
   "cell_type": "code",
   "execution_count": null,
   "id": "c0642af7",
   "metadata": {},
   "outputs": [],
   "source": [
    "import torch_audiomentations as tA\n",
    "\n",
    "def get_transforms(*, data):\n",
    "    \n",
    "    if data == 'train':\n",
    "        return tA.Compose(\n",
    "                transforms=[\n",
    "                     tA.ShuffleChannels(p=0.05,mode=\"per_example\",p_mode=\"per_example\", sample_rate= 16000),\n",
    "#                      tA.AddColoredNoise(p=0.1,mode=\"per_channel\",p_mode=\"per_channel\", sample_rate=16000,max_snr_in_db = 15),\n",
    "                     tA.Shift(p=0.05,mode=\"per_example\",p_mode=\"per_example\", sample_rate=16000,\n",
    "                              max_shift=0.025, min_shift=-0.025),\n",
    "                ])\n",
    "\n",
    "    elif data == 'valid':\n",
    "        return tA.Compose([\n",
    "        ])"
   ]
  },
  {
   "cell_type": "code",
   "execution_count": null,
   "id": "a477ff21",
   "metadata": {},
   "outputs": [],
   "source": [
    "class POGFiles(torch.utils.data.Dataset):\n",
    "    \n",
    "    def __init__(self, df, \n",
    "                 train = True,\n",
    "                 augmentations = None,\n",
    "                 normalize=True,\n",
    "                 ch0Max=2.7517,\n",
    "                 ch1Max=2.7950,\n",
    "                 HOP_LEN = 2048,\n",
    "                 N_FFT=512,\n",
    "                 n_mels=64,\n",
    "                 transform=tfms,\n",
    "                 audiotfms=None,\n",
    "                 applyTukey=False,\n",
    "                 quantizeData=True,\n",
    "                 MakeThreeChannel= False\n",
    "                ):\n",
    "        \n",
    "        \n",
    "        self.df = df\n",
    "        self.train = train\n",
    "        self.ch0Max = ch0Max\n",
    "        self.ch1Max = ch1Max        \n",
    "        self.N_FFT = N_FFT\n",
    "        self.HOP_LEN = HOP_LEN\n",
    "        self.transform = transform\n",
    "        self.n_mels= n_mels\n",
    "        self.audiotfms = audiotfms\n",
    "        self.normalize = normalize\n",
    "        self.applyTukey = applyTukey\n",
    "        self.quantizeData = quantizeData\n",
    "        self.MakeThreeChannel = MakeThreeChannel\n",
    "        \n",
    "    def __len__(self):\n",
    "        return len(self.df)\n",
    "    \n",
    "    def load_file(self, filename):\n",
    "        if self.train:\n",
    "            audio = np.load(f'C:/Users/Kaggle/Pog_Music_Classification/resampled_16k/train/{filename}')\n",
    "        else:\n",
    "            audio = np.load(f'C:/Users/Kaggle/Pog_Music_Classification/resampled_16k/test/{filename}')\n",
    "        return audio\n",
    "    \n",
    "    def apply_preprocess(self, waves):\n",
    "        samples = np.hstack(waves)\n",
    "        samples = waves / np.max(waves)\n",
    "        return waves\n",
    "        \n",
    "    def quantize_data(self, data, classes):\n",
    "        mu_x = self.mu_law_encoding(data, classes)\n",
    "        return mu_x\n",
    "\n",
    "    def mu_law_encoding(self,data, mu):\n",
    "        mu_x = np.sign(data) * np.log(1 + mu * np.abs(data)) / np.log(mu + 1)\n",
    "        return mu_x\n",
    "\n",
    "    def resample(self,audio,sr):\n",
    "        \n",
    "        audio = torchaudio.transforms.Resample(orig_freq= sr, new_freq=  16000, \n",
    "                                    resampling_method = 'sinc_interpolation', \n",
    "                                    lowpass_filter_width = 6, \n",
    "                                    rolloff = 0.99)(audio)\n",
    "        \n",
    "        \n",
    "    \n",
    "        return audio\n",
    "\n",
    "    def makeCQT(self,audio,sr):\n",
    "        audio = CQT1992v2(**CFG.qtransform_params,sr=sr,verbose=False)(audio)\n",
    "        return audio\n",
    "        \n",
    "        \n",
    "    def create_spectrogram(self,audio):\n",
    "                \n",
    "        specgram = torchaudio.transforms.MelSpectrogram(sample_rate=16000, \n",
    "                                                        n_fft=self.N_FFT, \n",
    "                                                        win_length=self.N_FFT, \n",
    "                                                        hop_length=self.HOP_LEN,\n",
    "                                                        center=True,\n",
    "                                                        pad_mode=\"reflect\",\n",
    "                                                        power=2.0,\n",
    "                                                        norm='slaney',\n",
    "                                                        onesided=True,\n",
    "                                                        n_mels=self.n_mels,\n",
    "                                                        mel_scale=\"htk\"\n",
    "                                                       )(audio)\n",
    "        \n",
    "        specgram = torchaudio.transforms.AmplitudeToDB()(specgram)\n",
    "#         specgram = specgram - specgram.min()\n",
    "#         specgram = specgram/specgram.max()*255\n",
    "        return specgram\n",
    "\n",
    "    def __getitem__(self, index):\n",
    "        row  = self.df.iloc[index]\n",
    "\n",
    "        samples = self.load_file(row.filename.split('.')[0]+'.npy')\n",
    "        \n",
    "        if samples.shape[0] != 2:\n",
    "            samples = np.concatenate((samples,samples),0)\n",
    "            assert samples.shape[0] == 2      \n",
    "    \n",
    "        samples = np.stack(samples, axis=0)\n",
    "        \n",
    "        if self.applyTukey:\n",
    "            samples = samples*scipy.signal.tukey(samples.shape[-1],0.2)\n",
    "        \n",
    "        if self.MakeThreeChannel:\n",
    "            mean = samples.mean(0).reshape(1,-1)\n",
    "            samples = np.vstack((samples,mean))    \n",
    "\n",
    "        samples = torch.from_numpy(samples).float().view(2,-1)\n",
    "        \n",
    "\n",
    "        if self.audiotfms is not None:\n",
    "             samples = self.audiotfms(samples.unsqueeze(0)).squeeze(0)\n",
    "\n",
    "#         samples = self.makeCQT(samples,sr=16000)\n",
    "        \n",
    "        samples = self.create_spectrogram(samples)\n",
    "    \n",
    "        if self.transform is not None:\n",
    "            samples = self.transform(samples)\n",
    "\n",
    "        if self.normalize:\n",
    "            for i in range(samples.shape[0]):\n",
    "                samples[i,:,:] = 255*(samples[i,:,:]-samples[i,:,:].min())/(samples[i,:,:].max()-samples[i,:,:].min())\n",
    "            \n",
    "        if self.quantizeData:\n",
    "            samples = self.quantize_data(samples,19)\n",
    "            \n",
    "        if self.train:\n",
    "            label = torch.tensor(row.genre_id,dtype=torch.long)\n",
    "            return samples, label\n",
    "        else:\n",
    "\n",
    "            return samples"
   ]
  },
  {
   "cell_type": "code",
   "execution_count": null,
   "id": "26204a14",
   "metadata": {},
   "outputs": [],
   "source": [
    "class POGFiles_v0(torch.utils.data.Dataset):\n",
    "    \n",
    "    def __init__(self, df, \n",
    "                 train = True,\n",
    "                 ch0Max=2.7517,\n",
    "                 ch1Max=2.7950,\n",
    "                 HOP_LEN = 2048,\n",
    "                 N_FFT=512,\n",
    "                 n_mels=128,\n",
    "                 transform=tfms):\n",
    "\n",
    "        self.df = df\n",
    "        self.train = train\n",
    "        self.ch0Max = ch0Max\n",
    "        self.ch1Max = ch1Max        \n",
    "        self.N_FFT = N_FFT\n",
    "        self.HOP_LEN = HOP_LEN\n",
    "        self.transform = transform\n",
    "        self.n_mels= n_mels\n",
    "        \n",
    "    def __len__(self):\n",
    "        return len(self.df)\n",
    "    \n",
    "    def load_file(self, filename):\n",
    "        if self.train:\n",
    "            audio,sr = torchaudio.load(f'C:/Users/Kaggle/Pog_Music_Classification/train/{filename}')\n",
    "        else:\n",
    "            audio,sr = torchaudio.load(f'C:/Users/Kaggle/Pog_Music_Classification/test/{filename}')\n",
    "        return audio,sr\n",
    "    \n",
    "    def create_spectrogram(self,audio,sr):\n",
    "        specgram = torchaudio.transforms.MelSpectrogram(sample_rate=sr, \n",
    "                                                        n_fft=self.N_FFT, \n",
    "                                                        win_length=self.N_FFT, \n",
    "                                                        hop_length=self.HOP_LEN,\n",
    "                                                        center=True,\n",
    "                                                        pad_mode=\"reflect\",\n",
    "                                                        power=2.0,\n",
    "                                                        norm='slaney',\n",
    "                                                        onesided=True,\n",
    "                                                        n_mels=self.n_mels,\n",
    "                                                        mel_scale=\"htk\"\n",
    "                                                       )(audio)\n",
    "        \n",
    "        specgram = torchaudio.transforms.AmplitudeToDB()(specgram)\n",
    "        return specgram\n",
    "\n",
    "        \n",
    "    def __getitem__(self, index):\n",
    "        row  = self.df.iloc[index]\n",
    "\n",
    "        samples,sr = self.load_file(row.filename)\n",
    "        if samples.shape[0] != 2:\n",
    "            samples = np.concatenate((samples,samples),0)\n",
    "            assert samples.shape[0] == 2      \n",
    "        \n",
    "        samples = np.stack(samples, axis=0)\n",
    "        samples = torch.from_numpy(samples).float().view(2,-1)\n",
    "\n",
    "        spec = self.create_spectrogram(samples,sr)\n",
    "        \n",
    "        if self.transform is not None:\n",
    "            spec = self.transform(spec)\n",
    "        \n",
    "        if self.train:\n",
    "            label = torch.tensor(row.genre_id,dtype=torch.long)\n",
    "            return spec, label\n",
    "        else:\n",
    "            return spec"
   ]
  },
  {
   "cell_type": "code",
   "execution_count": null,
   "id": "85efc5fb",
   "metadata": {
    "scrolled": false
   },
   "outputs": [],
   "source": [
    "a,b = next(iter(POGFiles_v0(df_train,transform=tfms)))\n",
    "a.shape"
   ]
  },
  {
   "cell_type": "code",
   "execution_count": null,
   "id": "de37c06e",
   "metadata": {},
   "outputs": [],
   "source": [
    "def gem_1d_res(x, p=3, eps=1e-6):\n",
    "    return F.avg_pool1d(x.clamp(min=eps).pow(p), 2,2).pow(1./p)\n",
    "\n",
    "def gem_1d(x, p=3, eps=1e-6):\n",
    "    return F.avg_pool1d(x.clamp(min=eps).pow(p), (x.size(-1),)).pow(1./p )"
   ]
  },
  {
   "cell_type": "code",
   "execution_count": null,
   "id": "a9b2221b",
   "metadata": {},
   "outputs": [],
   "source": [
    "class ResBlock(nn.Module):\n",
    "\n",
    "    def __init__(self, in_channels, out_channels, kernel_size, stride, padding, downsample=None):\n",
    "        super(ResBlock, self).__init__()\n",
    "        self.bn1 = nn.BatchNorm1d(num_features=in_channels)\n",
    "        self.relu = nn.GELU()\n",
    "        self.dropout = nn.Dropout(p=0.1, inplace=False)\n",
    "        self.conv1 = nn.Conv1d(in_channels=in_channels, out_channels=out_channels, kernel_size=kernel_size,\n",
    "                               stride=stride, padding=padding, bias=False)\n",
    "        self.bn2 = nn.BatchNorm1d(num_features=out_channels)\n",
    "        self.conv2 = nn.Conv1d(in_channels=out_channels, out_channels=out_channels, kernel_size=kernel_size,\n",
    "                               stride=stride, padding=padding, bias=False)\n",
    "        self.downsample = downsample\n",
    "\n",
    "\n",
    "\n",
    "\n",
    "    def forward(self, x):\n",
    "        identity = x\n",
    "\n",
    "        out = self.bn1(x)\n",
    "        out = self.relu(out)\n",
    "        out = self.dropout(out)\n",
    "        out = self.conv1(out)\n",
    "        out = self.bn2(out)\n",
    "        out = self.relu(out)\n",
    "        out = self.dropout(out)\n",
    "        out = self.conv2(out)\n",
    "\n",
    "        if self.downsample is not None:\n",
    "            out = gem_1d_res(out)\n",
    "            identity = self.downsample(x)\n",
    "\n",
    "        out += identity\n",
    "\n",
    "        return out\n",
    "\n",
    "\n",
    "class ECGNet(nn.Module):\n",
    "\n",
    "    def __init__(self, struct=[14, 16, 18, 20], in_channels=2, fixed_kernel_size=17, num_classes=19):\n",
    "        super(ECGNet, self).__init__()\n",
    "        self.struct = struct\n",
    "        self.planes = 16\n",
    "        self.parallel_conv = nn.ModuleList()\n",
    "        for i, kernel_size in enumerate(struct):\n",
    "            sep_conv = nn.Conv1d(in_channels=in_channels, out_channels=self.planes, kernel_size=kernel_size,\n",
    "                               stride=1, padding=0, bias=False)\n",
    "            self.parallel_conv.append(sep_conv)\n",
    "\n",
    "\n",
    "        self.bn1 = nn.BatchNorm1d(num_features=self.planes)\n",
    "        self.relu = nn.ReLU(inplace=False)\n",
    "        self.conv1 = nn.Conv1d(in_channels=self.planes, out_channels=self.planes, kernel_size=fixed_kernel_size,\n",
    "                               stride=2, padding=2, bias=False)\n",
    "        self.block = self._make_layer(kernel_size=fixed_kernel_size, stride=1, padding=8)\n",
    "        self.bn2 = nn.BatchNorm1d(num_features=self.planes)\n",
    "        self.rnn = nn.LSTM(input_size=2, hidden_size=40, num_layers=1, bidirectional=True)\n",
    "        self.fc = nn.Linear(in_features=128, out_features=num_classes)        \n",
    "\n",
    "\n",
    "\n",
    "    def _make_layer(self, kernel_size, stride, blocks=11, padding=0):\n",
    "        layers = []\n",
    "        downsample = None\n",
    "        base_width = self.planes\n",
    "\n",
    "        for i in range(blocks):\n",
    "            if (i + 1) % 4 == 0:\n",
    "                downsample = nn.Sequential(\n",
    "                    nn.Conv1d(in_channels=self.planes, out_channels=self.planes + base_width, kernel_size=1,\n",
    "                               stride=1, padding=0, bias=False),\n",
    "                    nn.MaxPool1d(kernel_size=2, stride=2, padding=0)\n",
    "                )\n",
    "                layers.append(ResBlock(in_channels=self.planes, out_channels=self.planes + base_width, kernel_size=kernel_size,\n",
    "                                       stride=stride, padding=padding, downsample=downsample))\n",
    "                self.planes += base_width\n",
    "            elif (i + 1) % 2 == 0:\n",
    "                downsample = nn.Sequential(\n",
    "                    nn.MaxPool1d(kernel_size=2, stride=2, padding=0)\n",
    "                )\n",
    "                layers.append(ResBlock(in_channels=self.planes, out_channels=self.planes, kernel_size=kernel_size,\n",
    "                                       stride=stride, padding=padding, downsample=downsample))\n",
    "            else:\n",
    "                downsample = None\n",
    "                layers.append(ResBlock(in_channels=self.planes, out_channels=self.planes, kernel_size=kernel_size,\n",
    "                                       stride=stride, padding=padding, downsample=downsample))\n",
    "\n",
    "        return nn.Sequential(*layers)\n",
    "\n",
    "\n",
    "\n",
    "    def forward(self, x):\n",
    "        out_sep = []\n",
    "\n",
    "        for i in range(len(self.struct)):\n",
    "            sep = self.parallel_conv[i](x)\n",
    "            out_sep.append(sep)\n",
    "\n",
    "        out = torch.cat(out_sep, dim=2)\n",
    "        \n",
    "        out = self.bn1(out)\n",
    "        out = self.relu(out)\n",
    "        out = self.conv1(out)  # out => [b, 16, 9960]\n",
    "\n",
    "        out1 = self.block(out)\n",
    "        out2 = self.block(out)\n",
    "        out3 = torch.cat((out1,out2),-1)\n",
    "        out = self.bn2(out3)\n",
    "        out = self.relu(out)\n",
    "        out = gem_1d(out)\n",
    "        out = out.reshape(out.shape[0], -1)  # out => [b, 640]\n",
    "        print(out.shape,x.shape)\n",
    "\n",
    "\n",
    "        rnn_out, (rnn_h, rnn_c) = self.rnn(x.permute(2, 0, 1))\n",
    "        new_rnn_h = rnn_h[-1, :, :]  # rnn_h => [b, 40]\n",
    "        new_rnn_c = rnn_c[-1, :, :]\n",
    "        new_out = torch.cat([out, new_rnn_h,new_rnn_c], dim=1)  # out => [b, 680]\n",
    "        result = self.fc(new_out)  # out => [b, 20]\n",
    "        return result\n"
   ]
  },
  {
   "cell_type": "markdown",
   "id": "dec591e6",
   "metadata": {},
   "source": [
    "#### FastAI model"
   ]
  },
  {
   "cell_type": "code",
   "execution_count": null,
   "id": "56e74524",
   "metadata": {
    "scrolled": true
   },
   "outputs": [],
   "source": [
    "df_train['genre_id'].nunique()"
   ]
  },
  {
   "cell_type": "code",
   "execution_count": null,
   "id": "71f29774",
   "metadata": {},
   "outputs": [],
   "source": [
    "df_train.head()"
   ]
  },
  {
   "cell_type": "code",
   "execution_count": null,
   "id": "afe13664",
   "metadata": {},
   "outputs": [],
   "source": [
    "import timm\n",
    "timm.list_models()"
   ]
  },
  {
   "cell_type": "code",
   "execution_count": null,
   "id": "83bc8aea",
   "metadata": {},
   "outputs": [],
   "source": [
    "timm.create_model('efficientnet_b0')"
   ]
  },
  {
   "cell_type": "code",
   "execution_count": null,
   "id": "4aa0c3a2",
   "metadata": {
    "scrolled": true
   },
   "outputs": [],
   "source": [
    "df_train['genre_id'].value_counts()"
   ]
  },
  {
   "cell_type": "code",
   "execution_count": null,
   "id": "39074c54",
   "metadata": {},
   "outputs": [],
   "source": [
    "df_train.head()"
   ]
  },
  {
   "cell_type": "code",
   "execution_count": null,
   "id": "2278aaeb",
   "metadata": {},
   "outputs": [],
   "source": [
    "# timm.create_model('tf_efficientnet_b2_ns')"
   ]
  },
  {
   "cell_type": "code",
   "execution_count": null,
   "id": "1e0c6bd2",
   "metadata": {},
   "outputs": [],
   "source": [
    "def run():\n",
    "    oof = df_train.copy()\n",
    "    oversampleTrain = True\n",
    "    \n",
    "    for fold_num in [0,1,2,3,4]:\n",
    "        print('*****************************************')\n",
    "        print(f'Training Fold {fold_num}')\n",
    "        print('*****************************************')\n",
    "\n",
    "    #with IPyExperimentsPytorch() as exp:\n",
    "        kernel_type = 'efficientnet_b3_spec'\n",
    "        OUTPUT_DIR = f'C:/Users/Kaggle/Pog_Music_Classification/outputs/{kernel_type}/'\n",
    "        if not os.path.exists(OUTPUT_DIR):\n",
    "            os.makedirs(OUTPUT_DIR)\n",
    "\n",
    "            \n",
    "        crit = CrossEntropyLossFlat() #FocalLoss()#LabelSmoothingCrossEntropy() ##CrossEntropyLossFlat() ##\n",
    "        batch_size = 64\n",
    "        n_epochs = 10\n",
    "\n",
    "        training_fold = df_train.query(f'fold!={fold_num}').reset_index(drop=True, inplace=False)\n",
    "        \n",
    "        if oversampleTrain:\n",
    "            print('--------- Oversampling training dataset -----------')\n",
    "            training_fold = pd.concat([training_fold,training_fold[training_fold['genre_id'].isin(ExtremeMinority)].sample(n=150,replace=True,random_state=42)],0).reset_index(drop=True)\n",
    "            training_fold = pd.concat([training_fold,training_fold[training_fold['genre_id'].isin(SomeMinority)].sample(n=150,replace=True,random_state=42)],0).reset_index(drop=True)\n",
    "            training_fold = pd.concat([training_fold,training_fold[training_fold['genre_id'].isin(LowMinority)].sample(n=100,replace=True,random_state=42)],0).reset_index(drop=True)\n",
    "                \n",
    "        train_ds = POGFiles(training_fold,transform=tfms,quantizeData=False,normalize=False,\n",
    "                            audiotfms=get_transforms(data='valid'))\n",
    "\n",
    "        validation_fold = df_train.query(f'fold=={fold_num}').reset_index(drop=True, inplace=False)\n",
    "        valid_ds = POGFiles(validation_fold,transform=tfms,quantizeData=False,normalize=False,\n",
    "                            audiotfms=get_transforms(data='valid'))\n",
    "\n",
    "        print(f'- Training samples: {len(train_ds)}\\n- Validation Samples : {len(valid_ds)}')\n",
    "\n",
    "        bs = batch_size\n",
    "        train_dl = torch.utils.data.DataLoader(train_ds, batch_size=bs, num_workers=0,pin_memory=False)\n",
    "        valid_dl = torch.utils.data.DataLoader(valid_ds, batch_size=bs*2, num_workers=0,shuffle=False,pin_memory=False)\n",
    "\n",
    "        dls = DataLoaders(train_dl, valid_dl)\n",
    "        model = timm.create_model('efficientnet_b3', pretrained=False, in_chans=2)#get_model(resnet34)\n",
    "        model.conv_stem.stride = (1,1)\n",
    "        model.classifier = nn.Linear(1536,19)\n",
    "#         model = EfficientNet_reduced_stride(backbone='efficientnet_b0')\n",
    "#         model.fc = nn.Linear(2048,19)\n",
    "#         model = ECGNet()\n",
    "        f1_score = F1Score(average=\"micro\")\n",
    "        \n",
    "        ### MixUp() in callbacks\n",
    "#         opt_func=ranger,\n",
    "        learn = Learner(dls, model,loss_func=crit,metrics=[f1_score],cbs=[SaveModelCallback('f1_score', every_epoch=True),\n",
    "                                                           CSVLogger(f'C:/Users/Kaggle/Pog_Music_Classification/outputs/{kernel_type}/{fold_num}logs.csv')])#.to_fp16()\n",
    "\n",
    "        learn.fit_one_cycle(n_epochs, 1e-3, wd=1e-03)\n",
    "#         learn.fit_flat_cos(n_epochs, 1e-3, wd=1e-03)\n",
    "\n",
    "        learn = learn.to_fp16()\n",
    "        learn.save(f'C:/Users/Kaggle/Pog_Music_Classification/outputs/{kernel_type}/fold_{fold_num}')\n",
    "\n",
    "        learn = learn.load(f'C:/Users/Kaggle/Pog_Music_Classification/outputs/{kernel_type}/fold_{fold_num}')\n",
    "        learn.model.eval()\n",
    "        test_df = df_test\n",
    "        test_ds = POGFiles(df_test_valid,transform=tfms,quantizeData=False,normalize=False,\n",
    "                           train=False,audiotfms=get_transforms(data='valid'))\n",
    "\n",
    "\n",
    "        test_ds.input_path = Path(test_path)\n",
    "\n",
    "        bs = batch_size\n",
    "        test_dl = torch.utils.data.DataLoader(test_ds, batch_size=bs*2, num_workers=0, shuffle=False)\n",
    "        \n",
    "        preds = []\n",
    "        probs = []\n",
    "        for xb  in progress_bar(test_dl):\n",
    "            with torch.no_grad():output = learn.model(xb.cuda())\n",
    "            probs.append(torch.softmax(output.float(),1).squeeze().cpu())\n",
    "            preds.append(torch.argmax(output.float(),1).squeeze().cpu())\n",
    "        \n",
    "        oof_ = []\n",
    "        for xb,_  in progress_bar(valid_dl):\n",
    "            with torch.no_grad():output = learn.model(xb.cuda())\n",
    "            oof_.append(torch.softmax(output.float(),1).squeeze().cpu())\n",
    "        \n",
    "        oof_ = [t.detach().numpy() for t in oof_]\n",
    "        np.save(f'C:/Users/Kaggle/Pog_Music_Classification/outputs/{kernel_type}/test_fold_{fold_num}_probs.npy',np.array(probs))\n",
    "        np.save(f'C:/Users/Kaggle/Pog_Music_Classification/outputs/{kernel_type}/oof_fold_{fold_num}_probs.npy',oof_)\n",
    "        np.save(f'C:/Users/Kaggle/Pog_Music_Classification/outputs/{kernel_type}/oof_fold_{fold_num}_fnames.npy',np.array(validation_fold.song_id))        \n",
    "\n",
    "        preds = torch.cat(preds)\n",
    "        sample_df = df_test_valid.copy()\n",
    "        sample_df['target'] = preds\n",
    "        sample_df.to_csv(f'C:/Users/Kaggle/Pog_Music_Classification/outputs/{kernel_type}/fold_{fold_num}.csv', index=False)"
   ]
  },
  {
   "cell_type": "code",
   "execution_count": null,
   "id": "eec5ad40",
   "metadata": {
    "scrolled": true
   },
   "outputs": [],
   "source": [
    "df_test_valid.head()"
   ]
  },
  {
   "cell_type": "code",
   "execution_count": null,
   "id": "392f002f",
   "metadata": {
    "scrolled": true
   },
   "outputs": [],
   "source": [
    "if __name__=='__main__':\n",
    "    run()"
   ]
  },
  {
   "cell_type": "code",
   "execution_count": null,
   "id": "a88126ea",
   "metadata": {},
   "outputs": [],
   "source": [
    "submission"
   ]
  },
  {
   "cell_type": "markdown",
   "id": "1bd46d87",
   "metadata": {},
   "source": [
    "### OOF"
   ]
  },
  {
   "cell_type": "code",
   "execution_count": null,
   "id": "715259de",
   "metadata": {},
   "outputs": [],
   "source": [
    "OOFOut = pd.DataFrame()\n",
    "for fld in range(5):\n",
    "    fold_num = fld\n",
    "    kernel_type= 'efficientnet_b0_spec'\n",
    "    OOF = np.load(f'C:/Users/Kaggle/Pog_Music_Classification/outputs/{kernel_type}/oof_fold_{fold_num}_probs.npy',allow_pickle=True)\n",
    "    ID = np.load(f'C:/Users/Kaggle/Pog_Music_Classification/outputs/{kernel_type}/oof_fold_{fold_num}_fnames.npy',allow_pickle=True)\n",
    "    OOF = ([item for sublist in OOF for item in sublist])\n",
    "    OOF = pd.DataFrame(OOF)\n",
    "    OOF['ID'] = ID\n",
    "    OOFOut = pd.concat([OOF,OOFOut],0).reset_index(drop=True)\n"
   ]
  },
  {
   "cell_type": "code",
   "execution_count": null,
   "id": "407a2625",
   "metadata": {},
   "outputs": [],
   "source": [
    "OOFOut.tail()"
   ]
  },
  {
   "cell_type": "code",
   "execution_count": null,
   "id": "103ac9ff",
   "metadata": {},
   "outputs": [],
   "source": [
    "OOFOut = pd.merge(OOFOut,df_train[['song_id','genre_id']],left_on='ID',right_on='song_id',how='left')"
   ]
  },
  {
   "cell_type": "code",
   "execution_count": null,
   "id": "8ab06257",
   "metadata": {},
   "outputs": [],
   "source": [
    "OOF_preds=OOFOut.iloc[:,:19].idxmax(1)\n"
   ]
  },
  {
   "cell_type": "code",
   "execution_count": null,
   "id": "a93c5782",
   "metadata": {},
   "outputs": [],
   "source": [
    "from sklearn.metrics import f1_score\n",
    "\n",
    "f1_score(OOFOut['genre_id'],OOF_preds,average=\"micro\")"
   ]
  },
  {
   "cell_type": "code",
   "execution_count": null,
   "id": "479ed787",
   "metadata": {},
   "outputs": [],
   "source": [
    "OOFOut[OOFOut['genre_id'].isin([17])][17].mean(),OOFOut[~OOFOut['genre_id'].isin([17])][17].mean()"
   ]
  },
  {
   "cell_type": "code",
   "execution_count": null,
   "id": "c25a08ef",
   "metadata": {},
   "outputs": [],
   "source": [
    "OOFOut[OOFOut['genre_id'].isin([18])][18].mean(),OOFOut[~OOFOut['genre_id'].isin([18])][18].mean()"
   ]
  },
  {
   "cell_type": "code",
   "execution_count": null,
   "id": "0c36aad2",
   "metadata": {},
   "outputs": [],
   "source": [
    "out = pd.DataFrame(np.zeros((5076,19)))\n",
    "for fld in range(5):\n",
    "    f = np.load(f'C:/Users/Kaggle/Pog_Music_Classification/outputs/{kernel_type}/test_fold_{fld}_probs.npy',allow_pickle=True)\n",
    "    flat_list = pd.DataFrame([item.numpy() for sublist in f for item in sublist])\n",
    "    out = out+flat_list\n",
    "    \n",
    "out/= 5"
   ]
  },
  {
   "cell_type": "code",
   "execution_count": null,
   "id": "b276582e",
   "metadata": {},
   "outputs": [],
   "source": [
    "# 022612 -> ID 1\n",
    "# 024013 -> ID 0"
   ]
  },
  {
   "cell_type": "code",
   "execution_count": null,
   "id": "a1c34e2e",
   "metadata": {},
   "outputs": [],
   "source": [
    "out.head()"
   ]
  },
  {
   "cell_type": "code",
   "execution_count": null,
   "id": "05436138",
   "metadata": {},
   "outputs": [],
   "source": [
    "prob_ens_preds = np.argmax(np.array(out),1).reshape(-1,1)\n",
    "df_sub = df_test_valid.copy()\n",
    "df_sub['genre_id'] = prob_ens_preds"
   ]
  },
  {
   "cell_type": "code",
   "execution_count": null,
   "id": "7d37c02b",
   "metadata": {},
   "outputs": [],
   "source": [
    "df_sub.head()"
   ]
  },
  {
   "cell_type": "code",
   "execution_count": null,
   "id": "21b7828a",
   "metadata": {},
   "outputs": [],
   "source": [
    "submission.head()"
   ]
  },
  {
   "cell_type": "code",
   "execution_count": null,
   "id": "0597dac9",
   "metadata": {},
   "outputs": [],
   "source": [
    "out = submission.copy().drop('genre_id',1)\n",
    "out = pd.merge(out,df_sub[['song_id','genre_id']],on='song_id',how='left')"
   ]
  },
  {
   "cell_type": "code",
   "execution_count": null,
   "id": "37bdf668",
   "metadata": {},
   "outputs": [],
   "source": [
    "out.head()"
   ]
  },
  {
   "cell_type": "code",
   "execution_count": null,
   "id": "5e1ac430",
   "metadata": {},
   "outputs": [],
   "source": [
    "out.loc[out['song_id']==22612,'genre_id'] = 1\n",
    "out.loc[out['song_id']==24013,'genre_id'] = 0"
   ]
  },
  {
   "cell_type": "code",
   "execution_count": null,
   "id": "9a9f1756",
   "metadata": {},
   "outputs": [],
   "source": [
    "out.head()"
   ]
  },
  {
   "cell_type": "code",
   "execution_count": null,
   "id": "bd83d031",
   "metadata": {},
   "outputs": [],
   "source": [
    "out['genre_id'] = out['genre_id'].astype(int)\n",
    "out.head()"
   ]
  },
  {
   "cell_type": "code",
   "execution_count": null,
   "id": "1d41fa50",
   "metadata": {},
   "outputs": [],
   "source": [
    "out.to_csv(f'C:/Users/Kaggle/Pog_Music_Classification/outputs/{kernel_type}/5Fold_meanprobs.csv',index=False)"
   ]
  },
  {
   "cell_type": "markdown",
   "id": "367c6e01",
   "metadata": {},
   "source": [
    "### Mode based sub"
   ]
  },
  {
   "cell_type": "code",
   "execution_count": null,
   "id": "9d470c4a",
   "metadata": {},
   "outputs": [],
   "source": [
    "out = submission.copy().drop('genre_id',1)\n",
    "for fld in range(5):\n",
    "    fname = pd.read_csv(f'C:/Users/Kaggle/Pog_Music_Classification/outputs/{kernel_type}/fold_{fld}.csv')\n",
    "    out = pd.merge(out,fname[['song_id','target']],on='song_id',how='left')\n",
    "    \n",
    "submission['genre_id']=out.drop('song_id',1).mode(1)[0]"
   ]
  },
  {
   "cell_type": "code",
   "execution_count": null,
   "id": "01a51537",
   "metadata": {},
   "outputs": [],
   "source": [
    "submission.loc[submission['song_id']==22612,'genre_id'] = 1\n",
    "submission.loc[submission['song_id']==24013,'genre_id'] = 0\n",
    "submission['genre_id'] = submission['genre_id'].astype(int)\n",
    "submission.to_csv(f'C:/Users/Kaggle/Pog_Music_Classification/outputs/{kernel_type}/5Fold_mode.csv',index=False)"
   ]
  },
  {
   "cell_type": "markdown",
   "id": "14319dab",
   "metadata": {},
   "source": [
    "### End ###"
   ]
  }
 ],
 "metadata": {
  "kernelspec": {
   "display_name": "Python 3 (ipykernel)",
   "language": "python",
   "name": "python3"
  },
  "language_info": {
   "codemirror_mode": {
    "name": "ipython",
    "version": 3
   },
   "file_extension": ".py",
   "mimetype": "text/x-python",
   "name": "python",
   "nbconvert_exporter": "python",
   "pygments_lexer": "ipython3",
   "version": "3.8.12"
  }
 },
 "nbformat": 4,
 "nbformat_minor": 5
}
